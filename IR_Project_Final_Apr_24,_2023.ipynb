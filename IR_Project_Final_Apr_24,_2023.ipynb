{
  "nbformat": 4,
  "nbformat_minor": 0,
  "metadata": {
    "colab": {
      "provenance": []
    },
    "kernelspec": {
      "name": "python3",
      "display_name": "Python 3"
    },
    "language_info": {
      "name": "python"
    }
  },
  "cells": [
    {
      "cell_type": "code",
      "execution_count": 9,
      "metadata": {
        "id": "hxxsIg8erg-h",
        "colab": {
          "base_uri": "https://localhost:8080/"
        },
        "outputId": "02c3a2b6-75f7-4355-ad82-01cdca5ff555"
      },
      "outputs": [
        {
          "output_type": "stream",
          "name": "stdout",
          "text": [
            "Drive already mounted at /content/drive; to attempt to forcibly remount, call drive.mount(\"/content/drive\", force_remount=True).\n"
          ]
        }
      ],
      "source": [
        "from google.colab import drive    #Mounting drive \n",
        "drive.mount('/content/drive')"
      ]
    },
    {
      "cell_type": "code",
      "source": [
        "data_dir = '/content/drive/MyDrive/Colab Notebooks/IR PROJECT'   # locating data directory(path)"
      ],
      "metadata": {
        "id": "T6hLnbujsX_H"
      },
      "execution_count": 10,
      "outputs": []
    },
    {
      "cell_type": "code",
      "source": [
        "import time\n",
        "import pandas as pd\n",
        "import numpy as np\n",
        "import nltk\n",
        "from matplotlib import pyplot as plt\n",
        "from nltk.corpus import stopwords\n",
        "from nltk.stem.porter import PorterStemmer\n",
        "from sklearn.feature_extraction.text import TfidfVectorizer\n",
        "from sklearn.pipeline import Pipeline\n",
        "from sklearn.model_selection import train_test_split\n",
        "from sklearn.model_selection import cross_val_score\n",
        "from sklearn.metrics import accuracy_score\n",
        "from sklearn.metrics import f1_score\n",
        "from sklearn.metrics import roc_auc_score\n",
        "from sklearn.metrics import precision_score\n",
        "from sklearn.metrics import recall_score\n",
        "from sklearn.metrics import classification_report\n",
        "!pip install pylanguagetool\n"
      ],
      "metadata": {
        "colab": {
          "base_uri": "https://localhost:8080/"
        },
        "id": "leUKtvTDslZY",
        "outputId": "7ff50e60-ab79-4871-f766-80ffec9aa3b7"
      },
      "execution_count": 11,
      "outputs": [
        {
          "output_type": "stream",
          "name": "stdout",
          "text": [
            "Looking in indexes: https://pypi.org/simple, https://us-python.pkg.dev/colab-wheels/public/simple/\n",
            "Requirement already satisfied: pylanguagetool in /usr/local/lib/python3.9/dist-packages (0.9.2)\n",
            "Requirement already satisfied: requests>=2.22.0 in /usr/local/lib/python3.9/dist-packages (from pylanguagetool) (2.27.1)\n",
            "Requirement already satisfied: colorama>=0.4.1 in /usr/local/lib/python3.9/dist-packages (from pylanguagetool) (0.4.6)\n",
            "Requirement already satisfied: configargparse>=0.14.0 in /usr/local/lib/python3.9/dist-packages (from pylanguagetool) (1.5.3)\n",
            "Requirement already satisfied: urllib3<1.27,>=1.21.1 in /usr/local/lib/python3.9/dist-packages (from requests>=2.22.0->pylanguagetool) (1.26.15)\n",
            "Requirement already satisfied: idna<4,>=2.5 in /usr/local/lib/python3.9/dist-packages (from requests>=2.22.0->pylanguagetool) (3.4)\n",
            "Requirement already satisfied: certifi>=2017.4.17 in /usr/local/lib/python3.9/dist-packages (from requests>=2.22.0->pylanguagetool) (2022.12.7)\n",
            "Requirement already satisfied: charset-normalizer~=2.0.0 in /usr/local/lib/python3.9/dist-packages (from requests>=2.22.0->pylanguagetool) (2.0.12)\n"
          ]
        }
      ]
    },
    {
      "cell_type": "code",
      "source": [
        "from sklearn.linear_model import LogisticRegression\n",
        "from sklearn.tree import DecisionTreeClassifier\n",
        "from sklearn.ensemble import RandomForestClassifier\n",
        "from sklearn.naive_bayes import MultinomialNB\n",
        "from sklearn import metrics\n",
        "from sklearn.metrics import confusion_matrix\n",
        "import seaborn as sns\n",
        "import nltk\n",
        "from nltk.sentiment import SentimentIntensityAnalyzer"
      ],
      "metadata": {
        "id": "FEM2p2ylspGn"
      },
      "execution_count": 12,
      "outputs": []
    },
    {
      "cell_type": "code",
      "source": [
        "import pandas as pd\n",
        "import numpy as np\n",
        "\n",
        "import tensorflow\n",
        "from tensorflow.keras.models import Sequential\n",
        "from tensorflow.keras.layers import Dense, Activation\n",
        "from tensorflow.keras.optimizers import SGD\n",
        "from tensorflow.keras.utils import to_categorical\n",
        "from sklearn.metrics import accuracy_score\n",
        "from sklearn.metrics import classification_report, confusion_matrix\n",
        "from matplotlib import pyplot"
      ],
      "metadata": {
        "id": "p79WKHF5nURS"
      },
      "execution_count": 13,
      "outputs": []
    },
    {
      "cell_type": "code",
      "source": [
        "data = pd.read_csv(f\"{data_dir}/fake reviews dataset_IRnew.csv\")   \n",
        "data # reading from csv file"
      ],
      "metadata": {
        "colab": {
          "base_uri": "https://localhost:8080/",
          "height": 424
        },
        "id": "RXz2RJUxtmp_",
        "outputId": "c52765ef-e198-4aca-9f96-74f41d1af035"
      },
      "execution_count": 14,
      "outputs": [
        {
          "output_type": "execute_result",
          "data": {
            "text/plain": [
              "                category  rating label  \\\n",
              "0     Home_and_Kitchen_5       5    CG   \n",
              "1     Home_and_Kitchen_5       5    CG   \n",
              "2     Home_and_Kitchen_5       5    CG   \n",
              "3     Home_and_Kitchen_5       1    CG   \n",
              "4     Home_and_Kitchen_5       5    CG   \n",
              "...                  ...     ...   ...   \n",
              "4051  Home_and_Kitchen_5       5    OR   \n",
              "4052  Home_and_Kitchen_5       5    CG   \n",
              "4053  Home_and_Kitchen_5       5    OR   \n",
              "4054  Home_and_Kitchen_5       5    CG   \n",
              "4055  Home_and_Kitchen_5       5    OR   \n",
              "\n",
              "                                                  text_  \n",
              "0     Love this!  Well made, sturdy, and very comfor...  \n",
              "1     love it, a great upgrade from the original.  I...  \n",
              "2     This pillow saved my back. I love the look and...  \n",
              "3     Missing information on how to use it, but it i...  \n",
              "4     Very nice set. Good quality. We have had the s...  \n",
              "...                                                 ...  \n",
              "4051  I bought this vacuum cleaner 3 months ago and ...  \n",
              "4052  I have a whole set of containers and they look...  \n",
              "4053  I purchased this after a friend recommended it...  \n",
              "4054  Well, I've been curious about this set and am ...  \n",
              "4055  I've had one of these for 3 years now, and wou...  \n",
              "\n",
              "[4056 rows x 4 columns]"
            ],
            "text/html": [
              "\n",
              "  <div id=\"df-690acba8-154a-457c-849b-1a5885dfacfa\">\n",
              "    <div class=\"colab-df-container\">\n",
              "      <div>\n",
              "<style scoped>\n",
              "    .dataframe tbody tr th:only-of-type {\n",
              "        vertical-align: middle;\n",
              "    }\n",
              "\n",
              "    .dataframe tbody tr th {\n",
              "        vertical-align: top;\n",
              "    }\n",
              "\n",
              "    .dataframe thead th {\n",
              "        text-align: right;\n",
              "    }\n",
              "</style>\n",
              "<table border=\"1\" class=\"dataframe\">\n",
              "  <thead>\n",
              "    <tr style=\"text-align: right;\">\n",
              "      <th></th>\n",
              "      <th>category</th>\n",
              "      <th>rating</th>\n",
              "      <th>label</th>\n",
              "      <th>text_</th>\n",
              "    </tr>\n",
              "  </thead>\n",
              "  <tbody>\n",
              "    <tr>\n",
              "      <th>0</th>\n",
              "      <td>Home_and_Kitchen_5</td>\n",
              "      <td>5</td>\n",
              "      <td>CG</td>\n",
              "      <td>Love this!  Well made, sturdy, and very comfor...</td>\n",
              "    </tr>\n",
              "    <tr>\n",
              "      <th>1</th>\n",
              "      <td>Home_and_Kitchen_5</td>\n",
              "      <td>5</td>\n",
              "      <td>CG</td>\n",
              "      <td>love it, a great upgrade from the original.  I...</td>\n",
              "    </tr>\n",
              "    <tr>\n",
              "      <th>2</th>\n",
              "      <td>Home_and_Kitchen_5</td>\n",
              "      <td>5</td>\n",
              "      <td>CG</td>\n",
              "      <td>This pillow saved my back. I love the look and...</td>\n",
              "    </tr>\n",
              "    <tr>\n",
              "      <th>3</th>\n",
              "      <td>Home_and_Kitchen_5</td>\n",
              "      <td>1</td>\n",
              "      <td>CG</td>\n",
              "      <td>Missing information on how to use it, but it i...</td>\n",
              "    </tr>\n",
              "    <tr>\n",
              "      <th>4</th>\n",
              "      <td>Home_and_Kitchen_5</td>\n",
              "      <td>5</td>\n",
              "      <td>CG</td>\n",
              "      <td>Very nice set. Good quality. We have had the s...</td>\n",
              "    </tr>\n",
              "    <tr>\n",
              "      <th>...</th>\n",
              "      <td>...</td>\n",
              "      <td>...</td>\n",
              "      <td>...</td>\n",
              "      <td>...</td>\n",
              "    </tr>\n",
              "    <tr>\n",
              "      <th>4051</th>\n",
              "      <td>Home_and_Kitchen_5</td>\n",
              "      <td>5</td>\n",
              "      <td>OR</td>\n",
              "      <td>I bought this vacuum cleaner 3 months ago and ...</td>\n",
              "    </tr>\n",
              "    <tr>\n",
              "      <th>4052</th>\n",
              "      <td>Home_and_Kitchen_5</td>\n",
              "      <td>5</td>\n",
              "      <td>CG</td>\n",
              "      <td>I have a whole set of containers and they look...</td>\n",
              "    </tr>\n",
              "    <tr>\n",
              "      <th>4053</th>\n",
              "      <td>Home_and_Kitchen_5</td>\n",
              "      <td>5</td>\n",
              "      <td>OR</td>\n",
              "      <td>I purchased this after a friend recommended it...</td>\n",
              "    </tr>\n",
              "    <tr>\n",
              "      <th>4054</th>\n",
              "      <td>Home_and_Kitchen_5</td>\n",
              "      <td>5</td>\n",
              "      <td>CG</td>\n",
              "      <td>Well, I've been curious about this set and am ...</td>\n",
              "    </tr>\n",
              "    <tr>\n",
              "      <th>4055</th>\n",
              "      <td>Home_and_Kitchen_5</td>\n",
              "      <td>5</td>\n",
              "      <td>OR</td>\n",
              "      <td>I've had one of these for 3 years now, and wou...</td>\n",
              "    </tr>\n",
              "  </tbody>\n",
              "</table>\n",
              "<p>4056 rows × 4 columns</p>\n",
              "</div>\n",
              "      <button class=\"colab-df-convert\" onclick=\"convertToInteractive('df-690acba8-154a-457c-849b-1a5885dfacfa')\"\n",
              "              title=\"Convert this dataframe to an interactive table.\"\n",
              "              style=\"display:none;\">\n",
              "        \n",
              "  <svg xmlns=\"http://www.w3.org/2000/svg\" height=\"24px\"viewBox=\"0 0 24 24\"\n",
              "       width=\"24px\">\n",
              "    <path d=\"M0 0h24v24H0V0z\" fill=\"none\"/>\n",
              "    <path d=\"M18.56 5.44l.94 2.06.94-2.06 2.06-.94-2.06-.94-.94-2.06-.94 2.06-2.06.94zm-11 1L8.5 8.5l.94-2.06 2.06-.94-2.06-.94L8.5 2.5l-.94 2.06-2.06.94zm10 10l.94 2.06.94-2.06 2.06-.94-2.06-.94-.94-2.06-.94 2.06-2.06.94z\"/><path d=\"M17.41 7.96l-1.37-1.37c-.4-.4-.92-.59-1.43-.59-.52 0-1.04.2-1.43.59L10.3 9.45l-7.72 7.72c-.78.78-.78 2.05 0 2.83L4 21.41c.39.39.9.59 1.41.59.51 0 1.02-.2 1.41-.59l7.78-7.78 2.81-2.81c.8-.78.8-2.07 0-2.86zM5.41 20L4 18.59l7.72-7.72 1.47 1.35L5.41 20z\"/>\n",
              "  </svg>\n",
              "      </button>\n",
              "      \n",
              "  <style>\n",
              "    .colab-df-container {\n",
              "      display:flex;\n",
              "      flex-wrap:wrap;\n",
              "      gap: 12px;\n",
              "    }\n",
              "\n",
              "    .colab-df-convert {\n",
              "      background-color: #E8F0FE;\n",
              "      border: none;\n",
              "      border-radius: 50%;\n",
              "      cursor: pointer;\n",
              "      display: none;\n",
              "      fill: #1967D2;\n",
              "      height: 32px;\n",
              "      padding: 0 0 0 0;\n",
              "      width: 32px;\n",
              "    }\n",
              "\n",
              "    .colab-df-convert:hover {\n",
              "      background-color: #E2EBFA;\n",
              "      box-shadow: 0px 1px 2px rgba(60, 64, 67, 0.3), 0px 1px 3px 1px rgba(60, 64, 67, 0.15);\n",
              "      fill: #174EA6;\n",
              "    }\n",
              "\n",
              "    [theme=dark] .colab-df-convert {\n",
              "      background-color: #3B4455;\n",
              "      fill: #D2E3FC;\n",
              "    }\n",
              "\n",
              "    [theme=dark] .colab-df-convert:hover {\n",
              "      background-color: #434B5C;\n",
              "      box-shadow: 0px 1px 3px 1px rgba(0, 0, 0, 0.15);\n",
              "      filter: drop-shadow(0px 1px 2px rgba(0, 0, 0, 0.3));\n",
              "      fill: #FFFFFF;\n",
              "    }\n",
              "  </style>\n",
              "\n",
              "      <script>\n",
              "        const buttonEl =\n",
              "          document.querySelector('#df-690acba8-154a-457c-849b-1a5885dfacfa button.colab-df-convert');\n",
              "        buttonEl.style.display =\n",
              "          google.colab.kernel.accessAllowed ? 'block' : 'none';\n",
              "\n",
              "        async function convertToInteractive(key) {\n",
              "          const element = document.querySelector('#df-690acba8-154a-457c-849b-1a5885dfacfa');\n",
              "          const dataTable =\n",
              "            await google.colab.kernel.invokeFunction('convertToInteractive',\n",
              "                                                     [key], {});\n",
              "          if (!dataTable) return;\n",
              "\n",
              "          const docLinkHtml = 'Like what you see? Visit the ' +\n",
              "            '<a target=\"_blank\" href=https://colab.research.google.com/notebooks/data_table.ipynb>data table notebook</a>'\n",
              "            + ' to learn more about interactive tables.';\n",
              "          element.innerHTML = '';\n",
              "          dataTable['output_type'] = 'display_data';\n",
              "          await google.colab.output.renderOutput(dataTable, element);\n",
              "          const docLink = document.createElement('div');\n",
              "          docLink.innerHTML = docLinkHtml;\n",
              "          element.appendChild(docLink);\n",
              "        }\n",
              "      </script>\n",
              "    </div>\n",
              "  </div>\n",
              "  "
            ]
          },
          "metadata": {},
          "execution_count": 14
        }
      ]
    },
    {
      "cell_type": "code",
      "source": [
        "# Determine the minimum review length threshold\n",
        "review_lengths = data['text_'].apply(len)"
      ],
      "metadata": {
        "id": "VoSmj8yWKn-A"
      },
      "execution_count": 15,
      "outputs": []
    },
    {
      "cell_type": "code",
      "source": [
        "# Define a function to classify reviews based on length\n",
        "def classify_review_by_length(text_):\n",
        "  if len(text_) > 150:\n",
        "    return 'Genuine'\n",
        "  else:\n",
        "    return 'Fake'"
      ],
      "metadata": {
        "id": "jTRKtIQJK56H"
      },
      "execution_count": 16,
      "outputs": []
    },
    {
      "cell_type": "code",
      "source": [
        "# Apply the classification function to the dataset\n",
        "data['review_class'] = data['text_'].apply(classify_review_by_length)\n"
      ],
      "metadata": {
        "id": "FIDyRWMqLI8u"
      },
      "execution_count": 17,
      "outputs": []
    },
    {
      "cell_type": "code",
      "source": [
        "# Display the results\n",
        "review_classes = data['review_class'].value_counts()\n",
        "print(\"Number of Genuine Reviews:\", review_classes['Genuine'])\n",
        "print(\"Number of Fake Reviews:\", review_classes['Fake'])\n",
        "print(\"Percentage of Genuine Reviews:\", round((review_classes['Genuine']/len(data))*100, 2), \"%\")\n",
        "print(\"Percentage of Fake Reviews:\", round((review_classes['Fake']/len(data))*100, 2), \"%\")\n"
      ],
      "metadata": {
        "colab": {
          "base_uri": "https://localhost:8080/"
        },
        "id": "eLV5cCKlLRZ9",
        "outputId": "e5895a3a-3621-4585-edc1-41c0c97af8c9"
      },
      "execution_count": 18,
      "outputs": [
        {
          "output_type": "stream",
          "name": "stdout",
          "text": [
            "Number of Genuine Reviews: 2283\n",
            "Number of Fake Reviews: 1773\n",
            "Percentage of Genuine Reviews: 56.29 %\n",
            "Percentage of Fake Reviews: 43.71 %\n"
          ]
        }
      ]
    },
    {
      "cell_type": "code",
      "source": [
        "data"
      ],
      "metadata": {
        "colab": {
          "base_uri": "https://localhost:8080/",
          "height": 424
        },
        "id": "0ymUrIvrgaUk",
        "outputId": "44bc5fdb-0a06-45eb-ad9a-5a95262d5c75"
      },
      "execution_count": 19,
      "outputs": [
        {
          "output_type": "execute_result",
          "data": {
            "text/plain": [
              "                category  rating label  \\\n",
              "0     Home_and_Kitchen_5       5    CG   \n",
              "1     Home_and_Kitchen_5       5    CG   \n",
              "2     Home_and_Kitchen_5       5    CG   \n",
              "3     Home_and_Kitchen_5       1    CG   \n",
              "4     Home_and_Kitchen_5       5    CG   \n",
              "...                  ...     ...   ...   \n",
              "4051  Home_and_Kitchen_5       5    OR   \n",
              "4052  Home_and_Kitchen_5       5    CG   \n",
              "4053  Home_and_Kitchen_5       5    OR   \n",
              "4054  Home_and_Kitchen_5       5    CG   \n",
              "4055  Home_and_Kitchen_5       5    OR   \n",
              "\n",
              "                                                  text_ review_class  \n",
              "0     Love this!  Well made, sturdy, and very comfor...         Fake  \n",
              "1     love it, a great upgrade from the original.  I...         Fake  \n",
              "2     This pillow saved my back. I love the look and...         Fake  \n",
              "3     Missing information on how to use it, but it i...         Fake  \n",
              "4     Very nice set. Good quality. We have had the s...         Fake  \n",
              "...                                                 ...          ...  \n",
              "4051  I bought this vacuum cleaner 3 months ago and ...      Genuine  \n",
              "4052  I have a whole set of containers and they look...      Genuine  \n",
              "4053  I purchased this after a friend recommended it...      Genuine  \n",
              "4054  Well, I've been curious about this set and am ...      Genuine  \n",
              "4055  I've had one of these for 3 years now, and wou...      Genuine  \n",
              "\n",
              "[4056 rows x 5 columns]"
            ],
            "text/html": [
              "\n",
              "  <div id=\"df-72cd6441-14fd-4326-870b-2d98c0317ddc\">\n",
              "    <div class=\"colab-df-container\">\n",
              "      <div>\n",
              "<style scoped>\n",
              "    .dataframe tbody tr th:only-of-type {\n",
              "        vertical-align: middle;\n",
              "    }\n",
              "\n",
              "    .dataframe tbody tr th {\n",
              "        vertical-align: top;\n",
              "    }\n",
              "\n",
              "    .dataframe thead th {\n",
              "        text-align: right;\n",
              "    }\n",
              "</style>\n",
              "<table border=\"1\" class=\"dataframe\">\n",
              "  <thead>\n",
              "    <tr style=\"text-align: right;\">\n",
              "      <th></th>\n",
              "      <th>category</th>\n",
              "      <th>rating</th>\n",
              "      <th>label</th>\n",
              "      <th>text_</th>\n",
              "      <th>review_class</th>\n",
              "    </tr>\n",
              "  </thead>\n",
              "  <tbody>\n",
              "    <tr>\n",
              "      <th>0</th>\n",
              "      <td>Home_and_Kitchen_5</td>\n",
              "      <td>5</td>\n",
              "      <td>CG</td>\n",
              "      <td>Love this!  Well made, sturdy, and very comfor...</td>\n",
              "      <td>Fake</td>\n",
              "    </tr>\n",
              "    <tr>\n",
              "      <th>1</th>\n",
              "      <td>Home_and_Kitchen_5</td>\n",
              "      <td>5</td>\n",
              "      <td>CG</td>\n",
              "      <td>love it, a great upgrade from the original.  I...</td>\n",
              "      <td>Fake</td>\n",
              "    </tr>\n",
              "    <tr>\n",
              "      <th>2</th>\n",
              "      <td>Home_and_Kitchen_5</td>\n",
              "      <td>5</td>\n",
              "      <td>CG</td>\n",
              "      <td>This pillow saved my back. I love the look and...</td>\n",
              "      <td>Fake</td>\n",
              "    </tr>\n",
              "    <tr>\n",
              "      <th>3</th>\n",
              "      <td>Home_and_Kitchen_5</td>\n",
              "      <td>1</td>\n",
              "      <td>CG</td>\n",
              "      <td>Missing information on how to use it, but it i...</td>\n",
              "      <td>Fake</td>\n",
              "    </tr>\n",
              "    <tr>\n",
              "      <th>4</th>\n",
              "      <td>Home_and_Kitchen_5</td>\n",
              "      <td>5</td>\n",
              "      <td>CG</td>\n",
              "      <td>Very nice set. Good quality. We have had the s...</td>\n",
              "      <td>Fake</td>\n",
              "    </tr>\n",
              "    <tr>\n",
              "      <th>...</th>\n",
              "      <td>...</td>\n",
              "      <td>...</td>\n",
              "      <td>...</td>\n",
              "      <td>...</td>\n",
              "      <td>...</td>\n",
              "    </tr>\n",
              "    <tr>\n",
              "      <th>4051</th>\n",
              "      <td>Home_and_Kitchen_5</td>\n",
              "      <td>5</td>\n",
              "      <td>OR</td>\n",
              "      <td>I bought this vacuum cleaner 3 months ago and ...</td>\n",
              "      <td>Genuine</td>\n",
              "    </tr>\n",
              "    <tr>\n",
              "      <th>4052</th>\n",
              "      <td>Home_and_Kitchen_5</td>\n",
              "      <td>5</td>\n",
              "      <td>CG</td>\n",
              "      <td>I have a whole set of containers and they look...</td>\n",
              "      <td>Genuine</td>\n",
              "    </tr>\n",
              "    <tr>\n",
              "      <th>4053</th>\n",
              "      <td>Home_and_Kitchen_5</td>\n",
              "      <td>5</td>\n",
              "      <td>OR</td>\n",
              "      <td>I purchased this after a friend recommended it...</td>\n",
              "      <td>Genuine</td>\n",
              "    </tr>\n",
              "    <tr>\n",
              "      <th>4054</th>\n",
              "      <td>Home_and_Kitchen_5</td>\n",
              "      <td>5</td>\n",
              "      <td>CG</td>\n",
              "      <td>Well, I've been curious about this set and am ...</td>\n",
              "      <td>Genuine</td>\n",
              "    </tr>\n",
              "    <tr>\n",
              "      <th>4055</th>\n",
              "      <td>Home_and_Kitchen_5</td>\n",
              "      <td>5</td>\n",
              "      <td>OR</td>\n",
              "      <td>I've had one of these for 3 years now, and wou...</td>\n",
              "      <td>Genuine</td>\n",
              "    </tr>\n",
              "  </tbody>\n",
              "</table>\n",
              "<p>4056 rows × 5 columns</p>\n",
              "</div>\n",
              "      <button class=\"colab-df-convert\" onclick=\"convertToInteractive('df-72cd6441-14fd-4326-870b-2d98c0317ddc')\"\n",
              "              title=\"Convert this dataframe to an interactive table.\"\n",
              "              style=\"display:none;\">\n",
              "        \n",
              "  <svg xmlns=\"http://www.w3.org/2000/svg\" height=\"24px\"viewBox=\"0 0 24 24\"\n",
              "       width=\"24px\">\n",
              "    <path d=\"M0 0h24v24H0V0z\" fill=\"none\"/>\n",
              "    <path d=\"M18.56 5.44l.94 2.06.94-2.06 2.06-.94-2.06-.94-.94-2.06-.94 2.06-2.06.94zm-11 1L8.5 8.5l.94-2.06 2.06-.94-2.06-.94L8.5 2.5l-.94 2.06-2.06.94zm10 10l.94 2.06.94-2.06 2.06-.94-2.06-.94-.94-2.06-.94 2.06-2.06.94z\"/><path d=\"M17.41 7.96l-1.37-1.37c-.4-.4-.92-.59-1.43-.59-.52 0-1.04.2-1.43.59L10.3 9.45l-7.72 7.72c-.78.78-.78 2.05 0 2.83L4 21.41c.39.39.9.59 1.41.59.51 0 1.02-.2 1.41-.59l7.78-7.78 2.81-2.81c.8-.78.8-2.07 0-2.86zM5.41 20L4 18.59l7.72-7.72 1.47 1.35L5.41 20z\"/>\n",
              "  </svg>\n",
              "      </button>\n",
              "      \n",
              "  <style>\n",
              "    .colab-df-container {\n",
              "      display:flex;\n",
              "      flex-wrap:wrap;\n",
              "      gap: 12px;\n",
              "    }\n",
              "\n",
              "    .colab-df-convert {\n",
              "      background-color: #E8F0FE;\n",
              "      border: none;\n",
              "      border-radius: 50%;\n",
              "      cursor: pointer;\n",
              "      display: none;\n",
              "      fill: #1967D2;\n",
              "      height: 32px;\n",
              "      padding: 0 0 0 0;\n",
              "      width: 32px;\n",
              "    }\n",
              "\n",
              "    .colab-df-convert:hover {\n",
              "      background-color: #E2EBFA;\n",
              "      box-shadow: 0px 1px 2px rgba(60, 64, 67, 0.3), 0px 1px 3px 1px rgba(60, 64, 67, 0.15);\n",
              "      fill: #174EA6;\n",
              "    }\n",
              "\n",
              "    [theme=dark] .colab-df-convert {\n",
              "      background-color: #3B4455;\n",
              "      fill: #D2E3FC;\n",
              "    }\n",
              "\n",
              "    [theme=dark] .colab-df-convert:hover {\n",
              "      background-color: #434B5C;\n",
              "      box-shadow: 0px 1px 3px 1px rgba(0, 0, 0, 0.15);\n",
              "      filter: drop-shadow(0px 1px 2px rgba(0, 0, 0, 0.3));\n",
              "      fill: #FFFFFF;\n",
              "    }\n",
              "  </style>\n",
              "\n",
              "      <script>\n",
              "        const buttonEl =\n",
              "          document.querySelector('#df-72cd6441-14fd-4326-870b-2d98c0317ddc button.colab-df-convert');\n",
              "        buttonEl.style.display =\n",
              "          google.colab.kernel.accessAllowed ? 'block' : 'none';\n",
              "\n",
              "        async function convertToInteractive(key) {\n",
              "          const element = document.querySelector('#df-72cd6441-14fd-4326-870b-2d98c0317ddc');\n",
              "          const dataTable =\n",
              "            await google.colab.kernel.invokeFunction('convertToInteractive',\n",
              "                                                     [key], {});\n",
              "          if (!dataTable) return;\n",
              "\n",
              "          const docLinkHtml = 'Like what you see? Visit the ' +\n",
              "            '<a target=\"_blank\" href=https://colab.research.google.com/notebooks/data_table.ipynb>data table notebook</a>'\n",
              "            + ' to learn more about interactive tables.';\n",
              "          element.innerHTML = '';\n",
              "          dataTable['output_type'] = 'display_data';\n",
              "          await google.colab.output.renderOutput(dataTable, element);\n",
              "          const docLink = document.createElement('div');\n",
              "          docLink.innerHTML = docLinkHtml;\n",
              "          element.appendChild(docLink);\n",
              "        }\n",
              "      </script>\n",
              "    </div>\n",
              "  </div>\n",
              "  "
            ]
          },
          "metadata": {},
          "execution_count": 19
        }
      ]
    },
    {
      "cell_type": "code",
      "source": [
        "data['label'].value_counts()"
      ],
      "metadata": {
        "colab": {
          "base_uri": "https://localhost:8080/"
        },
        "id": "JdnuXhbOvSGF",
        "outputId": "379b0fee-678b-4c8f-d75f-d7c4d2556fa3"
      },
      "execution_count": 20,
      "outputs": [
        {
          "output_type": "execute_result",
          "data": {
            "text/plain": [
              "CG    2028\n",
              "OR    2028\n",
              "Name: label, dtype: int64"
            ]
          },
          "metadata": {},
          "execution_count": 20
        }
      ]
    },
    {
      "cell_type": "code",
      "source": [
        "data['text_'] = data['text_'].str.replace('\\n', ' ')#strip out the \\n newline character present and convert it to a space using str.replace().\n",
        "data.head()"
      ],
      "metadata": {
        "colab": {
          "base_uri": "https://localhost:8080/",
          "height": 206
        },
        "id": "WJf1piOYxIp2",
        "outputId": "d1370225-e3c2-4632-b87e-43a77a8633a3"
      },
      "execution_count": 21,
      "outputs": [
        {
          "output_type": "execute_result",
          "data": {
            "text/plain": [
              "             category  rating label  \\\n",
              "0  Home_and_Kitchen_5       5    CG   \n",
              "1  Home_and_Kitchen_5       5    CG   \n",
              "2  Home_and_Kitchen_5       5    CG   \n",
              "3  Home_and_Kitchen_5       1    CG   \n",
              "4  Home_and_Kitchen_5       5    CG   \n",
              "\n",
              "                                               text_ review_class  \n",
              "0  Love this!  Well made, sturdy, and very comfor...         Fake  \n",
              "1  love it, a great upgrade from the original.  I...         Fake  \n",
              "2  This pillow saved my back. I love the look and...         Fake  \n",
              "3  Missing information on how to use it, but it i...         Fake  \n",
              "4  Very nice set. Good quality. We have had the s...         Fake  "
            ],
            "text/html": [
              "\n",
              "  <div id=\"df-2e5cb56a-7d5a-469e-a135-8ef8ec1a7e41\">\n",
              "    <div class=\"colab-df-container\">\n",
              "      <div>\n",
              "<style scoped>\n",
              "    .dataframe tbody tr th:only-of-type {\n",
              "        vertical-align: middle;\n",
              "    }\n",
              "\n",
              "    .dataframe tbody tr th {\n",
              "        vertical-align: top;\n",
              "    }\n",
              "\n",
              "    .dataframe thead th {\n",
              "        text-align: right;\n",
              "    }\n",
              "</style>\n",
              "<table border=\"1\" class=\"dataframe\">\n",
              "  <thead>\n",
              "    <tr style=\"text-align: right;\">\n",
              "      <th></th>\n",
              "      <th>category</th>\n",
              "      <th>rating</th>\n",
              "      <th>label</th>\n",
              "      <th>text_</th>\n",
              "      <th>review_class</th>\n",
              "    </tr>\n",
              "  </thead>\n",
              "  <tbody>\n",
              "    <tr>\n",
              "      <th>0</th>\n",
              "      <td>Home_and_Kitchen_5</td>\n",
              "      <td>5</td>\n",
              "      <td>CG</td>\n",
              "      <td>Love this!  Well made, sturdy, and very comfor...</td>\n",
              "      <td>Fake</td>\n",
              "    </tr>\n",
              "    <tr>\n",
              "      <th>1</th>\n",
              "      <td>Home_and_Kitchen_5</td>\n",
              "      <td>5</td>\n",
              "      <td>CG</td>\n",
              "      <td>love it, a great upgrade from the original.  I...</td>\n",
              "      <td>Fake</td>\n",
              "    </tr>\n",
              "    <tr>\n",
              "      <th>2</th>\n",
              "      <td>Home_and_Kitchen_5</td>\n",
              "      <td>5</td>\n",
              "      <td>CG</td>\n",
              "      <td>This pillow saved my back. I love the look and...</td>\n",
              "      <td>Fake</td>\n",
              "    </tr>\n",
              "    <tr>\n",
              "      <th>3</th>\n",
              "      <td>Home_and_Kitchen_5</td>\n",
              "      <td>1</td>\n",
              "      <td>CG</td>\n",
              "      <td>Missing information on how to use it, but it i...</td>\n",
              "      <td>Fake</td>\n",
              "    </tr>\n",
              "    <tr>\n",
              "      <th>4</th>\n",
              "      <td>Home_and_Kitchen_5</td>\n",
              "      <td>5</td>\n",
              "      <td>CG</td>\n",
              "      <td>Very nice set. Good quality. We have had the s...</td>\n",
              "      <td>Fake</td>\n",
              "    </tr>\n",
              "  </tbody>\n",
              "</table>\n",
              "</div>\n",
              "      <button class=\"colab-df-convert\" onclick=\"convertToInteractive('df-2e5cb56a-7d5a-469e-a135-8ef8ec1a7e41')\"\n",
              "              title=\"Convert this dataframe to an interactive table.\"\n",
              "              style=\"display:none;\">\n",
              "        \n",
              "  <svg xmlns=\"http://www.w3.org/2000/svg\" height=\"24px\"viewBox=\"0 0 24 24\"\n",
              "       width=\"24px\">\n",
              "    <path d=\"M0 0h24v24H0V0z\" fill=\"none\"/>\n",
              "    <path d=\"M18.56 5.44l.94 2.06.94-2.06 2.06-.94-2.06-.94-.94-2.06-.94 2.06-2.06.94zm-11 1L8.5 8.5l.94-2.06 2.06-.94-2.06-.94L8.5 2.5l-.94 2.06-2.06.94zm10 10l.94 2.06.94-2.06 2.06-.94-2.06-.94-.94-2.06-.94 2.06-2.06.94z\"/><path d=\"M17.41 7.96l-1.37-1.37c-.4-.4-.92-.59-1.43-.59-.52 0-1.04.2-1.43.59L10.3 9.45l-7.72 7.72c-.78.78-.78 2.05 0 2.83L4 21.41c.39.39.9.59 1.41.59.51 0 1.02-.2 1.41-.59l7.78-7.78 2.81-2.81c.8-.78.8-2.07 0-2.86zM5.41 20L4 18.59l7.72-7.72 1.47 1.35L5.41 20z\"/>\n",
              "  </svg>\n",
              "      </button>\n",
              "      \n",
              "  <style>\n",
              "    .colab-df-container {\n",
              "      display:flex;\n",
              "      flex-wrap:wrap;\n",
              "      gap: 12px;\n",
              "    }\n",
              "\n",
              "    .colab-df-convert {\n",
              "      background-color: #E8F0FE;\n",
              "      border: none;\n",
              "      border-radius: 50%;\n",
              "      cursor: pointer;\n",
              "      display: none;\n",
              "      fill: #1967D2;\n",
              "      height: 32px;\n",
              "      padding: 0 0 0 0;\n",
              "      width: 32px;\n",
              "    }\n",
              "\n",
              "    .colab-df-convert:hover {\n",
              "      background-color: #E2EBFA;\n",
              "      box-shadow: 0px 1px 2px rgba(60, 64, 67, 0.3), 0px 1px 3px 1px rgba(60, 64, 67, 0.15);\n",
              "      fill: #174EA6;\n",
              "    }\n",
              "\n",
              "    [theme=dark] .colab-df-convert {\n",
              "      background-color: #3B4455;\n",
              "      fill: #D2E3FC;\n",
              "    }\n",
              "\n",
              "    [theme=dark] .colab-df-convert:hover {\n",
              "      background-color: #434B5C;\n",
              "      box-shadow: 0px 1px 3px 1px rgba(0, 0, 0, 0.15);\n",
              "      filter: drop-shadow(0px 1px 2px rgba(0, 0, 0, 0.3));\n",
              "      fill: #FFFFFF;\n",
              "    }\n",
              "  </style>\n",
              "\n",
              "      <script>\n",
              "        const buttonEl =\n",
              "          document.querySelector('#df-2e5cb56a-7d5a-469e-a135-8ef8ec1a7e41 button.colab-df-convert');\n",
              "        buttonEl.style.display =\n",
              "          google.colab.kernel.accessAllowed ? 'block' : 'none';\n",
              "\n",
              "        async function convertToInteractive(key) {\n",
              "          const element = document.querySelector('#df-2e5cb56a-7d5a-469e-a135-8ef8ec1a7e41');\n",
              "          const dataTable =\n",
              "            await google.colab.kernel.invokeFunction('convertToInteractive',\n",
              "                                                     [key], {});\n",
              "          if (!dataTable) return;\n",
              "\n",
              "          const docLinkHtml = 'Like what you see? Visit the ' +\n",
              "            '<a target=\"_blank\" href=https://colab.research.google.com/notebooks/data_table.ipynb>data table notebook</a>'\n",
              "            + ' to learn more about interactive tables.';\n",
              "          element.innerHTML = '';\n",
              "          dataTable['output_type'] = 'display_data';\n",
              "          await google.colab.output.renderOutput(dataTable, element);\n",
              "          const docLink = document.createElement('div');\n",
              "          docLink.innerHTML = docLinkHtml;\n",
              "          element.appendChild(docLink);\n",
              "        }\n",
              "      </script>\n",
              "    </div>\n",
              "  </div>\n",
              "  "
            ]
          },
          "metadata": {},
          "execution_count": 21
        }
      ]
    },
    {
      "cell_type": "code",
      "source": [
        "data['label'].value_counts()"
      ],
      "metadata": {
        "colab": {
          "base_uri": "https://localhost:8080/"
        },
        "id": "VdLPRd1UxVdd",
        "outputId": "e9d786fd-6c24-414b-c442-4e647cf3719c"
      },
      "execution_count": 22,
      "outputs": [
        {
          "output_type": "execute_result",
          "data": {
            "text/plain": [
              "CG    2028\n",
              "OR    2028\n",
              "Name: label, dtype: int64"
            ]
          },
          "metadata": {},
          "execution_count": 22
        }
      ]
    },
    {
      "cell_type": "code",
      "source": [
        "data['target'] = np.where(data['label']=='CG', 0, 1)\n",
        "data.head()"
      ],
      "metadata": {
        "colab": {
          "base_uri": "https://localhost:8080/",
          "height": 206
        },
        "id": "sTMoVy8HxYNd",
        "outputId": "b958179a-136a-4bb4-a361-e00ab1575960"
      },
      "execution_count": 23,
      "outputs": [
        {
          "output_type": "execute_result",
          "data": {
            "text/plain": [
              "             category  rating label  \\\n",
              "0  Home_and_Kitchen_5       5    CG   \n",
              "1  Home_and_Kitchen_5       5    CG   \n",
              "2  Home_and_Kitchen_5       5    CG   \n",
              "3  Home_and_Kitchen_5       1    CG   \n",
              "4  Home_and_Kitchen_5       5    CG   \n",
              "\n",
              "                                               text_ review_class  target  \n",
              "0  Love this!  Well made, sturdy, and very comfor...         Fake       0  \n",
              "1  love it, a great upgrade from the original.  I...         Fake       0  \n",
              "2  This pillow saved my back. I love the look and...         Fake       0  \n",
              "3  Missing information on how to use it, but it i...         Fake       0  \n",
              "4  Very nice set. Good quality. We have had the s...         Fake       0  "
            ],
            "text/html": [
              "\n",
              "  <div id=\"df-1f5b2e95-61c5-4491-8691-18a48e5ccb22\">\n",
              "    <div class=\"colab-df-container\">\n",
              "      <div>\n",
              "<style scoped>\n",
              "    .dataframe tbody tr th:only-of-type {\n",
              "        vertical-align: middle;\n",
              "    }\n",
              "\n",
              "    .dataframe tbody tr th {\n",
              "        vertical-align: top;\n",
              "    }\n",
              "\n",
              "    .dataframe thead th {\n",
              "        text-align: right;\n",
              "    }\n",
              "</style>\n",
              "<table border=\"1\" class=\"dataframe\">\n",
              "  <thead>\n",
              "    <tr style=\"text-align: right;\">\n",
              "      <th></th>\n",
              "      <th>category</th>\n",
              "      <th>rating</th>\n",
              "      <th>label</th>\n",
              "      <th>text_</th>\n",
              "      <th>review_class</th>\n",
              "      <th>target</th>\n",
              "    </tr>\n",
              "  </thead>\n",
              "  <tbody>\n",
              "    <tr>\n",
              "      <th>0</th>\n",
              "      <td>Home_and_Kitchen_5</td>\n",
              "      <td>5</td>\n",
              "      <td>CG</td>\n",
              "      <td>Love this!  Well made, sturdy, and very comfor...</td>\n",
              "      <td>Fake</td>\n",
              "      <td>0</td>\n",
              "    </tr>\n",
              "    <tr>\n",
              "      <th>1</th>\n",
              "      <td>Home_and_Kitchen_5</td>\n",
              "      <td>5</td>\n",
              "      <td>CG</td>\n",
              "      <td>love it, a great upgrade from the original.  I...</td>\n",
              "      <td>Fake</td>\n",
              "      <td>0</td>\n",
              "    </tr>\n",
              "    <tr>\n",
              "      <th>2</th>\n",
              "      <td>Home_and_Kitchen_5</td>\n",
              "      <td>5</td>\n",
              "      <td>CG</td>\n",
              "      <td>This pillow saved my back. I love the look and...</td>\n",
              "      <td>Fake</td>\n",
              "      <td>0</td>\n",
              "    </tr>\n",
              "    <tr>\n",
              "      <th>3</th>\n",
              "      <td>Home_and_Kitchen_5</td>\n",
              "      <td>1</td>\n",
              "      <td>CG</td>\n",
              "      <td>Missing information on how to use it, but it i...</td>\n",
              "      <td>Fake</td>\n",
              "      <td>0</td>\n",
              "    </tr>\n",
              "    <tr>\n",
              "      <th>4</th>\n",
              "      <td>Home_and_Kitchen_5</td>\n",
              "      <td>5</td>\n",
              "      <td>CG</td>\n",
              "      <td>Very nice set. Good quality. We have had the s...</td>\n",
              "      <td>Fake</td>\n",
              "      <td>0</td>\n",
              "    </tr>\n",
              "  </tbody>\n",
              "</table>\n",
              "</div>\n",
              "      <button class=\"colab-df-convert\" onclick=\"convertToInteractive('df-1f5b2e95-61c5-4491-8691-18a48e5ccb22')\"\n",
              "              title=\"Convert this dataframe to an interactive table.\"\n",
              "              style=\"display:none;\">\n",
              "        \n",
              "  <svg xmlns=\"http://www.w3.org/2000/svg\" height=\"24px\"viewBox=\"0 0 24 24\"\n",
              "       width=\"24px\">\n",
              "    <path d=\"M0 0h24v24H0V0z\" fill=\"none\"/>\n",
              "    <path d=\"M18.56 5.44l.94 2.06.94-2.06 2.06-.94-2.06-.94-.94-2.06-.94 2.06-2.06.94zm-11 1L8.5 8.5l.94-2.06 2.06-.94-2.06-.94L8.5 2.5l-.94 2.06-2.06.94zm10 10l.94 2.06.94-2.06 2.06-.94-2.06-.94-.94-2.06-.94 2.06-2.06.94z\"/><path d=\"M17.41 7.96l-1.37-1.37c-.4-.4-.92-.59-1.43-.59-.52 0-1.04.2-1.43.59L10.3 9.45l-7.72 7.72c-.78.78-.78 2.05 0 2.83L4 21.41c.39.39.9.59 1.41.59.51 0 1.02-.2 1.41-.59l7.78-7.78 2.81-2.81c.8-.78.8-2.07 0-2.86zM5.41 20L4 18.59l7.72-7.72 1.47 1.35L5.41 20z\"/>\n",
              "  </svg>\n",
              "      </button>\n",
              "      \n",
              "  <style>\n",
              "    .colab-df-container {\n",
              "      display:flex;\n",
              "      flex-wrap:wrap;\n",
              "      gap: 12px;\n",
              "    }\n",
              "\n",
              "    .colab-df-convert {\n",
              "      background-color: #E8F0FE;\n",
              "      border: none;\n",
              "      border-radius: 50%;\n",
              "      cursor: pointer;\n",
              "      display: none;\n",
              "      fill: #1967D2;\n",
              "      height: 32px;\n",
              "      padding: 0 0 0 0;\n",
              "      width: 32px;\n",
              "    }\n",
              "\n",
              "    .colab-df-convert:hover {\n",
              "      background-color: #E2EBFA;\n",
              "      box-shadow: 0px 1px 2px rgba(60, 64, 67, 0.3), 0px 1px 3px 1px rgba(60, 64, 67, 0.15);\n",
              "      fill: #174EA6;\n",
              "    }\n",
              "\n",
              "    [theme=dark] .colab-df-convert {\n",
              "      background-color: #3B4455;\n",
              "      fill: #D2E3FC;\n",
              "    }\n",
              "\n",
              "    [theme=dark] .colab-df-convert:hover {\n",
              "      background-color: #434B5C;\n",
              "      box-shadow: 0px 1px 3px 1px rgba(0, 0, 0, 0.15);\n",
              "      filter: drop-shadow(0px 1px 2px rgba(0, 0, 0, 0.3));\n",
              "      fill: #FFFFFF;\n",
              "    }\n",
              "  </style>\n",
              "\n",
              "      <script>\n",
              "        const buttonEl =\n",
              "          document.querySelector('#df-1f5b2e95-61c5-4491-8691-18a48e5ccb22 button.colab-df-convert');\n",
              "        buttonEl.style.display =\n",
              "          google.colab.kernel.accessAllowed ? 'block' : 'none';\n",
              "\n",
              "        async function convertToInteractive(key) {\n",
              "          const element = document.querySelector('#df-1f5b2e95-61c5-4491-8691-18a48e5ccb22');\n",
              "          const dataTable =\n",
              "            await google.colab.kernel.invokeFunction('convertToInteractive',\n",
              "                                                     [key], {});\n",
              "          if (!dataTable) return;\n",
              "\n",
              "          const docLinkHtml = 'Like what you see? Visit the ' +\n",
              "            '<a target=\"_blank\" href=https://colab.research.google.com/notebooks/data_table.ipynb>data table notebook</a>'\n",
              "            + ' to learn more about interactive tables.';\n",
              "          element.innerHTML = '';\n",
              "          dataTable['output_type'] = 'display_data';\n",
              "          await google.colab.output.renderOutput(dataTable, element);\n",
              "          const docLink = document.createElement('div');\n",
              "          docLink.innerHTML = docLinkHtml;\n",
              "          element.appendChild(docLink);\n",
              "        }\n",
              "      </script>\n",
              "    </div>\n",
              "  </div>\n",
              "  "
            ]
          },
          "metadata": {},
          "execution_count": 23
        }
      ]
    },
    {
      "cell_type": "code",
      "source": [
        "data['rev_cls'] = np.where(data['review_class']=='Fake', 0, 1)\n",
        "data.head()"
      ],
      "metadata": {
        "colab": {
          "base_uri": "https://localhost:8080/",
          "height": 206
        },
        "id": "jBSWnR8MiUMm",
        "outputId": "428b6dfa-d3d0-4001-9714-e77a66fe2fb2"
      },
      "execution_count": 24,
      "outputs": [
        {
          "output_type": "execute_result",
          "data": {
            "text/plain": [
              "             category  rating label  \\\n",
              "0  Home_and_Kitchen_5       5    CG   \n",
              "1  Home_and_Kitchen_5       5    CG   \n",
              "2  Home_and_Kitchen_5       5    CG   \n",
              "3  Home_and_Kitchen_5       1    CG   \n",
              "4  Home_and_Kitchen_5       5    CG   \n",
              "\n",
              "                                               text_ review_class  target  \\\n",
              "0  Love this!  Well made, sturdy, and very comfor...         Fake       0   \n",
              "1  love it, a great upgrade from the original.  I...         Fake       0   \n",
              "2  This pillow saved my back. I love the look and...         Fake       0   \n",
              "3  Missing information on how to use it, but it i...         Fake       0   \n",
              "4  Very nice set. Good quality. We have had the s...         Fake       0   \n",
              "\n",
              "   rev_cls  \n",
              "0        0  \n",
              "1        0  \n",
              "2        0  \n",
              "3        0  \n",
              "4        0  "
            ],
            "text/html": [
              "\n",
              "  <div id=\"df-7c022106-327e-4dea-a944-9ccb22a151de\">\n",
              "    <div class=\"colab-df-container\">\n",
              "      <div>\n",
              "<style scoped>\n",
              "    .dataframe tbody tr th:only-of-type {\n",
              "        vertical-align: middle;\n",
              "    }\n",
              "\n",
              "    .dataframe tbody tr th {\n",
              "        vertical-align: top;\n",
              "    }\n",
              "\n",
              "    .dataframe thead th {\n",
              "        text-align: right;\n",
              "    }\n",
              "</style>\n",
              "<table border=\"1\" class=\"dataframe\">\n",
              "  <thead>\n",
              "    <tr style=\"text-align: right;\">\n",
              "      <th></th>\n",
              "      <th>category</th>\n",
              "      <th>rating</th>\n",
              "      <th>label</th>\n",
              "      <th>text_</th>\n",
              "      <th>review_class</th>\n",
              "      <th>target</th>\n",
              "      <th>rev_cls</th>\n",
              "    </tr>\n",
              "  </thead>\n",
              "  <tbody>\n",
              "    <tr>\n",
              "      <th>0</th>\n",
              "      <td>Home_and_Kitchen_5</td>\n",
              "      <td>5</td>\n",
              "      <td>CG</td>\n",
              "      <td>Love this!  Well made, sturdy, and very comfor...</td>\n",
              "      <td>Fake</td>\n",
              "      <td>0</td>\n",
              "      <td>0</td>\n",
              "    </tr>\n",
              "    <tr>\n",
              "      <th>1</th>\n",
              "      <td>Home_and_Kitchen_5</td>\n",
              "      <td>5</td>\n",
              "      <td>CG</td>\n",
              "      <td>love it, a great upgrade from the original.  I...</td>\n",
              "      <td>Fake</td>\n",
              "      <td>0</td>\n",
              "      <td>0</td>\n",
              "    </tr>\n",
              "    <tr>\n",
              "      <th>2</th>\n",
              "      <td>Home_and_Kitchen_5</td>\n",
              "      <td>5</td>\n",
              "      <td>CG</td>\n",
              "      <td>This pillow saved my back. I love the look and...</td>\n",
              "      <td>Fake</td>\n",
              "      <td>0</td>\n",
              "      <td>0</td>\n",
              "    </tr>\n",
              "    <tr>\n",
              "      <th>3</th>\n",
              "      <td>Home_and_Kitchen_5</td>\n",
              "      <td>1</td>\n",
              "      <td>CG</td>\n",
              "      <td>Missing information on how to use it, but it i...</td>\n",
              "      <td>Fake</td>\n",
              "      <td>0</td>\n",
              "      <td>0</td>\n",
              "    </tr>\n",
              "    <tr>\n",
              "      <th>4</th>\n",
              "      <td>Home_and_Kitchen_5</td>\n",
              "      <td>5</td>\n",
              "      <td>CG</td>\n",
              "      <td>Very nice set. Good quality. We have had the s...</td>\n",
              "      <td>Fake</td>\n",
              "      <td>0</td>\n",
              "      <td>0</td>\n",
              "    </tr>\n",
              "  </tbody>\n",
              "</table>\n",
              "</div>\n",
              "      <button class=\"colab-df-convert\" onclick=\"convertToInteractive('df-7c022106-327e-4dea-a944-9ccb22a151de')\"\n",
              "              title=\"Convert this dataframe to an interactive table.\"\n",
              "              style=\"display:none;\">\n",
              "        \n",
              "  <svg xmlns=\"http://www.w3.org/2000/svg\" height=\"24px\"viewBox=\"0 0 24 24\"\n",
              "       width=\"24px\">\n",
              "    <path d=\"M0 0h24v24H0V0z\" fill=\"none\"/>\n",
              "    <path d=\"M18.56 5.44l.94 2.06.94-2.06 2.06-.94-2.06-.94-.94-2.06-.94 2.06-2.06.94zm-11 1L8.5 8.5l.94-2.06 2.06-.94-2.06-.94L8.5 2.5l-.94 2.06-2.06.94zm10 10l.94 2.06.94-2.06 2.06-.94-2.06-.94-.94-2.06-.94 2.06-2.06.94z\"/><path d=\"M17.41 7.96l-1.37-1.37c-.4-.4-.92-.59-1.43-.59-.52 0-1.04.2-1.43.59L10.3 9.45l-7.72 7.72c-.78.78-.78 2.05 0 2.83L4 21.41c.39.39.9.59 1.41.59.51 0 1.02-.2 1.41-.59l7.78-7.78 2.81-2.81c.8-.78.8-2.07 0-2.86zM5.41 20L4 18.59l7.72-7.72 1.47 1.35L5.41 20z\"/>\n",
              "  </svg>\n",
              "      </button>\n",
              "      \n",
              "  <style>\n",
              "    .colab-df-container {\n",
              "      display:flex;\n",
              "      flex-wrap:wrap;\n",
              "      gap: 12px;\n",
              "    }\n",
              "\n",
              "    .colab-df-convert {\n",
              "      background-color: #E8F0FE;\n",
              "      border: none;\n",
              "      border-radius: 50%;\n",
              "      cursor: pointer;\n",
              "      display: none;\n",
              "      fill: #1967D2;\n",
              "      height: 32px;\n",
              "      padding: 0 0 0 0;\n",
              "      width: 32px;\n",
              "    }\n",
              "\n",
              "    .colab-df-convert:hover {\n",
              "      background-color: #E2EBFA;\n",
              "      box-shadow: 0px 1px 2px rgba(60, 64, 67, 0.3), 0px 1px 3px 1px rgba(60, 64, 67, 0.15);\n",
              "      fill: #174EA6;\n",
              "    }\n",
              "\n",
              "    [theme=dark] .colab-df-convert {\n",
              "      background-color: #3B4455;\n",
              "      fill: #D2E3FC;\n",
              "    }\n",
              "\n",
              "    [theme=dark] .colab-df-convert:hover {\n",
              "      background-color: #434B5C;\n",
              "      box-shadow: 0px 1px 3px 1px rgba(0, 0, 0, 0.15);\n",
              "      filter: drop-shadow(0px 1px 2px rgba(0, 0, 0, 0.3));\n",
              "      fill: #FFFFFF;\n",
              "    }\n",
              "  </style>\n",
              "\n",
              "      <script>\n",
              "        const buttonEl =\n",
              "          document.querySelector('#df-7c022106-327e-4dea-a944-9ccb22a151de button.colab-df-convert');\n",
              "        buttonEl.style.display =\n",
              "          google.colab.kernel.accessAllowed ? 'block' : 'none';\n",
              "\n",
              "        async function convertToInteractive(key) {\n",
              "          const element = document.querySelector('#df-7c022106-327e-4dea-a944-9ccb22a151de');\n",
              "          const dataTable =\n",
              "            await google.colab.kernel.invokeFunction('convertToInteractive',\n",
              "                                                     [key], {});\n",
              "          if (!dataTable) return;\n",
              "\n",
              "          const docLinkHtml = 'Like what you see? Visit the ' +\n",
              "            '<a target=\"_blank\" href=https://colab.research.google.com/notebooks/data_table.ipynb>data table notebook</a>'\n",
              "            + ' to learn more about interactive tables.';\n",
              "          element.innerHTML = '';\n",
              "          dataTable['output_type'] = 'display_data';\n",
              "          await google.colab.output.renderOutput(dataTable, element);\n",
              "          const docLink = document.createElement('div');\n",
              "          docLink.innerHTML = docLinkHtml;\n",
              "          element.appendChild(docLink);\n",
              "        }\n",
              "      </script>\n",
              "    </div>\n",
              "  </div>\n",
              "  "
            ]
          },
          "metadata": {},
          "execution_count": 24
        }
      ]
    },
    {
      "cell_type": "code",
      "source": [
        "data['target'].value_counts()"
      ],
      "metadata": {
        "colab": {
          "base_uri": "https://localhost:8080/"
        },
        "id": "sRqDK0xoxhJF",
        "outputId": "1077115e-2180-4612-c039-b8d68c01082d"
      },
      "execution_count": 25,
      "outputs": [
        {
          "output_type": "execute_result",
          "data": {
            "text/plain": [
              "0    2028\n",
              "1    2028\n",
              "Name: target, dtype: int64"
            ]
          },
          "metadata": {},
          "execution_count": 25
        }
      ]
    },
    {
      "cell_type": "code",
      "source": [
        "import re"
      ],
      "metadata": {
        "id": "z1KLNq1lxmOF"
      },
      "execution_count": 26,
      "outputs": []
    },
    {
      "cell_type": "code",
      "source": [
        "def punctuation_to_features(data, column):  \n",
        "    \n",
        "    data[column] = data[column].replace('!', ' exclamation ')\n",
        "    data[column] = data[column].replace('?', ' question ')\n",
        "    data[column] = data[column].replace('\\'', ' quotation ')\n",
        "    data[column] = data[column].replace('\\\"', ' quotation ')\n",
        "    \n",
        "    return data[column]\n",
        "data['text_'] = punctuation_to_features(data, 'text_')"
      ],
      "metadata": {
        "id": "woj6W5S5xonl"
      },
      "execution_count": 27,
      "outputs": []
    },
    {
      "cell_type": "code",
      "source": [
        "nltk.download('punkt');\n",
        "\n",
        "def tokenize(column):\n",
        "   \n",
        "    \n",
        "    tokens = nltk.word_tokenize(column)\n",
        "    return [w for w in tokens if w.isalpha()] "
      ],
      "metadata": {
        "colab": {
          "base_uri": "https://localhost:8080/"
        },
        "id": "ieu3pSmFxxGG",
        "outputId": "7e9f4125-9dc2-4a67-8f19-0bca36676f1a"
      },
      "execution_count": 28,
      "outputs": [
        {
          "output_type": "stream",
          "name": "stderr",
          "text": [
            "[nltk_data] Downloading package punkt to /root/nltk_data...\n",
            "[nltk_data]   Unzipping tokenizers/punkt.zip.\n"
          ]
        }
      ]
    },
    {
      "cell_type": "code",
      "source": [
        "data['tokenized'] = data.apply(lambda x: tokenize(x['text_']), axis=1)\n",
        "data.head()"
      ],
      "metadata": {
        "colab": {
          "base_uri": "https://localhost:8080/",
          "height": 206
        },
        "id": "BFcs81B4xzs1",
        "outputId": "8baad464-8aa3-4ec9-9702-a82a77057a83"
      },
      "execution_count": 29,
      "outputs": [
        {
          "output_type": "execute_result",
          "data": {
            "text/plain": [
              "             category  rating label  \\\n",
              "0  Home_and_Kitchen_5       5    CG   \n",
              "1  Home_and_Kitchen_5       5    CG   \n",
              "2  Home_and_Kitchen_5       5    CG   \n",
              "3  Home_and_Kitchen_5       1    CG   \n",
              "4  Home_and_Kitchen_5       5    CG   \n",
              "\n",
              "                                               text_ review_class  target  \\\n",
              "0  Love this!  Well made, sturdy, and very comfor...         Fake       0   \n",
              "1  love it, a great upgrade from the original.  I...         Fake       0   \n",
              "2  This pillow saved my back. I love the look and...         Fake       0   \n",
              "3  Missing information on how to use it, but it i...         Fake       0   \n",
              "4  Very nice set. Good quality. We have had the s...         Fake       0   \n",
              "\n",
              "   rev_cls                                          tokenized  \n",
              "0        0  [Love, this, Well, made, sturdy, and, very, co...  \n",
              "1        0  [love, it, a, great, upgrade, from, the, origi...  \n",
              "2        0  [This, pillow, saved, my, back, I, love, the, ...  \n",
              "3        0  [Missing, information, on, how, to, use, it, b...  \n",
              "4        0  [Very, nice, set, Good, quality, We, have, had...  "
            ],
            "text/html": [
              "\n",
              "  <div id=\"df-7932d825-2917-4c02-b63b-b9d4dd3d62da\">\n",
              "    <div class=\"colab-df-container\">\n",
              "      <div>\n",
              "<style scoped>\n",
              "    .dataframe tbody tr th:only-of-type {\n",
              "        vertical-align: middle;\n",
              "    }\n",
              "\n",
              "    .dataframe tbody tr th {\n",
              "        vertical-align: top;\n",
              "    }\n",
              "\n",
              "    .dataframe thead th {\n",
              "        text-align: right;\n",
              "    }\n",
              "</style>\n",
              "<table border=\"1\" class=\"dataframe\">\n",
              "  <thead>\n",
              "    <tr style=\"text-align: right;\">\n",
              "      <th></th>\n",
              "      <th>category</th>\n",
              "      <th>rating</th>\n",
              "      <th>label</th>\n",
              "      <th>text_</th>\n",
              "      <th>review_class</th>\n",
              "      <th>target</th>\n",
              "      <th>rev_cls</th>\n",
              "      <th>tokenized</th>\n",
              "    </tr>\n",
              "  </thead>\n",
              "  <tbody>\n",
              "    <tr>\n",
              "      <th>0</th>\n",
              "      <td>Home_and_Kitchen_5</td>\n",
              "      <td>5</td>\n",
              "      <td>CG</td>\n",
              "      <td>Love this!  Well made, sturdy, and very comfor...</td>\n",
              "      <td>Fake</td>\n",
              "      <td>0</td>\n",
              "      <td>0</td>\n",
              "      <td>[Love, this, Well, made, sturdy, and, very, co...</td>\n",
              "    </tr>\n",
              "    <tr>\n",
              "      <th>1</th>\n",
              "      <td>Home_and_Kitchen_5</td>\n",
              "      <td>5</td>\n",
              "      <td>CG</td>\n",
              "      <td>love it, a great upgrade from the original.  I...</td>\n",
              "      <td>Fake</td>\n",
              "      <td>0</td>\n",
              "      <td>0</td>\n",
              "      <td>[love, it, a, great, upgrade, from, the, origi...</td>\n",
              "    </tr>\n",
              "    <tr>\n",
              "      <th>2</th>\n",
              "      <td>Home_and_Kitchen_5</td>\n",
              "      <td>5</td>\n",
              "      <td>CG</td>\n",
              "      <td>This pillow saved my back. I love the look and...</td>\n",
              "      <td>Fake</td>\n",
              "      <td>0</td>\n",
              "      <td>0</td>\n",
              "      <td>[This, pillow, saved, my, back, I, love, the, ...</td>\n",
              "    </tr>\n",
              "    <tr>\n",
              "      <th>3</th>\n",
              "      <td>Home_and_Kitchen_5</td>\n",
              "      <td>1</td>\n",
              "      <td>CG</td>\n",
              "      <td>Missing information on how to use it, but it i...</td>\n",
              "      <td>Fake</td>\n",
              "      <td>0</td>\n",
              "      <td>0</td>\n",
              "      <td>[Missing, information, on, how, to, use, it, b...</td>\n",
              "    </tr>\n",
              "    <tr>\n",
              "      <th>4</th>\n",
              "      <td>Home_and_Kitchen_5</td>\n",
              "      <td>5</td>\n",
              "      <td>CG</td>\n",
              "      <td>Very nice set. Good quality. We have had the s...</td>\n",
              "      <td>Fake</td>\n",
              "      <td>0</td>\n",
              "      <td>0</td>\n",
              "      <td>[Very, nice, set, Good, quality, We, have, had...</td>\n",
              "    </tr>\n",
              "  </tbody>\n",
              "</table>\n",
              "</div>\n",
              "      <button class=\"colab-df-convert\" onclick=\"convertToInteractive('df-7932d825-2917-4c02-b63b-b9d4dd3d62da')\"\n",
              "              title=\"Convert this dataframe to an interactive table.\"\n",
              "              style=\"display:none;\">\n",
              "        \n",
              "  <svg xmlns=\"http://www.w3.org/2000/svg\" height=\"24px\"viewBox=\"0 0 24 24\"\n",
              "       width=\"24px\">\n",
              "    <path d=\"M0 0h24v24H0V0z\" fill=\"none\"/>\n",
              "    <path d=\"M18.56 5.44l.94 2.06.94-2.06 2.06-.94-2.06-.94-.94-2.06-.94 2.06-2.06.94zm-11 1L8.5 8.5l.94-2.06 2.06-.94-2.06-.94L8.5 2.5l-.94 2.06-2.06.94zm10 10l.94 2.06.94-2.06 2.06-.94-2.06-.94-.94-2.06-.94 2.06-2.06.94z\"/><path d=\"M17.41 7.96l-1.37-1.37c-.4-.4-.92-.59-1.43-.59-.52 0-1.04.2-1.43.59L10.3 9.45l-7.72 7.72c-.78.78-.78 2.05 0 2.83L4 21.41c.39.39.9.59 1.41.59.51 0 1.02-.2 1.41-.59l7.78-7.78 2.81-2.81c.8-.78.8-2.07 0-2.86zM5.41 20L4 18.59l7.72-7.72 1.47 1.35L5.41 20z\"/>\n",
              "  </svg>\n",
              "      </button>\n",
              "      \n",
              "  <style>\n",
              "    .colab-df-container {\n",
              "      display:flex;\n",
              "      flex-wrap:wrap;\n",
              "      gap: 12px;\n",
              "    }\n",
              "\n",
              "    .colab-df-convert {\n",
              "      background-color: #E8F0FE;\n",
              "      border: none;\n",
              "      border-radius: 50%;\n",
              "      cursor: pointer;\n",
              "      display: none;\n",
              "      fill: #1967D2;\n",
              "      height: 32px;\n",
              "      padding: 0 0 0 0;\n",
              "      width: 32px;\n",
              "    }\n",
              "\n",
              "    .colab-df-convert:hover {\n",
              "      background-color: #E2EBFA;\n",
              "      box-shadow: 0px 1px 2px rgba(60, 64, 67, 0.3), 0px 1px 3px 1px rgba(60, 64, 67, 0.15);\n",
              "      fill: #174EA6;\n",
              "    }\n",
              "\n",
              "    [theme=dark] .colab-df-convert {\n",
              "      background-color: #3B4455;\n",
              "      fill: #D2E3FC;\n",
              "    }\n",
              "\n",
              "    [theme=dark] .colab-df-convert:hover {\n",
              "      background-color: #434B5C;\n",
              "      box-shadow: 0px 1px 3px 1px rgba(0, 0, 0, 0.15);\n",
              "      filter: drop-shadow(0px 1px 2px rgba(0, 0, 0, 0.3));\n",
              "      fill: #FFFFFF;\n",
              "    }\n",
              "  </style>\n",
              "\n",
              "      <script>\n",
              "        const buttonEl =\n",
              "          document.querySelector('#df-7932d825-2917-4c02-b63b-b9d4dd3d62da button.colab-df-convert');\n",
              "        buttonEl.style.display =\n",
              "          google.colab.kernel.accessAllowed ? 'block' : 'none';\n",
              "\n",
              "        async function convertToInteractive(key) {\n",
              "          const element = document.querySelector('#df-7932d825-2917-4c02-b63b-b9d4dd3d62da');\n",
              "          const dataTable =\n",
              "            await google.colab.kernel.invokeFunction('convertToInteractive',\n",
              "                                                     [key], {});\n",
              "          if (!dataTable) return;\n",
              "\n",
              "          const docLinkHtml = 'Like what you see? Visit the ' +\n",
              "            '<a target=\"_blank\" href=https://colab.research.google.com/notebooks/data_table.ipynb>data table notebook</a>'\n",
              "            + ' to learn more about interactive tables.';\n",
              "          element.innerHTML = '';\n",
              "          dataTable['output_type'] = 'display_data';\n",
              "          await google.colab.output.renderOutput(dataTable, element);\n",
              "          const docLink = document.createElement('div');\n",
              "          docLink.innerHTML = docLinkHtml;\n",
              "          element.appendChild(docLink);\n",
              "        }\n",
              "      </script>\n",
              "    </div>\n",
              "  </div>\n",
              "  "
            ]
          },
          "metadata": {},
          "execution_count": 29
        }
      ]
    },
    {
      "cell_type": "code",
      "source": [
        "def remove_stopwords(tokenized_column):\n",
        "    \n",
        "    stops = set(stopwords.words(\"english\"))\n",
        "    return [word for word in tokenized_column if not word in stops]\n"
      ],
      "metadata": {
        "id": "W_fV5pP-x4uW"
      },
      "execution_count": 30,
      "outputs": []
    },
    {
      "cell_type": "code",
      "source": [
        "nltk.download('stopwords')\n",
        "data['stopwords_removed'] = data.apply(lambda x: remove_stopwords(x['tokenized']), axis=1)\n",
        "data.head()"
      ],
      "metadata": {
        "colab": {
          "base_uri": "https://localhost:8080/",
          "height": 372
        },
        "id": "aU_YkUXXx7kl",
        "outputId": "7760b9b2-f926-42e0-9f3b-928210b3d2a9"
      },
      "execution_count": 31,
      "outputs": [
        {
          "output_type": "stream",
          "name": "stderr",
          "text": [
            "[nltk_data] Downloading package stopwords to /root/nltk_data...\n",
            "[nltk_data]   Unzipping corpora/stopwords.zip.\n"
          ]
        },
        {
          "output_type": "execute_result",
          "data": {
            "text/plain": [
              "             category  rating label  \\\n",
              "0  Home_and_Kitchen_5       5    CG   \n",
              "1  Home_and_Kitchen_5       5    CG   \n",
              "2  Home_and_Kitchen_5       5    CG   \n",
              "3  Home_and_Kitchen_5       1    CG   \n",
              "4  Home_and_Kitchen_5       5    CG   \n",
              "\n",
              "                                               text_ review_class  target  \\\n",
              "0  Love this!  Well made, sturdy, and very comfor...         Fake       0   \n",
              "1  love it, a great upgrade from the original.  I...         Fake       0   \n",
              "2  This pillow saved my back. I love the look and...         Fake       0   \n",
              "3  Missing information on how to use it, but it i...         Fake       0   \n",
              "4  Very nice set. Good quality. We have had the s...         Fake       0   \n",
              "\n",
              "   rev_cls                                          tokenized  \\\n",
              "0        0  [Love, this, Well, made, sturdy, and, very, co...   \n",
              "1        0  [love, it, a, great, upgrade, from, the, origi...   \n",
              "2        0  [This, pillow, saved, my, back, I, love, the, ...   \n",
              "3        0  [Missing, information, on, how, to, use, it, b...   \n",
              "4        0  [Very, nice, set, Good, quality, We, have, had...   \n",
              "\n",
              "                                   stopwords_removed  \n",
              "0  [Love, Well, made, sturdy, comfortable, I, lov...  \n",
              "1  [love, great, upgrade, original, I, mine, coup...  \n",
              "2  [This, pillow, saved, back, I, love, look, fee...  \n",
              "3  [Missing, information, use, great, product, pr...  \n",
              "4  [Very, nice, set, Good, quality, We, set, two,...  "
            ],
            "text/html": [
              "\n",
              "  <div id=\"df-4e221a94-b50e-4fbb-b808-7b34c032f3da\">\n",
              "    <div class=\"colab-df-container\">\n",
              "      <div>\n",
              "<style scoped>\n",
              "    .dataframe tbody tr th:only-of-type {\n",
              "        vertical-align: middle;\n",
              "    }\n",
              "\n",
              "    .dataframe tbody tr th {\n",
              "        vertical-align: top;\n",
              "    }\n",
              "\n",
              "    .dataframe thead th {\n",
              "        text-align: right;\n",
              "    }\n",
              "</style>\n",
              "<table border=\"1\" class=\"dataframe\">\n",
              "  <thead>\n",
              "    <tr style=\"text-align: right;\">\n",
              "      <th></th>\n",
              "      <th>category</th>\n",
              "      <th>rating</th>\n",
              "      <th>label</th>\n",
              "      <th>text_</th>\n",
              "      <th>review_class</th>\n",
              "      <th>target</th>\n",
              "      <th>rev_cls</th>\n",
              "      <th>tokenized</th>\n",
              "      <th>stopwords_removed</th>\n",
              "    </tr>\n",
              "  </thead>\n",
              "  <tbody>\n",
              "    <tr>\n",
              "      <th>0</th>\n",
              "      <td>Home_and_Kitchen_5</td>\n",
              "      <td>5</td>\n",
              "      <td>CG</td>\n",
              "      <td>Love this!  Well made, sturdy, and very comfor...</td>\n",
              "      <td>Fake</td>\n",
              "      <td>0</td>\n",
              "      <td>0</td>\n",
              "      <td>[Love, this, Well, made, sturdy, and, very, co...</td>\n",
              "      <td>[Love, Well, made, sturdy, comfortable, I, lov...</td>\n",
              "    </tr>\n",
              "    <tr>\n",
              "      <th>1</th>\n",
              "      <td>Home_and_Kitchen_5</td>\n",
              "      <td>5</td>\n",
              "      <td>CG</td>\n",
              "      <td>love it, a great upgrade from the original.  I...</td>\n",
              "      <td>Fake</td>\n",
              "      <td>0</td>\n",
              "      <td>0</td>\n",
              "      <td>[love, it, a, great, upgrade, from, the, origi...</td>\n",
              "      <td>[love, great, upgrade, original, I, mine, coup...</td>\n",
              "    </tr>\n",
              "    <tr>\n",
              "      <th>2</th>\n",
              "      <td>Home_and_Kitchen_5</td>\n",
              "      <td>5</td>\n",
              "      <td>CG</td>\n",
              "      <td>This pillow saved my back. I love the look and...</td>\n",
              "      <td>Fake</td>\n",
              "      <td>0</td>\n",
              "      <td>0</td>\n",
              "      <td>[This, pillow, saved, my, back, I, love, the, ...</td>\n",
              "      <td>[This, pillow, saved, back, I, love, look, fee...</td>\n",
              "    </tr>\n",
              "    <tr>\n",
              "      <th>3</th>\n",
              "      <td>Home_and_Kitchen_5</td>\n",
              "      <td>1</td>\n",
              "      <td>CG</td>\n",
              "      <td>Missing information on how to use it, but it i...</td>\n",
              "      <td>Fake</td>\n",
              "      <td>0</td>\n",
              "      <td>0</td>\n",
              "      <td>[Missing, information, on, how, to, use, it, b...</td>\n",
              "      <td>[Missing, information, use, great, product, pr...</td>\n",
              "    </tr>\n",
              "    <tr>\n",
              "      <th>4</th>\n",
              "      <td>Home_and_Kitchen_5</td>\n",
              "      <td>5</td>\n",
              "      <td>CG</td>\n",
              "      <td>Very nice set. Good quality. We have had the s...</td>\n",
              "      <td>Fake</td>\n",
              "      <td>0</td>\n",
              "      <td>0</td>\n",
              "      <td>[Very, nice, set, Good, quality, We, have, had...</td>\n",
              "      <td>[Very, nice, set, Good, quality, We, set, two,...</td>\n",
              "    </tr>\n",
              "  </tbody>\n",
              "</table>\n",
              "</div>\n",
              "      <button class=\"colab-df-convert\" onclick=\"convertToInteractive('df-4e221a94-b50e-4fbb-b808-7b34c032f3da')\"\n",
              "              title=\"Convert this dataframe to an interactive table.\"\n",
              "              style=\"display:none;\">\n",
              "        \n",
              "  <svg xmlns=\"http://www.w3.org/2000/svg\" height=\"24px\"viewBox=\"0 0 24 24\"\n",
              "       width=\"24px\">\n",
              "    <path d=\"M0 0h24v24H0V0z\" fill=\"none\"/>\n",
              "    <path d=\"M18.56 5.44l.94 2.06.94-2.06 2.06-.94-2.06-.94-.94-2.06-.94 2.06-2.06.94zm-11 1L8.5 8.5l.94-2.06 2.06-.94-2.06-.94L8.5 2.5l-.94 2.06-2.06.94zm10 10l.94 2.06.94-2.06 2.06-.94-2.06-.94-.94-2.06-.94 2.06-2.06.94z\"/><path d=\"M17.41 7.96l-1.37-1.37c-.4-.4-.92-.59-1.43-.59-.52 0-1.04.2-1.43.59L10.3 9.45l-7.72 7.72c-.78.78-.78 2.05 0 2.83L4 21.41c.39.39.9.59 1.41.59.51 0 1.02-.2 1.41-.59l7.78-7.78 2.81-2.81c.8-.78.8-2.07 0-2.86zM5.41 20L4 18.59l7.72-7.72 1.47 1.35L5.41 20z\"/>\n",
              "  </svg>\n",
              "      </button>\n",
              "      \n",
              "  <style>\n",
              "    .colab-df-container {\n",
              "      display:flex;\n",
              "      flex-wrap:wrap;\n",
              "      gap: 12px;\n",
              "    }\n",
              "\n",
              "    .colab-df-convert {\n",
              "      background-color: #E8F0FE;\n",
              "      border: none;\n",
              "      border-radius: 50%;\n",
              "      cursor: pointer;\n",
              "      display: none;\n",
              "      fill: #1967D2;\n",
              "      height: 32px;\n",
              "      padding: 0 0 0 0;\n",
              "      width: 32px;\n",
              "    }\n",
              "\n",
              "    .colab-df-convert:hover {\n",
              "      background-color: #E2EBFA;\n",
              "      box-shadow: 0px 1px 2px rgba(60, 64, 67, 0.3), 0px 1px 3px 1px rgba(60, 64, 67, 0.15);\n",
              "      fill: #174EA6;\n",
              "    }\n",
              "\n",
              "    [theme=dark] .colab-df-convert {\n",
              "      background-color: #3B4455;\n",
              "      fill: #D2E3FC;\n",
              "    }\n",
              "\n",
              "    [theme=dark] .colab-df-convert:hover {\n",
              "      background-color: #434B5C;\n",
              "      box-shadow: 0px 1px 3px 1px rgba(0, 0, 0, 0.15);\n",
              "      filter: drop-shadow(0px 1px 2px rgba(0, 0, 0, 0.3));\n",
              "      fill: #FFFFFF;\n",
              "    }\n",
              "  </style>\n",
              "\n",
              "      <script>\n",
              "        const buttonEl =\n",
              "          document.querySelector('#df-4e221a94-b50e-4fbb-b808-7b34c032f3da button.colab-df-convert');\n",
              "        buttonEl.style.display =\n",
              "          google.colab.kernel.accessAllowed ? 'block' : 'none';\n",
              "\n",
              "        async function convertToInteractive(key) {\n",
              "          const element = document.querySelector('#df-4e221a94-b50e-4fbb-b808-7b34c032f3da');\n",
              "          const dataTable =\n",
              "            await google.colab.kernel.invokeFunction('convertToInteractive',\n",
              "                                                     [key], {});\n",
              "          if (!dataTable) return;\n",
              "\n",
              "          const docLinkHtml = 'Like what you see? Visit the ' +\n",
              "            '<a target=\"_blank\" href=https://colab.research.google.com/notebooks/data_table.ipynb>data table notebook</a>'\n",
              "            + ' to learn more about interactive tables.';\n",
              "          element.innerHTML = '';\n",
              "          dataTable['output_type'] = 'display_data';\n",
              "          await google.colab.output.renderOutput(dataTable, element);\n",
              "          const docLink = document.createElement('div');\n",
              "          docLink.innerHTML = docLinkHtml;\n",
              "          element.appendChild(docLink);\n",
              "        }\n",
              "      </script>\n",
              "    </div>\n",
              "  </div>\n",
              "  "
            ]
          },
          "metadata": {},
          "execution_count": 31
        }
      ]
    },
    {
      "cell_type": "code",
      "source": [
        "def apply_stemming(tokenized_column):\n",
        "    \n",
        "    stemmer = PorterStemmer() \n",
        "    return [stemmer.stem(word).lower() for word in tokenized_column]\n",
        "data['porter_stemmed'] = data.apply(lambda x: apply_stemming(x['stopwords_removed']), axis=1)\n",
        "data.head()"
      ],
      "metadata": {
        "colab": {
          "base_uri": "https://localhost:8080/",
          "height": 337
        },
        "id": "fI99q8Hdx-dt",
        "outputId": "0cd8edfb-7350-4936-87ac-892f6ae3cc84"
      },
      "execution_count": 32,
      "outputs": [
        {
          "output_type": "execute_result",
          "data": {
            "text/plain": [
              "             category  rating label  \\\n",
              "0  Home_and_Kitchen_5       5    CG   \n",
              "1  Home_and_Kitchen_5       5    CG   \n",
              "2  Home_and_Kitchen_5       5    CG   \n",
              "3  Home_and_Kitchen_5       1    CG   \n",
              "4  Home_and_Kitchen_5       5    CG   \n",
              "\n",
              "                                               text_ review_class  target  \\\n",
              "0  Love this!  Well made, sturdy, and very comfor...         Fake       0   \n",
              "1  love it, a great upgrade from the original.  I...         Fake       0   \n",
              "2  This pillow saved my back. I love the look and...         Fake       0   \n",
              "3  Missing information on how to use it, but it i...         Fake       0   \n",
              "4  Very nice set. Good quality. We have had the s...         Fake       0   \n",
              "\n",
              "   rev_cls                                          tokenized  \\\n",
              "0        0  [Love, this, Well, made, sturdy, and, very, co...   \n",
              "1        0  [love, it, a, great, upgrade, from, the, origi...   \n",
              "2        0  [This, pillow, saved, my, back, I, love, the, ...   \n",
              "3        0  [Missing, information, on, how, to, use, it, b...   \n",
              "4        0  [Very, nice, set, Good, quality, We, have, had...   \n",
              "\n",
              "                                   stopwords_removed  \\\n",
              "0  [Love, Well, made, sturdy, comfortable, I, lov...   \n",
              "1  [love, great, upgrade, original, I, mine, coup...   \n",
              "2  [This, pillow, saved, back, I, love, look, fee...   \n",
              "3  [Missing, information, use, great, product, pr...   \n",
              "4  [Very, nice, set, Good, quality, We, set, two,...   \n",
              "\n",
              "                                      porter_stemmed  \n",
              "0  [love, well, made, sturdi, comfort, i, love, v...  \n",
              "1  [love, great, upgrad, origin, i, mine, coupl, ...  \n",
              "2  [thi, pillow, save, back, i, love, look, feel,...  \n",
              "3      [miss, inform, use, great, product, price, i]  \n",
              "4  [veri, nice, set, good, qualiti, we, set, two,...  "
            ],
            "text/html": [
              "\n",
              "  <div id=\"df-482d0e86-0242-40aa-88e6-5987ba946bc3\">\n",
              "    <div class=\"colab-df-container\">\n",
              "      <div>\n",
              "<style scoped>\n",
              "    .dataframe tbody tr th:only-of-type {\n",
              "        vertical-align: middle;\n",
              "    }\n",
              "\n",
              "    .dataframe tbody tr th {\n",
              "        vertical-align: top;\n",
              "    }\n",
              "\n",
              "    .dataframe thead th {\n",
              "        text-align: right;\n",
              "    }\n",
              "</style>\n",
              "<table border=\"1\" class=\"dataframe\">\n",
              "  <thead>\n",
              "    <tr style=\"text-align: right;\">\n",
              "      <th></th>\n",
              "      <th>category</th>\n",
              "      <th>rating</th>\n",
              "      <th>label</th>\n",
              "      <th>text_</th>\n",
              "      <th>review_class</th>\n",
              "      <th>target</th>\n",
              "      <th>rev_cls</th>\n",
              "      <th>tokenized</th>\n",
              "      <th>stopwords_removed</th>\n",
              "      <th>porter_stemmed</th>\n",
              "    </tr>\n",
              "  </thead>\n",
              "  <tbody>\n",
              "    <tr>\n",
              "      <th>0</th>\n",
              "      <td>Home_and_Kitchen_5</td>\n",
              "      <td>5</td>\n",
              "      <td>CG</td>\n",
              "      <td>Love this!  Well made, sturdy, and very comfor...</td>\n",
              "      <td>Fake</td>\n",
              "      <td>0</td>\n",
              "      <td>0</td>\n",
              "      <td>[Love, this, Well, made, sturdy, and, very, co...</td>\n",
              "      <td>[Love, Well, made, sturdy, comfortable, I, lov...</td>\n",
              "      <td>[love, well, made, sturdi, comfort, i, love, v...</td>\n",
              "    </tr>\n",
              "    <tr>\n",
              "      <th>1</th>\n",
              "      <td>Home_and_Kitchen_5</td>\n",
              "      <td>5</td>\n",
              "      <td>CG</td>\n",
              "      <td>love it, a great upgrade from the original.  I...</td>\n",
              "      <td>Fake</td>\n",
              "      <td>0</td>\n",
              "      <td>0</td>\n",
              "      <td>[love, it, a, great, upgrade, from, the, origi...</td>\n",
              "      <td>[love, great, upgrade, original, I, mine, coup...</td>\n",
              "      <td>[love, great, upgrad, origin, i, mine, coupl, ...</td>\n",
              "    </tr>\n",
              "    <tr>\n",
              "      <th>2</th>\n",
              "      <td>Home_and_Kitchen_5</td>\n",
              "      <td>5</td>\n",
              "      <td>CG</td>\n",
              "      <td>This pillow saved my back. I love the look and...</td>\n",
              "      <td>Fake</td>\n",
              "      <td>0</td>\n",
              "      <td>0</td>\n",
              "      <td>[This, pillow, saved, my, back, I, love, the, ...</td>\n",
              "      <td>[This, pillow, saved, back, I, love, look, fee...</td>\n",
              "      <td>[thi, pillow, save, back, i, love, look, feel,...</td>\n",
              "    </tr>\n",
              "    <tr>\n",
              "      <th>3</th>\n",
              "      <td>Home_and_Kitchen_5</td>\n",
              "      <td>1</td>\n",
              "      <td>CG</td>\n",
              "      <td>Missing information on how to use it, but it i...</td>\n",
              "      <td>Fake</td>\n",
              "      <td>0</td>\n",
              "      <td>0</td>\n",
              "      <td>[Missing, information, on, how, to, use, it, b...</td>\n",
              "      <td>[Missing, information, use, great, product, pr...</td>\n",
              "      <td>[miss, inform, use, great, product, price, i]</td>\n",
              "    </tr>\n",
              "    <tr>\n",
              "      <th>4</th>\n",
              "      <td>Home_and_Kitchen_5</td>\n",
              "      <td>5</td>\n",
              "      <td>CG</td>\n",
              "      <td>Very nice set. Good quality. We have had the s...</td>\n",
              "      <td>Fake</td>\n",
              "      <td>0</td>\n",
              "      <td>0</td>\n",
              "      <td>[Very, nice, set, Good, quality, We, have, had...</td>\n",
              "      <td>[Very, nice, set, Good, quality, We, set, two,...</td>\n",
              "      <td>[veri, nice, set, good, qualiti, we, set, two,...</td>\n",
              "    </tr>\n",
              "  </tbody>\n",
              "</table>\n",
              "</div>\n",
              "      <button class=\"colab-df-convert\" onclick=\"convertToInteractive('df-482d0e86-0242-40aa-88e6-5987ba946bc3')\"\n",
              "              title=\"Convert this dataframe to an interactive table.\"\n",
              "              style=\"display:none;\">\n",
              "        \n",
              "  <svg xmlns=\"http://www.w3.org/2000/svg\" height=\"24px\"viewBox=\"0 0 24 24\"\n",
              "       width=\"24px\">\n",
              "    <path d=\"M0 0h24v24H0V0z\" fill=\"none\"/>\n",
              "    <path d=\"M18.56 5.44l.94 2.06.94-2.06 2.06-.94-2.06-.94-.94-2.06-.94 2.06-2.06.94zm-11 1L8.5 8.5l.94-2.06 2.06-.94-2.06-.94L8.5 2.5l-.94 2.06-2.06.94zm10 10l.94 2.06.94-2.06 2.06-.94-2.06-.94-.94-2.06-.94 2.06-2.06.94z\"/><path d=\"M17.41 7.96l-1.37-1.37c-.4-.4-.92-.59-1.43-.59-.52 0-1.04.2-1.43.59L10.3 9.45l-7.72 7.72c-.78.78-.78 2.05 0 2.83L4 21.41c.39.39.9.59 1.41.59.51 0 1.02-.2 1.41-.59l7.78-7.78 2.81-2.81c.8-.78.8-2.07 0-2.86zM5.41 20L4 18.59l7.72-7.72 1.47 1.35L5.41 20z\"/>\n",
              "  </svg>\n",
              "      </button>\n",
              "      \n",
              "  <style>\n",
              "    .colab-df-container {\n",
              "      display:flex;\n",
              "      flex-wrap:wrap;\n",
              "      gap: 12px;\n",
              "    }\n",
              "\n",
              "    .colab-df-convert {\n",
              "      background-color: #E8F0FE;\n",
              "      border: none;\n",
              "      border-radius: 50%;\n",
              "      cursor: pointer;\n",
              "      display: none;\n",
              "      fill: #1967D2;\n",
              "      height: 32px;\n",
              "      padding: 0 0 0 0;\n",
              "      width: 32px;\n",
              "    }\n",
              "\n",
              "    .colab-df-convert:hover {\n",
              "      background-color: #E2EBFA;\n",
              "      box-shadow: 0px 1px 2px rgba(60, 64, 67, 0.3), 0px 1px 3px 1px rgba(60, 64, 67, 0.15);\n",
              "      fill: #174EA6;\n",
              "    }\n",
              "\n",
              "    [theme=dark] .colab-df-convert {\n",
              "      background-color: #3B4455;\n",
              "      fill: #D2E3FC;\n",
              "    }\n",
              "\n",
              "    [theme=dark] .colab-df-convert:hover {\n",
              "      background-color: #434B5C;\n",
              "      box-shadow: 0px 1px 3px 1px rgba(0, 0, 0, 0.15);\n",
              "      filter: drop-shadow(0px 1px 2px rgba(0, 0, 0, 0.3));\n",
              "      fill: #FFFFFF;\n",
              "    }\n",
              "  </style>\n",
              "\n",
              "      <script>\n",
              "        const buttonEl =\n",
              "          document.querySelector('#df-482d0e86-0242-40aa-88e6-5987ba946bc3 button.colab-df-convert');\n",
              "        buttonEl.style.display =\n",
              "          google.colab.kernel.accessAllowed ? 'block' : 'none';\n",
              "\n",
              "        async function convertToInteractive(key) {\n",
              "          const element = document.querySelector('#df-482d0e86-0242-40aa-88e6-5987ba946bc3');\n",
              "          const dataTable =\n",
              "            await google.colab.kernel.invokeFunction('convertToInteractive',\n",
              "                                                     [key], {});\n",
              "          if (!dataTable) return;\n",
              "\n",
              "          const docLinkHtml = 'Like what you see? Visit the ' +\n",
              "            '<a target=\"_blank\" href=https://colab.research.google.com/notebooks/data_table.ipynb>data table notebook</a>'\n",
              "            + ' to learn more about interactive tables.';\n",
              "          element.innerHTML = '';\n",
              "          dataTable['output_type'] = 'display_data';\n",
              "          await google.colab.output.renderOutput(dataTable, element);\n",
              "          const docLink = document.createElement('div');\n",
              "          docLink.innerHTML = docLinkHtml;\n",
              "          element.appendChild(docLink);\n",
              "        }\n",
              "      </script>\n",
              "    </div>\n",
              "  </div>\n",
              "  "
            ]
          },
          "metadata": {},
          "execution_count": 32
        }
      ]
    },
    {
      "cell_type": "code",
      "source": [
        "data['modified'] = [' '.join(wrd for wrd in x) for x in data['porter_stemmed']]\n",
        "data.head()"
      ],
      "metadata": {
        "colab": {
          "base_uri": "https://localhost:8080/",
          "height": 424
        },
        "id": "vwNd_m9MyBhV",
        "outputId": "24b640fd-3997-48ce-aa0f-b72fb9d71580"
      },
      "execution_count": 33,
      "outputs": [
        {
          "output_type": "execute_result",
          "data": {
            "text/plain": [
              "             category  rating label  \\\n",
              "0  Home_and_Kitchen_5       5    CG   \n",
              "1  Home_and_Kitchen_5       5    CG   \n",
              "2  Home_and_Kitchen_5       5    CG   \n",
              "3  Home_and_Kitchen_5       1    CG   \n",
              "4  Home_and_Kitchen_5       5    CG   \n",
              "\n",
              "                                               text_ review_class  target  \\\n",
              "0  Love this!  Well made, sturdy, and very comfor...         Fake       0   \n",
              "1  love it, a great upgrade from the original.  I...         Fake       0   \n",
              "2  This pillow saved my back. I love the look and...         Fake       0   \n",
              "3  Missing information on how to use it, but it i...         Fake       0   \n",
              "4  Very nice set. Good quality. We have had the s...         Fake       0   \n",
              "\n",
              "   rev_cls                                          tokenized  \\\n",
              "0        0  [Love, this, Well, made, sturdy, and, very, co...   \n",
              "1        0  [love, it, a, great, upgrade, from, the, origi...   \n",
              "2        0  [This, pillow, saved, my, back, I, love, the, ...   \n",
              "3        0  [Missing, information, on, how, to, use, it, b...   \n",
              "4        0  [Very, nice, set, Good, quality, We, have, had...   \n",
              "\n",
              "                                   stopwords_removed  \\\n",
              "0  [Love, Well, made, sturdy, comfortable, I, lov...   \n",
              "1  [love, great, upgrade, original, I, mine, coup...   \n",
              "2  [This, pillow, saved, back, I, love, look, fee...   \n",
              "3  [Missing, information, use, great, product, pr...   \n",
              "4  [Very, nice, set, Good, quality, We, set, two,...   \n",
              "\n",
              "                                      porter_stemmed  \\\n",
              "0  [love, well, made, sturdi, comfort, i, love, v...   \n",
              "1  [love, great, upgrad, origin, i, mine, coupl, ...   \n",
              "2  [thi, pillow, save, back, i, love, look, feel,...   \n",
              "3      [miss, inform, use, great, product, price, i]   \n",
              "4  [veri, nice, set, good, qualiti, we, set, two,...   \n",
              "\n",
              "                                           modified  \n",
              "0  love well made sturdi comfort i love veri pretti  \n",
              "1        love great upgrad origin i mine coupl year  \n",
              "2      thi pillow save back i love look feel pillow  \n",
              "3             miss inform use great product price i  \n",
              "4       veri nice set good qualiti we set two month  "
            ],
            "text/html": [
              "\n",
              "  <div id=\"df-46c3eb04-8173-4aa5-b9fd-02d748c9c139\">\n",
              "    <div class=\"colab-df-container\">\n",
              "      <div>\n",
              "<style scoped>\n",
              "    .dataframe tbody tr th:only-of-type {\n",
              "        vertical-align: middle;\n",
              "    }\n",
              "\n",
              "    .dataframe tbody tr th {\n",
              "        vertical-align: top;\n",
              "    }\n",
              "\n",
              "    .dataframe thead th {\n",
              "        text-align: right;\n",
              "    }\n",
              "</style>\n",
              "<table border=\"1\" class=\"dataframe\">\n",
              "  <thead>\n",
              "    <tr style=\"text-align: right;\">\n",
              "      <th></th>\n",
              "      <th>category</th>\n",
              "      <th>rating</th>\n",
              "      <th>label</th>\n",
              "      <th>text_</th>\n",
              "      <th>review_class</th>\n",
              "      <th>target</th>\n",
              "      <th>rev_cls</th>\n",
              "      <th>tokenized</th>\n",
              "      <th>stopwords_removed</th>\n",
              "      <th>porter_stemmed</th>\n",
              "      <th>modified</th>\n",
              "    </tr>\n",
              "  </thead>\n",
              "  <tbody>\n",
              "    <tr>\n",
              "      <th>0</th>\n",
              "      <td>Home_and_Kitchen_5</td>\n",
              "      <td>5</td>\n",
              "      <td>CG</td>\n",
              "      <td>Love this!  Well made, sturdy, and very comfor...</td>\n",
              "      <td>Fake</td>\n",
              "      <td>0</td>\n",
              "      <td>0</td>\n",
              "      <td>[Love, this, Well, made, sturdy, and, very, co...</td>\n",
              "      <td>[Love, Well, made, sturdy, comfortable, I, lov...</td>\n",
              "      <td>[love, well, made, sturdi, comfort, i, love, v...</td>\n",
              "      <td>love well made sturdi comfort i love veri pretti</td>\n",
              "    </tr>\n",
              "    <tr>\n",
              "      <th>1</th>\n",
              "      <td>Home_and_Kitchen_5</td>\n",
              "      <td>5</td>\n",
              "      <td>CG</td>\n",
              "      <td>love it, a great upgrade from the original.  I...</td>\n",
              "      <td>Fake</td>\n",
              "      <td>0</td>\n",
              "      <td>0</td>\n",
              "      <td>[love, it, a, great, upgrade, from, the, origi...</td>\n",
              "      <td>[love, great, upgrade, original, I, mine, coup...</td>\n",
              "      <td>[love, great, upgrad, origin, i, mine, coupl, ...</td>\n",
              "      <td>love great upgrad origin i mine coupl year</td>\n",
              "    </tr>\n",
              "    <tr>\n",
              "      <th>2</th>\n",
              "      <td>Home_and_Kitchen_5</td>\n",
              "      <td>5</td>\n",
              "      <td>CG</td>\n",
              "      <td>This pillow saved my back. I love the look and...</td>\n",
              "      <td>Fake</td>\n",
              "      <td>0</td>\n",
              "      <td>0</td>\n",
              "      <td>[This, pillow, saved, my, back, I, love, the, ...</td>\n",
              "      <td>[This, pillow, saved, back, I, love, look, fee...</td>\n",
              "      <td>[thi, pillow, save, back, i, love, look, feel,...</td>\n",
              "      <td>thi pillow save back i love look feel pillow</td>\n",
              "    </tr>\n",
              "    <tr>\n",
              "      <th>3</th>\n",
              "      <td>Home_and_Kitchen_5</td>\n",
              "      <td>1</td>\n",
              "      <td>CG</td>\n",
              "      <td>Missing information on how to use it, but it i...</td>\n",
              "      <td>Fake</td>\n",
              "      <td>0</td>\n",
              "      <td>0</td>\n",
              "      <td>[Missing, information, on, how, to, use, it, b...</td>\n",
              "      <td>[Missing, information, use, great, product, pr...</td>\n",
              "      <td>[miss, inform, use, great, product, price, i]</td>\n",
              "      <td>miss inform use great product price i</td>\n",
              "    </tr>\n",
              "    <tr>\n",
              "      <th>4</th>\n",
              "      <td>Home_and_Kitchen_5</td>\n",
              "      <td>5</td>\n",
              "      <td>CG</td>\n",
              "      <td>Very nice set. Good quality. We have had the s...</td>\n",
              "      <td>Fake</td>\n",
              "      <td>0</td>\n",
              "      <td>0</td>\n",
              "      <td>[Very, nice, set, Good, quality, We, have, had...</td>\n",
              "      <td>[Very, nice, set, Good, quality, We, set, two,...</td>\n",
              "      <td>[veri, nice, set, good, qualiti, we, set, two,...</td>\n",
              "      <td>veri nice set good qualiti we set two month</td>\n",
              "    </tr>\n",
              "  </tbody>\n",
              "</table>\n",
              "</div>\n",
              "      <button class=\"colab-df-convert\" onclick=\"convertToInteractive('df-46c3eb04-8173-4aa5-b9fd-02d748c9c139')\"\n",
              "              title=\"Convert this dataframe to an interactive table.\"\n",
              "              style=\"display:none;\">\n",
              "        \n",
              "  <svg xmlns=\"http://www.w3.org/2000/svg\" height=\"24px\"viewBox=\"0 0 24 24\"\n",
              "       width=\"24px\">\n",
              "    <path d=\"M0 0h24v24H0V0z\" fill=\"none\"/>\n",
              "    <path d=\"M18.56 5.44l.94 2.06.94-2.06 2.06-.94-2.06-.94-.94-2.06-.94 2.06-2.06.94zm-11 1L8.5 8.5l.94-2.06 2.06-.94-2.06-.94L8.5 2.5l-.94 2.06-2.06.94zm10 10l.94 2.06.94-2.06 2.06-.94-2.06-.94-.94-2.06-.94 2.06-2.06.94z\"/><path d=\"M17.41 7.96l-1.37-1.37c-.4-.4-.92-.59-1.43-.59-.52 0-1.04.2-1.43.59L10.3 9.45l-7.72 7.72c-.78.78-.78 2.05 0 2.83L4 21.41c.39.39.9.59 1.41.59.51 0 1.02-.2 1.41-.59l7.78-7.78 2.81-2.81c.8-.78.8-2.07 0-2.86zM5.41 20L4 18.59l7.72-7.72 1.47 1.35L5.41 20z\"/>\n",
              "  </svg>\n",
              "      </button>\n",
              "      \n",
              "  <style>\n",
              "    .colab-df-container {\n",
              "      display:flex;\n",
              "      flex-wrap:wrap;\n",
              "      gap: 12px;\n",
              "    }\n",
              "\n",
              "    .colab-df-convert {\n",
              "      background-color: #E8F0FE;\n",
              "      border: none;\n",
              "      border-radius: 50%;\n",
              "      cursor: pointer;\n",
              "      display: none;\n",
              "      fill: #1967D2;\n",
              "      height: 32px;\n",
              "      padding: 0 0 0 0;\n",
              "      width: 32px;\n",
              "    }\n",
              "\n",
              "    .colab-df-convert:hover {\n",
              "      background-color: #E2EBFA;\n",
              "      box-shadow: 0px 1px 2px rgba(60, 64, 67, 0.3), 0px 1px 3px 1px rgba(60, 64, 67, 0.15);\n",
              "      fill: #174EA6;\n",
              "    }\n",
              "\n",
              "    [theme=dark] .colab-df-convert {\n",
              "      background-color: #3B4455;\n",
              "      fill: #D2E3FC;\n",
              "    }\n",
              "\n",
              "    [theme=dark] .colab-df-convert:hover {\n",
              "      background-color: #434B5C;\n",
              "      box-shadow: 0px 1px 3px 1px rgba(0, 0, 0, 0.15);\n",
              "      filter: drop-shadow(0px 1px 2px rgba(0, 0, 0, 0.3));\n",
              "      fill: #FFFFFF;\n",
              "    }\n",
              "  </style>\n",
              "\n",
              "      <script>\n",
              "        const buttonEl =\n",
              "          document.querySelector('#df-46c3eb04-8173-4aa5-b9fd-02d748c9c139 button.colab-df-convert');\n",
              "        buttonEl.style.display =\n",
              "          google.colab.kernel.accessAllowed ? 'block' : 'none';\n",
              "\n",
              "        async function convertToInteractive(key) {\n",
              "          const element = document.querySelector('#df-46c3eb04-8173-4aa5-b9fd-02d748c9c139');\n",
              "          const dataTable =\n",
              "            await google.colab.kernel.invokeFunction('convertToInteractive',\n",
              "                                                     [key], {});\n",
              "          if (!dataTable) return;\n",
              "\n",
              "          const docLinkHtml = 'Like what you see? Visit the ' +\n",
              "            '<a target=\"_blank\" href=https://colab.research.google.com/notebooks/data_table.ipynb>data table notebook</a>'\n",
              "            + ' to learn more about interactive tables.';\n",
              "          element.innerHTML = '';\n",
              "          dataTable['output_type'] = 'display_data';\n",
              "          await google.colab.output.renderOutput(dataTable, element);\n",
              "          const docLink = document.createElement('div');\n",
              "          docLink.innerHTML = docLinkHtml;\n",
              "          element.appendChild(docLink);\n",
              "        }\n",
              "      </script>\n",
              "    </div>\n",
              "  </div>\n",
              "  "
            ]
          },
          "metadata": {},
          "execution_count": 33
        }
      ]
    },
    {
      "cell_type": "code",
      "source": [
        "\n",
        "# group by rating and count number of reviews\n",
        "ratings = data.groupby('rating')['modified'].count()\n",
        "\n",
        "# create histogram\n",
        "plt.bar(ratings.index, ratings.values)\n",
        "\n",
        "# set labels and title\n",
        "plt.xlabel('Rating')\n",
        "plt.ylabel('Number of Reviews')\n",
        "plt.title('Histogram of Reviews by Rating')\n",
        "\n",
        "# display plot\n",
        "plt.show()"
      ],
      "metadata": {
        "colab": {
          "base_uri": "https://localhost:8080/",
          "height": 472
        },
        "id": "4cXHR8sLyEGt",
        "outputId": "f77bcf58-7f5a-4a8f-952c-89f25b581bb6"
      },
      "execution_count": 34,
      "outputs": [
        {
          "output_type": "display_data",
          "data": {
            "text/plain": [
              "<Figure size 640x480 with 1 Axes>"
            ],
            "image/png": "[encoded data removed]"
          },
          "metadata": {}
        }
      ]
    },
    {
      "cell_type": "code",
      "source": [
        "dfr = data.drop(index=data[(data['rating'] == 1) | (data['rating'] == 5)].index)\n",
        "dfr.head()"
      ],
      "metadata": {
        "colab": {
          "base_uri": "https://localhost:8080/",
          "height": 459
        },
        "id": "nS5wesPlAP5X",
        "outputId": "5a058e95-15a6-4909-f9e1-6f3798d8f67d"
      },
      "execution_count": 35,
      "outputs": [
        {
          "output_type": "execute_result",
          "data": {
            "text/plain": [
              "              category  rating label  \\\n",
              "5   Home_and_Kitchen_5       3    CG   \n",
              "7   Home_and_Kitchen_5       3    CG   \n",
              "26  Home_and_Kitchen_5       2    CG   \n",
              "31  Home_and_Kitchen_5       3    CG   \n",
              "32  Home_and_Kitchen_5       3    CG   \n",
              "\n",
              "                                                text_ review_class  target  \\\n",
              "5        I WANTED DIFFERENT FLAVORS BUT THEY ARE NOT.         Fake       0   \n",
              "7   These done fit well and look great.  I love th...         Fake       0   \n",
              "26  Not what I am accustomed to. The only reason I...         Fake       0   \n",
              "31  These are okay they are not as nice as the one...         Fake       0   \n",
              "32  gave them away - thought it would be a good ad...         Fake       0   \n",
              "\n",
              "    rev_cls                                          tokenized  \\\n",
              "5         0  [I, WANTED, DIFFERENT, FLAVORS, BUT, THEY, ARE...   \n",
              "7         0  [These, done, fit, well, and, look, great, I, ...   \n",
              "26        0  [Not, what, I, am, accustomed, to, The, only, ...   \n",
              "31        0  [These, are, okay, they, are, not, as, nice, a...   \n",
              "32        0  [gave, them, away, thought, it, would, be, a, ...   \n",
              "\n",
              "                                    stopwords_removed  \\\n",
              "5   [I, WANTED, DIFFERENT, FLAVORS, BUT, THEY, ARE...   \n",
              "7   [These, done, fit, well, look, great, I, love,...   \n",
              "26  [Not, I, accustomed, The, reason, I, gave, sta...   \n",
              "31    [These, okay, nice, ones, I, got, local, store]   \n",
              "32  [gave, away, thought, would, good, addition, k...   \n",
              "\n",
              "                                       porter_stemmed  \\\n",
              "5      [i, want, differ, flavor, but, they, are, not]   \n",
              "7   [these, done, fit, well, look, great, i, love,...   \n",
              "26  [not, i, accustom, the, reason, i, gave, star, i]   \n",
              "31     [these, okay, nice, one, i, got, local, store]   \n",
              "32  [gave, away, thought, would, good, addit, kitc...   \n",
              "\n",
              "                                             modified  \n",
              "5               i want differ flavor but they are not  \n",
              "7   these done fit well look great i love smooth e...  \n",
              "26            not i accustom the reason i gave star i  \n",
              "31              these okay nice one i got local store  \n",
              "32       gave away thought would good addit kitchen i  "
            ],
            "text/html": [
              "\n",
              "  <div id=\"df-9a9ed813-7d87-462a-a486-5a5357529237\">\n",
              "    <div class=\"colab-df-container\">\n",
              "      <div>\n",
              "<style scoped>\n",
              "    .dataframe tbody tr th:only-of-type {\n",
              "        vertical-align: middle;\n",
              "    }\n",
              "\n",
              "    .dataframe tbody tr th {\n",
              "        vertical-align: top;\n",
              "    }\n",
              "\n",
              "    .dataframe thead th {\n",
              "        text-align: right;\n",
              "    }\n",
              "</style>\n",
              "<table border=\"1\" class=\"dataframe\">\n",
              "  <thead>\n",
              "    <tr style=\"text-align: right;\">\n",
              "      <th></th>\n",
              "      <th>category</th>\n",
              "      <th>rating</th>\n",
              "      <th>label</th>\n",
              "      <th>text_</th>\n",
              "      <th>review_class</th>\n",
              "      <th>target</th>\n",
              "      <th>rev_cls</th>\n",
              "      <th>tokenized</th>\n",
              "      <th>stopwords_removed</th>\n",
              "      <th>porter_stemmed</th>\n",
              "      <th>modified</th>\n",
              "    </tr>\n",
              "  </thead>\n",
              "  <tbody>\n",
              "    <tr>\n",
              "      <th>5</th>\n",
              "      <td>Home_and_Kitchen_5</td>\n",
              "      <td>3</td>\n",
              "      <td>CG</td>\n",
              "      <td>I WANTED DIFFERENT FLAVORS BUT THEY ARE NOT.</td>\n",
              "      <td>Fake</td>\n",
              "      <td>0</td>\n",
              "      <td>0</td>\n",
              "      <td>[I, WANTED, DIFFERENT, FLAVORS, BUT, THEY, ARE...</td>\n",
              "      <td>[I, WANTED, DIFFERENT, FLAVORS, BUT, THEY, ARE...</td>\n",
              "      <td>[i, want, differ, flavor, but, they, are, not]</td>\n",
              "      <td>i want differ flavor but they are not</td>\n",
              "    </tr>\n",
              "    <tr>\n",
              "      <th>7</th>\n",
              "      <td>Home_and_Kitchen_5</td>\n",
              "      <td>3</td>\n",
              "      <td>CG</td>\n",
              "      <td>These done fit well and look great.  I love th...</td>\n",
              "      <td>Fake</td>\n",
              "      <td>0</td>\n",
              "      <td>0</td>\n",
              "      <td>[These, done, fit, well, and, look, great, I, ...</td>\n",
              "      <td>[These, done, fit, well, look, great, I, love,...</td>\n",
              "      <td>[these, done, fit, well, look, great, i, love,...</td>\n",
              "      <td>these done fit well look great i love smooth e...</td>\n",
              "    </tr>\n",
              "    <tr>\n",
              "      <th>26</th>\n",
              "      <td>Home_and_Kitchen_5</td>\n",
              "      <td>2</td>\n",
              "      <td>CG</td>\n",
              "      <td>Not what I am accustomed to. The only reason I...</td>\n",
              "      <td>Fake</td>\n",
              "      <td>0</td>\n",
              "      <td>0</td>\n",
              "      <td>[Not, what, I, am, accustomed, to, The, only, ...</td>\n",
              "      <td>[Not, I, accustomed, The, reason, I, gave, sta...</td>\n",
              "      <td>[not, i, accustom, the, reason, i, gave, star, i]</td>\n",
              "      <td>not i accustom the reason i gave star i</td>\n",
              "    </tr>\n",
              "    <tr>\n",
              "      <th>31</th>\n",
              "      <td>Home_and_Kitchen_5</td>\n",
              "      <td>3</td>\n",
              "      <td>CG</td>\n",
              "      <td>These are okay they are not as nice as the one...</td>\n",
              "      <td>Fake</td>\n",
              "      <td>0</td>\n",
              "      <td>0</td>\n",
              "      <td>[These, are, okay, they, are, not, as, nice, a...</td>\n",
              "      <td>[These, okay, nice, ones, I, got, local, store]</td>\n",
              "      <td>[these, okay, nice, one, i, got, local, store]</td>\n",
              "      <td>these okay nice one i got local store</td>\n",
              "    </tr>\n",
              "    <tr>\n",
              "      <th>32</th>\n",
              "      <td>Home_and_Kitchen_5</td>\n",
              "      <td>3</td>\n",
              "      <td>CG</td>\n",
              "      <td>gave them away - thought it would be a good ad...</td>\n",
              "      <td>Fake</td>\n",
              "      <td>0</td>\n",
              "      <td>0</td>\n",
              "      <td>[gave, them, away, thought, it, would, be, a, ...</td>\n",
              "      <td>[gave, away, thought, would, good, addition, k...</td>\n",
              "      <td>[gave, away, thought, would, good, addit, kitc...</td>\n",
              "      <td>gave away thought would good addit kitchen i</td>\n",
              "    </tr>\n",
              "  </tbody>\n",
              "</table>\n",
              "</div>\n",
              "      <button class=\"colab-df-convert\" onclick=\"convertToInteractive('df-9a9ed813-7d87-462a-a486-5a5357529237')\"\n",
              "              title=\"Convert this dataframe to an interactive table.\"\n",
              "              style=\"display:none;\">\n",
              "        \n",
              "  <svg xmlns=\"http://www.w3.org/2000/svg\" height=\"24px\"viewBox=\"0 0 24 24\"\n",
              "       width=\"24px\">\n",
              "    <path d=\"M0 0h24v24H0V0z\" fill=\"none\"/>\n",
              "    <path d=\"M18.56 5.44l.94 2.06.94-2.06 2.06-.94-2.06-.94-.94-2.06-.94 2.06-2.06.94zm-11 1L8.5 8.5l.94-2.06 2.06-.94-2.06-.94L8.5 2.5l-.94 2.06-2.06.94zm10 10l.94 2.06.94-2.06 2.06-.94-2.06-.94-.94-2.06-.94 2.06-2.06.94z\"/><path d=\"M17.41 7.96l-1.37-1.37c-.4-.4-.92-.59-1.43-.59-.52 0-1.04.2-1.43.59L10.3 9.45l-7.72 7.72c-.78.78-.78 2.05 0 2.83L4 21.41c.39.39.9.59 1.41.59.51 0 1.02-.2 1.41-.59l7.78-7.78 2.81-2.81c.8-.78.8-2.07 0-2.86zM5.41 20L4 18.59l7.72-7.72 1.47 1.35L5.41 20z\"/>\n",
              "  </svg>\n",
              "      </button>\n",
              "      \n",
              "  <style>\n",
              "    .colab-df-container {\n",
              "      display:flex;\n",
              "      flex-wrap:wrap;\n",
              "      gap: 12px;\n",
              "    }\n",
              "\n",
              "    .colab-df-convert {\n",
              "      background-color: #E8F0FE;\n",
              "      border: none;\n",
              "      border-radius: 50%;\n",
              "      cursor: pointer;\n",
              "      display: none;\n",
              "      fill: #1967D2;\n",
              "      height: 32px;\n",
              "      padding: 0 0 0 0;\n",
              "      width: 32px;\n",
              "    }\n",
              "\n",
              "    .colab-df-convert:hover {\n",
              "      background-color: #E2EBFA;\n",
              "      box-shadow: 0px 1px 2px rgba(60, 64, 67, 0.3), 0px 1px 3px 1px rgba(60, 64, 67, 0.15);\n",
              "      fill: #174EA6;\n",
              "    }\n",
              "\n",
              "    [theme=dark] .colab-df-convert {\n",
              "      background-color: #3B4455;\n",
              "      fill: #D2E3FC;\n",
              "    }\n",
              "\n",
              "    [theme=dark] .colab-df-convert:hover {\n",
              "      background-color: #434B5C;\n",
              "      box-shadow: 0px 1px 3px 1px rgba(0, 0, 0, 0.15);\n",
              "      filter: drop-shadow(0px 1px 2px rgba(0, 0, 0, 0.3));\n",
              "      fill: #FFFFFF;\n",
              "    }\n",
              "  </style>\n",
              "\n",
              "      <script>\n",
              "        const buttonEl =\n",
              "          document.querySelector('#df-9a9ed813-7d87-462a-a486-5a5357529237 button.colab-df-convert');\n",
              "        buttonEl.style.display =\n",
              "          google.colab.kernel.accessAllowed ? 'block' : 'none';\n",
              "\n",
              "        async function convertToInteractive(key) {\n",
              "          const element = document.querySelector('#df-9a9ed813-7d87-462a-a486-5a5357529237');\n",
              "          const dataTable =\n",
              "            await google.colab.kernel.invokeFunction('convertToInteractive',\n",
              "                                                     [key], {});\n",
              "          if (!dataTable) return;\n",
              "\n",
              "          const docLinkHtml = 'Like what you see? Visit the ' +\n",
              "            '<a target=\"_blank\" href=https://colab.research.google.com/notebooks/data_table.ipynb>data table notebook</a>'\n",
              "            + ' to learn more about interactive tables.';\n",
              "          element.innerHTML = '';\n",
              "          dataTable['output_type'] = 'display_data';\n",
              "          await google.colab.output.renderOutput(dataTable, element);\n",
              "          const docLink = document.createElement('div');\n",
              "          docLink.innerHTML = docLinkHtml;\n",
              "          element.appendChild(docLink);\n",
              "        }\n",
              "      </script>\n",
              "    </div>\n",
              "  </div>\n",
              "  "
            ]
          },
          "metadata": {},
          "execution_count": 35
        }
      ]
    },
    {
      "cell_type": "code",
      "source": [
        "\n",
        "# group by rating and count number of reviews\n",
        "labels = dfr.groupby('label')['modified'].count()\n",
        "\n",
        "# create histogram\n",
        "plt.bar(labels.index, labels.values)\n",
        "\n",
        "# set labels and title\n",
        "plt.xlabel('Label')\n",
        "plt.ylabel('Number of Reviews')\n",
        "plt.title('Histogram of Reviews by label')\n",
        "\n",
        "# display plot\n",
        "plt.show()"
      ],
      "metadata": {
        "colab": {
          "base_uri": "https://localhost:8080/",
          "height": 472
        },
        "id": "sMORcuGsyXGG",
        "outputId": "2f017e00-dc40-4bd8-9391-7a47c6551b23"
      },
      "execution_count": 36,
      "outputs": [
        {
          "output_type": "display_data",
          "data": {
            "text/plain": [
              "<Figure size 640x480 with 1 Axes>"
            ],
            "image/png": "[encoded data removed]"
          },
          "metadata": {}
        }
      ]
    },
    {
      "cell_type": "code",
      "source": [
        "# polarity and sentiment of fake and genuine reviews\n",
        "import nltk\n",
        "nltk.download('vader_lexicon')\n",
        "sid = SentimentIntensityAnalyzer()\n",
        "data['sentiment_scores'] = data['modified'].apply(lambda x: sid.polarity_scores(x))\n",
        "data['polarity'] = data['sentiment_scores'].apply(lambda x: x['compound'])\n"
      ],
      "metadata": {
        "colab": {
          "base_uri": "https://localhost:8080/"
        },
        "id": "kExof7V0LXTW",
        "outputId": "ece1713d-db2f-4e1f-8887-0e70ab9866a5"
      },
      "execution_count": 37,
      "outputs": [
        {
          "output_type": "stream",
          "name": "stderr",
          "text": [
            "[nltk_data] Downloading package vader_lexicon to /root/nltk_data...\n"
          ]
        }
      ]
    },
    {
      "cell_type": "code",
      "source": [
        "genuine_reviews = data[data['target'] == 1]\n",
        "fake_reviews = data[data['target'] == 0]\n",
        "\n",
        "genuine_rating_mean = genuine_reviews['rating'].mean()\n",
        "fake_rating_mean = fake_reviews['rating'].mean()\n",
        "\n",
        "genuine_polarity_mean = genuine_reviews['polarity'].mean()\n",
        "fake_polarity_mean = fake_reviews['polarity'].mean()\n"
      ],
      "metadata": {
        "id": "b9StmxsWMLWu"
      },
      "execution_count": 38,
      "outputs": []
    },
    {
      "cell_type": "code",
      "source": [
        "if genuine_rating_mean > fake_rating_mean and genuine_polarity_mean > fake_polarity_mean:\n",
        "    print(\"Genuine reviews are more positive and have higher rating\")\n",
        "elif genuine_rating_mean < fake_rating_mean and genuine_polarity_mean < fake_polarity_mean:\n",
        "    print(\"Fake reviews are more positive and have higher rating\")\n",
        "else:\n",
        "    print(\"Genuine and fake reviews have different coherence patterns\")\n"
      ],
      "metadata": {
        "colab": {
          "base_uri": "https://localhost:8080/"
        },
        "id": "Kr8lAM6nZEiT",
        "outputId": "4c1494ae-1454-43b7-de53-a8ed9586731b"
      },
      "execution_count": 39,
      "outputs": [
        {
          "output_type": "stream",
          "name": "stdout",
          "text": [
            "Fake reviews are more positive and have higher rating\n"
          ]
        }
      ]
    },
    {
      "cell_type": "code",
      "source": [
        "\n",
        "# Classify each review as positive, negative or neutral\n",
        "data['sentiment'] = data['polarity'].apply(lambda x: 'positive' if x >= 0.6 else ('neutral' if x >= 0.2 and x < 0.6 else 'negetive'))"
      ],
      "metadata": {
        "id": "fbKzqPNwBl0p"
      },
      "execution_count": 40,
      "outputs": []
    },
    {
      "cell_type": "code",
      "source": [
        "# Filter the rows with neutral sentiment\n",
        "neutral_sentiment = data[data['sentiment'] == 'neutral']\n",
        "\n",
        "# Get the maximum and minimum polarity values for the rows with neutral sentiment\n",
        "max_polarity = neutral_sentiment['polarity'].max()\n",
        "min_polarity = neutral_sentiment['polarity'].min()\n",
        "\n",
        "# Display the maximum and minimum polarity values\n",
        "print('Maximum polarity:', max_polarity)\n",
        "print('Minimum polarity:', min_polarity)"
      ],
      "metadata": {
        "colab": {
          "base_uri": "https://localhost:8080/"
        },
        "id": "Jl7oTZYobNti",
        "outputId": "80b4433a-e810-4c8d-ea4d-966b04ac73cd"
      },
      "execution_count": 41,
      "outputs": [
        {
          "output_type": "stream",
          "name": "stdout",
          "text": [
            "Maximum polarity: 0.5994\n",
            "Minimum polarity: 0.2002\n"
          ]
        }
      ]
    },
    {
      "cell_type": "code",
      "source": [
        "# Filter the rows with positive sentiment\n",
        "neutral_sentiment = data[data['sentiment'] == 'positive']\n",
        "\n",
        "# Get the maximum and minimum polarity values for the rows with neutral sentiment\n",
        "max_polarity = neutral_sentiment['polarity'].max()\n",
        "min_polarity = neutral_sentiment['polarity'].min()\n",
        "\n",
        "# Display the maximum and minimum polarity values\n",
        "print('Maximum polarity:', max_polarity)\n",
        "print('Minimum polarity:', min_polarity)"
      ],
      "metadata": {
        "colab": {
          "base_uri": "https://localhost:8080/"
        },
        "id": "zAnexRFCdvvx",
        "outputId": "b93ca771-173e-4b2a-9b42-b342a9110565"
      },
      "execution_count": 42,
      "outputs": [
        {
          "output_type": "stream",
          "name": "stdout",
          "text": [
            "Maximum polarity: 0.9984\n",
            "Minimum polarity: 0.6022\n"
          ]
        }
      ]
    },
    {
      "cell_type": "code",
      "source": [
        "# Filter the rows with negetive sentiment\n",
        "neutral_sentiment = data[data['sentiment'] == 'negetive']\n",
        "\n",
        "# Get the maximum and minimum polarity values for the rows with neutral sentiment\n",
        "max_polarity = neutral_sentiment['polarity'].max()\n",
        "min_polarity = neutral_sentiment['polarity'].min()\n",
        "\n",
        "# Display the maximum and minimum polarity values\n",
        "print('Maximum polarity:', max_polarity)\n",
        "print('Minimum polarity:', min_polarity)"
      ],
      "metadata": {
        "colab": {
          "base_uri": "https://localhost:8080/"
        },
        "id": "usW_4JhCdzSv",
        "outputId": "30d24258-9237-43de-a405-c1558478792e"
      },
      "execution_count": 43,
      "outputs": [
        {
          "output_type": "stream",
          "name": "stdout",
          "text": [
            "Maximum polarity: 0.1901\n",
            "Minimum polarity: -0.9153\n"
          ]
        }
      ]
    },
    {
      "cell_type": "code",
      "source": [
        "dfs=data['sentiment'].value_counts(sort=True)  # top 10 manufactures in descending order\n",
        "\n",
        "plt.pie(dfs,autopct='%.1f%%',labels=dfs.index,startangle=0) # Plotting pie chart by calling df4 variable defined before and assigning labels to piechart\n",
        "      \n",
        "        \n",
        " # display percent value in each pie wedge\n",
        "pctdistance=0.8,  # The ratio between the center of each pie slice and the start of the text \n",
        "       \n",
        "counterclock=True,   # Specify fractions direction, clockwise or counterclockwise\n",
        "   # starting angle, default 0 degree\n",
        "plt.title(\"Distribution of sentiment labels\")  # Display title to piechart\n",
        "\n",
        "plt.show()   #display piechart"
      ],
      "metadata": {
        "colab": {
          "base_uri": "https://localhost:8080/",
          "height": 428
        },
        "id": "H88nNtkG7z1P",
        "outputId": "6c9d6068-1a3b-41fc-a635-4cf18c63df4e"
      },
      "execution_count": 44,
      "outputs": [
        {
          "output_type": "display_data",
          "data": {
            "text/plain": [
              "<Figure size 640x480 with 1 Axes>"
            ],
            "image/png": "[encoded data removed]"
          },
          "metadata": {}
        }
      ]
    },
    {
      "cell_type": "code",
      "source": [
        "# Classify each review as extreme positive, negative \n",
        "data['extremesentiments'] = data['polarity'].apply(lambda x: 'Very positive' if x >= 0.6 else ('Very negetive' if x <= -0.6 else 'neutral'))"
      ],
      "metadata": {
        "id": "eg-mjTB3Fe-Q"
      },
      "execution_count": 45,
      "outputs": []
    },
    {
      "cell_type": "code",
      "source": [
        "dfs=data['extremesentiments'].value_counts(sort=True)  # top 10 manufactures in descending order\n",
        "\n",
        "plt.pie(dfs,autopct='%.1f%%',labels=dfs.index,startangle=0) # Plotting pie chart by calling df4 variable defined before and assigning labels to piechart\n",
        "      \n",
        "        \n",
        " # display percent value in each pie wedge\n",
        "pctdistance=0.8,  # The ratio between the center of each pie slice and the start of the text \n",
        "       \n",
        "counterclock=True,   # Specify fractions direction, clockwise or counterclockwise\n",
        "   # starting angle, default 0 degree\n",
        "plt.title(\"Distribution of sentiment labels\")  # Display title to piechart\n",
        "\n",
        "plt.show()   #display piechart"
      ],
      "metadata": {
        "colab": {
          "base_uri": "https://localhost:8080/",
          "height": 428
        },
        "id": "Qfo8wdC3Ge_E",
        "outputId": "1cfd2ae9-1439-4349-c3f9-dd8f8bbbfeb9"
      },
      "execution_count": 46,
      "outputs": [
        {
          "output_type": "display_data",
          "data": {
            "text/plain": [
              "<Figure size 640x480 with 1 Axes>"
            ],
            "image/png": "[encoded data removed]"
          },
          "metadata": {}
        }
      ]
    },
    {
      "cell_type": "code",
      "source": [
        "# Classify each review as extreme positive, negative \n",
        "import pandas as pd\n",
        "from sklearn.model_selection import train_test_split\n",
        "from sklearn.linear_model import LogisticRegression\n",
        "\n",
        "# assign numerical values to sentiment categories\n",
        "sentiment_dict = {'Very negative': -1, 'neutral': 1, 'Very positive': 2}\n",
        "data['sentiment_numeric'] = data['extremesentiments'].map(sentiment_dict)"
      ],
      "metadata": {
        "id": "5zVO7hlqnATV"
      },
      "execution_count": 47,
      "outputs": []
    },
    {
      "cell_type": "code",
      "source": [
        "# Compute the difference between the rating and polarity columns\n",
        "diff = data['rating'] - data['polarity']\n",
        "\n",
        "# Plot the distribution of the difference\n",
        "plt.hist(diff, bins=10)\n",
        "plt.title('Distribution of difference between Rating and Polarity')\n",
        "plt.xlabel('Rating - Polarity')\n",
        "plt.ylabel('Frequency')\n",
        "plt.show()\n"
      ],
      "metadata": {
        "colab": {
          "base_uri": "https://localhost:8080/",
          "height": 472
        },
        "id": "PeWxycTCkkHZ",
        "outputId": "d4345d0b-8944-4856-b43f-c9dbe066ccda"
      },
      "execution_count": 48,
      "outputs": [
        {
          "output_type": "display_data",
          "data": {
            "text/plain": [
              "<Figure size 640x480 with 1 Axes>"
            ],
            "image/png": "[encoded data removed]"
          },
          "metadata": {}
        }
      ]
    },
    {
      "cell_type": "code",
      "source": [
        "\n",
        "\n",
        "# Check the coherence/incoherence between 'rating' and 'polarity'\n",
        "coherence_list = []\n",
        "\n",
        "for i in range(len(data)):\n",
        "    if (data['rating'].iloc[i] > 3 and data['polarity'].iloc[i] > 0.6) or (data['rating'].iloc[i] < 3 and data['polarity'].iloc[i] < 0.19):\n",
        "        coherence_list.append('Coherent')\n",
        "    else:\n",
        "        coherence_list.append('Incoherent')\n",
        "\n",
        "# Create a new column 'coherence' in the dataframe\n",
        "data['coherence'] = coherence_list\n",
        "\n"
      ],
      "metadata": {
        "id": "54WJy2H8hyv1"
      },
      "execution_count": 49,
      "outputs": []
    },
    {
      "cell_type": "code",
      "source": [
        "data['coherence'] = np.where(data['coherence']=='Incoherent', 0, 1)\n",
        "data.head()"
      ],
      "metadata": {
        "colab": {
          "base_uri": "https://localhost:8080/",
          "height": 704
        },
        "id": "49TLBRFspReA",
        "outputId": "f6b5eb34-7062-4ada-86d8-a330aec9ad59"
      },
      "execution_count": 50,
      "outputs": [
        {
          "output_type": "execute_result",
          "data": {
            "text/plain": [
              "             category  rating label  \\\n",
              "0  Home_and_Kitchen_5       5    CG   \n",
              "1  Home_and_Kitchen_5       5    CG   \n",
              "2  Home_and_Kitchen_5       5    CG   \n",
              "3  Home_and_Kitchen_5       1    CG   \n",
              "4  Home_and_Kitchen_5       5    CG   \n",
              "\n",
              "                                               text_ review_class  target  \\\n",
              "0  Love this!  Well made, sturdy, and very comfor...         Fake       0   \n",
              "1  love it, a great upgrade from the original.  I...         Fake       0   \n",
              "2  This pillow saved my back. I love the look and...         Fake       0   \n",
              "3  Missing information on how to use it, but it i...         Fake       0   \n",
              "4  Very nice set. Good quality. We have had the s...         Fake       0   \n",
              "\n",
              "   rev_cls                                          tokenized  \\\n",
              "0        0  [Love, this, Well, made, sturdy, and, very, co...   \n",
              "1        0  [love, it, a, great, upgrade, from, the, origi...   \n",
              "2        0  [This, pillow, saved, my, back, I, love, the, ...   \n",
              "3        0  [Missing, information, on, how, to, use, it, b...   \n",
              "4        0  [Very, nice, set, Good, quality, We, have, had...   \n",
              "\n",
              "                                   stopwords_removed  \\\n",
              "0  [Love, Well, made, sturdy, comfortable, I, lov...   \n",
              "1  [love, great, upgrade, original, I, mine, coup...   \n",
              "2  [This, pillow, saved, back, I, love, look, fee...   \n",
              "3  [Missing, information, use, great, product, pr...   \n",
              "4  [Very, nice, set, Good, quality, We, set, two,...   \n",
              "\n",
              "                                      porter_stemmed  \\\n",
              "0  [love, well, made, sturdi, comfort, i, love, v...   \n",
              "1  [love, great, upgrad, origin, i, mine, coupl, ...   \n",
              "2  [thi, pillow, save, back, i, love, look, feel,...   \n",
              "3      [miss, inform, use, great, product, price, i]   \n",
              "4  [veri, nice, set, good, qualiti, we, set, two,...   \n",
              "\n",
              "                                           modified  \\\n",
              "0  love well made sturdi comfort i love veri pretti   \n",
              "1        love great upgrad origin i mine coupl year   \n",
              "2      thi pillow save back i love look feel pillow   \n",
              "3             miss inform use great product price i   \n",
              "4       veri nice set good qualiti we set two month   \n",
              "\n",
              "                                    sentiment_scores  polarity sentiment  \\\n",
              "0  {'neg': 0.0, 'neu': 0.235, 'pos': 0.765, 'comp...    0.9186  positive   \n",
              "1  {'neg': 0.0, 'neu': 0.376, 'pos': 0.624, 'comp...    0.8519  positive   \n",
              "2  {'neg': 0.0, 'neu': 0.448, 'pos': 0.552, 'comp...    0.8126  positive   \n",
              "3  {'neg': 0.165, 'neu': 0.412, 'pos': 0.423, 'co...    0.5423   neutral   \n",
              "4  {'neg': 0.0, 'neu': 0.551, 'pos': 0.449, 'comp...    0.6908  positive   \n",
              "\n",
              "  extremesentiments  sentiment_numeric  coherence  \n",
              "0     Very positive                2.0          1  \n",
              "1     Very positive                2.0          1  \n",
              "2     Very positive                2.0          1  \n",
              "3           neutral                1.0          0  \n",
              "4     Very positive                2.0          1  "
            ],
            "text/html": [
              "\n",
              "  <div id=\"df-4e21b8d8-4c81-45f2-80d8-75a6cd3ee526\">\n",
              "    <div class=\"colab-df-container\">\n",
              "      <div>\n",
              "<style scoped>\n",
              "    .dataframe tbody tr th:only-of-type {\n",
              "        vertical-align: middle;\n",
              "    }\n",
              "\n",
              "    .dataframe tbody tr th {\n",
              "        vertical-align: top;\n",
              "    }\n",
              "\n",
              "    .dataframe thead th {\n",
              "        text-align: right;\n",
              "    }\n",
              "</style>\n",
              "<table border=\"1\" class=\"dataframe\">\n",
              "  <thead>\n",
              "    <tr style=\"text-align: right;\">\n",
              "      <th></th>\n",
              "      <th>category</th>\n",
              "      <th>rating</th>\n",
              "      <th>label</th>\n",
              "      <th>text_</th>\n",
              "      <th>review_class</th>\n",
              "      <th>target</th>\n",
              "      <th>rev_cls</th>\n",
              "      <th>tokenized</th>\n",
              "      <th>stopwords_removed</th>\n",
              "      <th>porter_stemmed</th>\n",
              "      <th>modified</th>\n",
              "      <th>sentiment_scores</th>\n",
              "      <th>polarity</th>\n",
              "      <th>sentiment</th>\n",
              "      <th>extremesentiments</th>\n",
              "      <th>sentiment_numeric</th>\n",
              "      <th>coherence</th>\n",
              "    </tr>\n",
              "  </thead>\n",
              "  <tbody>\n",
              "    <tr>\n",
              "      <th>0</th>\n",
              "      <td>Home_and_Kitchen_5</td>\n",
              "      <td>5</td>\n",
              "      <td>CG</td>\n",
              "      <td>Love this!  Well made, sturdy, and very comfor...</td>\n",
              "      <td>Fake</td>\n",
              "      <td>0</td>\n",
              "      <td>0</td>\n",
              "      <td>[Love, this, Well, made, sturdy, and, very, co...</td>\n",
              "      <td>[Love, Well, made, sturdy, comfortable, I, lov...</td>\n",
              "      <td>[love, well, made, sturdi, comfort, i, love, v...</td>\n",
              "      <td>love well made sturdi comfort i love veri pretti</td>\n",
              "      <td>{'neg': 0.0, 'neu': 0.235, 'pos': 0.765, 'comp...</td>\n",
              "      <td>0.9186</td>\n",
              "      <td>positive</td>\n",
              "      <td>Very positive</td>\n",
              "      <td>2.0</td>\n",
              "      <td>1</td>\n",
              "    </tr>\n",
              "    <tr>\n",
              "      <th>1</th>\n",
              "      <td>Home_and_Kitchen_5</td>\n",
              "      <td>5</td>\n",
              "      <td>CG</td>\n",
              "      <td>love it, a great upgrade from the original.  I...</td>\n",
              "      <td>Fake</td>\n",
              "      <td>0</td>\n",
              "      <td>0</td>\n",
              "      <td>[love, it, a, great, upgrade, from, the, origi...</td>\n",
              "      <td>[love, great, upgrade, original, I, mine, coup...</td>\n",
              "      <td>[love, great, upgrad, origin, i, mine, coupl, ...</td>\n",
              "      <td>love great upgrad origin i mine coupl year</td>\n",
              "      <td>{'neg': 0.0, 'neu': 0.376, 'pos': 0.624, 'comp...</td>\n",
              "      <td>0.8519</td>\n",
              "      <td>positive</td>\n",
              "      <td>Very positive</td>\n",
              "      <td>2.0</td>\n",
              "      <td>1</td>\n",
              "    </tr>\n",
              "    <tr>\n",
              "      <th>2</th>\n",
              "      <td>Home_and_Kitchen_5</td>\n",
              "      <td>5</td>\n",
              "      <td>CG</td>\n",
              "      <td>This pillow saved my back. I love the look and...</td>\n",
              "      <td>Fake</td>\n",
              "      <td>0</td>\n",
              "      <td>0</td>\n",
              "      <td>[This, pillow, saved, my, back, I, love, the, ...</td>\n",
              "      <td>[This, pillow, saved, back, I, love, look, fee...</td>\n",
              "      <td>[thi, pillow, save, back, i, love, look, feel,...</td>\n",
              "      <td>thi pillow save back i love look feel pillow</td>\n",
              "      <td>{'neg': 0.0, 'neu': 0.448, 'pos': 0.552, 'comp...</td>\n",
              "      <td>0.8126</td>\n",
              "      <td>positive</td>\n",
              "      <td>Very positive</td>\n",
              "      <td>2.0</td>\n",
              "      <td>1</td>\n",
              "    </tr>\n",
              "    <tr>\n",
              "      <th>3</th>\n",
              "      <td>Home_and_Kitchen_5</td>\n",
              "      <td>1</td>\n",
              "      <td>CG</td>\n",
              "      <td>Missing information on how to use it, but it i...</td>\n",
              "      <td>Fake</td>\n",
              "      <td>0</td>\n",
              "      <td>0</td>\n",
              "      <td>[Missing, information, on, how, to, use, it, b...</td>\n",
              "      <td>[Missing, information, use, great, product, pr...</td>\n",
              "      <td>[miss, inform, use, great, product, price, i]</td>\n",
              "      <td>miss inform use great product price i</td>\n",
              "      <td>{'neg': 0.165, 'neu': 0.412, 'pos': 0.423, 'co...</td>\n",
              "      <td>0.5423</td>\n",
              "      <td>neutral</td>\n",
              "      <td>neutral</td>\n",
              "      <td>1.0</td>\n",
              "      <td>0</td>\n",
              "    </tr>\n",
              "    <tr>\n",
              "      <th>4</th>\n",
              "      <td>Home_and_Kitchen_5</td>\n",
              "      <td>5</td>\n",
              "      <td>CG</td>\n",
              "      <td>Very nice set. Good quality. We have had the s...</td>\n",
              "      <td>Fake</td>\n",
              "      <td>0</td>\n",
              "      <td>0</td>\n",
              "      <td>[Very, nice, set, Good, quality, We, have, had...</td>\n",
              "      <td>[Very, nice, set, Good, quality, We, set, two,...</td>\n",
              "      <td>[veri, nice, set, good, qualiti, we, set, two,...</td>\n",
              "      <td>veri nice set good qualiti we set two month</td>\n",
              "      <td>{'neg': 0.0, 'neu': 0.551, 'pos': 0.449, 'comp...</td>\n",
              "      <td>0.6908</td>\n",
              "      <td>positive</td>\n",
              "      <td>Very positive</td>\n",
              "      <td>2.0</td>\n",
              "      <td>1</td>\n",
              "    </tr>\n",
              "  </tbody>\n",
              "</table>\n",
              "</div>\n",
              "      <button class=\"colab-df-convert\" onclick=\"convertToInteractive('df-4e21b8d8-4c81-45f2-80d8-75a6cd3ee526')\"\n",
              "              title=\"Convert this dataframe to an interactive table.\"\n",
              "              style=\"display:none;\">\n",
              "        \n",
              "  <svg xmlns=\"http://www.w3.org/2000/svg\" height=\"24px\"viewBox=\"0 0 24 24\"\n",
              "       width=\"24px\">\n",
              "    <path d=\"M0 0h24v24H0V0z\" fill=\"none\"/>\n",
              "    <path d=\"M18.56 5.44l.94 2.06.94-2.06 2.06-.94-2.06-.94-.94-2.06-.94 2.06-2.06.94zm-11 1L8.5 8.5l.94-2.06 2.06-.94-2.06-.94L8.5 2.5l-.94 2.06-2.06.94zm10 10l.94 2.06.94-2.06 2.06-.94-2.06-.94-.94-2.06-.94 2.06-2.06.94z\"/><path d=\"M17.41 7.96l-1.37-1.37c-.4-.4-.92-.59-1.43-.59-.52 0-1.04.2-1.43.59L10.3 9.45l-7.72 7.72c-.78.78-.78 2.05 0 2.83L4 21.41c.39.39.9.59 1.41.59.51 0 1.02-.2 1.41-.59l7.78-7.78 2.81-2.81c.8-.78.8-2.07 0-2.86zM5.41 20L4 18.59l7.72-7.72 1.47 1.35L5.41 20z\"/>\n",
              "  </svg>\n",
              "      </button>\n",
              "      \n",
              "  <style>\n",
              "    .colab-df-container {\n",
              "      display:flex;\n",
              "      flex-wrap:wrap;\n",
              "      gap: 12px;\n",
              "    }\n",
              "\n",
              "    .colab-df-convert {\n",
              "      background-color: #E8F0FE;\n",
              "      border: none;\n",
              "      border-radius: 50%;\n",
              "      cursor: pointer;\n",
              "      display: none;\n",
              "      fill: #1967D2;\n",
              "      height: 32px;\n",
              "      padding: 0 0 0 0;\n",
              "      width: 32px;\n",
              "    }\n",
              "\n",
              "    .colab-df-convert:hover {\n",
              "      background-color: #E2EBFA;\n",
              "      box-shadow: 0px 1px 2px rgba(60, 64, 67, 0.3), 0px 1px 3px 1px rgba(60, 64, 67, 0.15);\n",
              "      fill: #174EA6;\n",
              "    }\n",
              "\n",
              "    [theme=dark] .colab-df-convert {\n",
              "      background-color: #3B4455;\n",
              "      fill: #D2E3FC;\n",
              "    }\n",
              "\n",
              "    [theme=dark] .colab-df-convert:hover {\n",
              "      background-color: #434B5C;\n",
              "      box-shadow: 0px 1px 3px 1px rgba(0, 0, 0, 0.15);\n",
              "      filter: drop-shadow(0px 1px 2px rgba(0, 0, 0, 0.3));\n",
              "      fill: #FFFFFF;\n",
              "    }\n",
              "  </style>\n",
              "\n",
              "      <script>\n",
              "        const buttonEl =\n",
              "          document.querySelector('#df-4e21b8d8-4c81-45f2-80d8-75a6cd3ee526 button.colab-df-convert');\n",
              "        buttonEl.style.display =\n",
              "          google.colab.kernel.accessAllowed ? 'block' : 'none';\n",
              "\n",
              "        async function convertToInteractive(key) {\n",
              "          const element = document.querySelector('#df-4e21b8d8-4c81-45f2-80d8-75a6cd3ee526');\n",
              "          const dataTable =\n",
              "            await google.colab.kernel.invokeFunction('convertToInteractive',\n",
              "                                                     [key], {});\n",
              "          if (!dataTable) return;\n",
              "\n",
              "          const docLinkHtml = 'Like what you see? Visit the ' +\n",
              "            '<a target=\"_blank\" href=https://colab.research.google.com/notebooks/data_table.ipynb>data table notebook</a>'\n",
              "            + ' to learn more about interactive tables.';\n",
              "          element.innerHTML = '';\n",
              "          dataTable['output_type'] = 'display_data';\n",
              "          await google.colab.output.renderOutput(dataTable, element);\n",
              "          const docLink = document.createElement('div');\n",
              "          docLink.innerHTML = docLinkHtml;\n",
              "          element.appendChild(docLink);\n",
              "        }\n",
              "      </script>\n",
              "    </div>\n",
              "  </div>\n",
              "  "
            ]
          },
          "metadata": {},
          "execution_count": 50
        }
      ]
    },
    {
      "cell_type": "code",
      "source": [
        "x = data['modified']\n",
        "y = data['target']"
      ],
      "metadata": {
        "id": "YbBa9zRAYXk-"
      },
      "execution_count": 51,
      "outputs": []
    },
    {
      "cell_type": "code",
      "source": [
        "data"
      ],
      "metadata": {
        "colab": {
          "base_uri": "https://localhost:8080/",
          "height": 1000
        },
        "id": "xexlX45cotqW",
        "outputId": "ed9fdf9c-2ba4-489a-ad6d-355b8da6ca67"
      },
      "execution_count": 52,
      "outputs": [
        {
          "output_type": "execute_result",
          "data": {
            "text/plain": [
              "                category  rating label  \\\n",
              "0     Home_and_Kitchen_5       5    CG   \n",
              "1     Home_and_Kitchen_5       5    CG   \n",
              "2     Home_and_Kitchen_5       5    CG   \n",
              "3     Home_and_Kitchen_5       1    CG   \n",
              "4     Home_and_Kitchen_5       5    CG   \n",
              "...                  ...     ...   ...   \n",
              "4051  Home_and_Kitchen_5       5    OR   \n",
              "4052  Home_and_Kitchen_5       5    CG   \n",
              "4053  Home_and_Kitchen_5       5    OR   \n",
              "4054  Home_and_Kitchen_5       5    CG   \n",
              "4055  Home_and_Kitchen_5       5    OR   \n",
              "\n",
              "                                                  text_ review_class  target  \\\n",
              "0     Love this!  Well made, sturdy, and very comfor...         Fake       0   \n",
              "1     love it, a great upgrade from the original.  I...         Fake       0   \n",
              "2     This pillow saved my back. I love the look and...         Fake       0   \n",
              "3     Missing information on how to use it, but it i...         Fake       0   \n",
              "4     Very nice set. Good quality. We have had the s...         Fake       0   \n",
              "...                                                 ...          ...     ...   \n",
              "4051  I bought this vacuum cleaner 3 months ago and ...      Genuine       1   \n",
              "4052  I have a whole set of containers and they look...      Genuine       0   \n",
              "4053  I purchased this after a friend recommended it...      Genuine       1   \n",
              "4054  Well, I've been curious about this set and am ...      Genuine       0   \n",
              "4055  I've had one of these for 3 years now, and wou...      Genuine       1   \n",
              "\n",
              "      rev_cls                                          tokenized  \\\n",
              "0           0  [Love, this, Well, made, sturdy, and, very, co...   \n",
              "1           0  [love, it, a, great, upgrade, from, the, origi...   \n",
              "2           0  [This, pillow, saved, my, back, I, love, the, ...   \n",
              "3           0  [Missing, information, on, how, to, use, it, b...   \n",
              "4           0  [Very, nice, set, Good, quality, We, have, had...   \n",
              "...       ...                                                ...   \n",
              "4051        1  [I, bought, this, vacuum, cleaner, months, ago...   \n",
              "4052        1  [I, have, a, whole, set, of, containers, and, ...   \n",
              "4053        1  [I, purchased, this, after, a, friend, recomme...   \n",
              "4054        1  [Well, I, been, curious, about, this, set, and...   \n",
              "4055        1  [I, had, one, of, these, for, years, now, and,...   \n",
              "\n",
              "                                      stopwords_removed  \\\n",
              "0     [Love, Well, made, sturdy, comfortable, I, lov...   \n",
              "1     [love, great, upgrade, original, I, mine, coup...   \n",
              "2     [This, pillow, saved, back, I, love, look, fee...   \n",
              "3     [Missing, information, use, great, product, pr...   \n",
              "4     [Very, nice, set, Good, quality, We, set, two,...   \n",
              "...                                                 ...   \n",
              "4051  [I, bought, vacuum, cleaner, months, ago, abso...   \n",
              "4052  [I, whole, set, containers, look, like, ones, ...   \n",
              "4053  [I, purchased, friend, recommended, I, power, ...   \n",
              "4054  [Well, I, curious, set, pleased, The, dimensio...   \n",
              "4055  [I, one, years, would, still, buy, Yeh, little...   \n",
              "\n",
              "                                         porter_stemmed  \\\n",
              "0     [love, well, made, sturdi, comfort, i, love, v...   \n",
              "1     [love, great, upgrad, origin, i, mine, coupl, ...   \n",
              "2     [thi, pillow, save, back, i, love, look, feel,...   \n",
              "3         [miss, inform, use, great, product, price, i]   \n",
              "4     [veri, nice, set, good, qualiti, we, set, two,...   \n",
              "...                                                 ...   \n",
              "4051  [i, bought, vacuum, cleaner, month, ago, absol...   \n",
              "4052  [i, whole, set, contain, look, like, one, i, u...   \n",
              "4053  [i, purchas, friend, recommend, i, power, bake...   \n",
              "4054  [well, i, curiou, set, pleas, the, dimens, rig...   \n",
              "4055  [i, one, year, would, still, buy, yeh, littl, ...   \n",
              "\n",
              "                                               modified  \\\n",
              "0      love well made sturdi comfort i love veri pretti   \n",
              "1            love great upgrad origin i mine coupl year   \n",
              "2          thi pillow save back i love look feel pillow   \n",
              "3                 miss inform use great product price i   \n",
              "4           veri nice set good qualiti we set two month   \n",
              "...                                                 ...   \n",
              "4051  i bought vacuum cleaner month ago absolut love...   \n",
              "4052  i whole set contain look like one i use i repl...   \n",
              "4053  i purchas friend recommend i power baker i mer...   \n",
              "4054  well i curiou set pleas the dimens right the b...   \n",
              "4055  i one year would still buy yeh littl heavi but...   \n",
              "\n",
              "                                       sentiment_scores  polarity sentiment  \\\n",
              "0     {'neg': 0.0, 'neu': 0.235, 'pos': 0.765, 'comp...    0.9186  positive   \n",
              "1     {'neg': 0.0, 'neu': 0.376, 'pos': 0.624, 'comp...    0.8519  positive   \n",
              "2     {'neg': 0.0, 'neu': 0.448, 'pos': 0.552, 'comp...    0.8126  positive   \n",
              "3     {'neg': 0.165, 'neu': 0.412, 'pos': 0.423, 'co...    0.5423   neutral   \n",
              "4     {'neg': 0.0, 'neu': 0.551, 'pos': 0.449, 'comp...    0.6908  positive   \n",
              "...                                                 ...       ...       ...   \n",
              "4051  {'neg': 0.09, 'neu': 0.696, 'pos': 0.215, 'com...    0.9744  positive   \n",
              "4052  {'neg': 0.0, 'neu': 0.612, 'pos': 0.388, 'comp...    0.9958  positive   \n",
              "4053  {'neg': 0.03, 'neu': 0.704, 'pos': 0.266, 'com...    0.9931  positive   \n",
              "4054  {'neg': 0.032, 'neu': 0.533, 'pos': 0.435, 'co...    0.9961  positive   \n",
              "4055  {'neg': 0.047, 'neu': 0.756, 'pos': 0.197, 'co...    0.9839  positive   \n",
              "\n",
              "     extremesentiments  sentiment_numeric  coherence  \n",
              "0        Very positive                2.0          1  \n",
              "1        Very positive                2.0          1  \n",
              "2        Very positive                2.0          1  \n",
              "3              neutral                1.0          0  \n",
              "4        Very positive                2.0          1  \n",
              "...                ...                ...        ...  \n",
              "4051     Very positive                2.0          1  \n",
              "4052     Very positive                2.0          1  \n",
              "4053     Very positive                2.0          1  \n",
              "4054     Very positive                2.0          1  \n",
              "4055     Very positive                2.0          1  \n",
              "\n",
              "[4056 rows x 17 columns]"
            ],
            "text/html": [
              "\n",
              "  <div id=\"df-ca7a3947-186b-4cba-b8d7-ca18f464a75d\">\n",
              "    <div class=\"colab-df-container\">\n",
              "      <div>\n",
              "<style scoped>\n",
              "    .dataframe tbody tr th:only-of-type {\n",
              "        vertical-align: middle;\n",
              "    }\n",
              "\n",
              "    .dataframe tbody tr th {\n",
              "        vertical-align: top;\n",
              "    }\n",
              "\n",
              "    .dataframe thead th {\n",
              "        text-align: right;\n",
              "    }\n",
              "</style>\n",
              "<table border=\"1\" class=\"dataframe\">\n",
              "  <thead>\n",
              "    <tr style=\"text-align: right;\">\n",
              "      <th></th>\n",
              "      <th>category</th>\n",
              "      <th>rating</th>\n",
              "      <th>label</th>\n",
              "      <th>text_</th>\n",
              "      <th>review_class</th>\n",
              "      <th>target</th>\n",
              "      <th>rev_cls</th>\n",
              "      <th>tokenized</th>\n",
              "      <th>stopwords_removed</th>\n",
              "      <th>porter_stemmed</th>\n",
              "      <th>modified</th>\n",
              "      <th>sentiment_scores</th>\n",
              "      <th>polarity</th>\n",
              "      <th>sentiment</th>\n",
              "      <th>extremesentiments</th>\n",
              "      <th>sentiment_numeric</th>\n",
              "      <th>coherence</th>\n",
              "    </tr>\n",
              "  </thead>\n",
              "  <tbody>\n",
              "    <tr>\n",
              "      <th>0</th>\n",
              "      <td>Home_and_Kitchen_5</td>\n",
              "      <td>5</td>\n",
              "      <td>CG</td>\n",
              "      <td>Love this!  Well made, sturdy, and very comfor...</td>\n",
              "      <td>Fake</td>\n",
              "      <td>0</td>\n",
              "      <td>0</td>\n",
              "      <td>[Love, this, Well, made, sturdy, and, very, co...</td>\n",
              "      <td>[Love, Well, made, sturdy, comfortable, I, lov...</td>\n",
              "      <td>[love, well, made, sturdi, comfort, i, love, v...</td>\n",
              "      <td>love well made sturdi comfort i love veri pretti</td>\n",
              "      <td>{'neg': 0.0, 'neu': 0.235, 'pos': 0.765, 'comp...</td>\n",
              "      <td>0.9186</td>\n",
              "      <td>positive</td>\n",
              "      <td>Very positive</td>\n",
              "      <td>2.0</td>\n",
              "      <td>1</td>\n",
              "    </tr>\n",
              "    <tr>\n",
              "      <th>1</th>\n",
              "      <td>Home_and_Kitchen_5</td>\n",
              "      <td>5</td>\n",
              "      <td>CG</td>\n",
              "      <td>love it, a great upgrade from the original.  I...</td>\n",
              "      <td>Fake</td>\n",
              "      <td>0</td>\n",
              "      <td>0</td>\n",
              "      <td>[love, it, a, great, upgrade, from, the, origi...</td>\n",
              "      <td>[love, great, upgrade, original, I, mine, coup...</td>\n",
              "      <td>[love, great, upgrad, origin, i, mine, coupl, ...</td>\n",
              "      <td>love great upgrad origin i mine coupl year</td>\n",
              "      <td>{'neg': 0.0, 'neu': 0.376, 'pos': 0.624, 'comp...</td>\n",
              "      <td>0.8519</td>\n",
              "      <td>positive</td>\n",
              "      <td>Very positive</td>\n",
              "      <td>2.0</td>\n",
              "      <td>1</td>\n",
              "    </tr>\n",
              "    <tr>\n",
              "      <th>2</th>\n",
              "      <td>Home_and_Kitchen_5</td>\n",
              "      <td>5</td>\n",
              "      <td>CG</td>\n",
              "      <td>This pillow saved my back. I love the look and...</td>\n",
              "      <td>Fake</td>\n",
              "      <td>0</td>\n",
              "      <td>0</td>\n",
              "      <td>[This, pillow, saved, my, back, I, love, the, ...</td>\n",
              "      <td>[This, pillow, saved, back, I, love, look, fee...</td>\n",
              "      <td>[thi, pillow, save, back, i, love, look, feel,...</td>\n",
              "      <td>thi pillow save back i love look feel pillow</td>\n",
              "      <td>{'neg': 0.0, 'neu': 0.448, 'pos': 0.552, 'comp...</td>\n",
              "      <td>0.8126</td>\n",
              "      <td>positive</td>\n",
              "      <td>Very positive</td>\n",
              "      <td>2.0</td>\n",
              "      <td>1</td>\n",
              "    </tr>\n",
              "    <tr>\n",
              "      <th>3</th>\n",
              "      <td>Home_and_Kitchen_5</td>\n",
              "      <td>1</td>\n",
              "      <td>CG</td>\n",
              "      <td>Missing information on how to use it, but it i...</td>\n",
              "      <td>Fake</td>\n",
              "      <td>0</td>\n",
              "      <td>0</td>\n",
              "      <td>[Missing, information, on, how, to, use, it, b...</td>\n",
              "      <td>[Missing, information, use, great, product, pr...</td>\n",
              "      <td>[miss, inform, use, great, product, price, i]</td>\n",
              "      <td>miss inform use great product price i</td>\n",
              "      <td>{'neg': 0.165, 'neu': 0.412, 'pos': 0.423, 'co...</td>\n",
              "      <td>0.5423</td>\n",
              "      <td>neutral</td>\n",
              "      <td>neutral</td>\n",
              "      <td>1.0</td>\n",
              "      <td>0</td>\n",
              "    </tr>\n",
              "    <tr>\n",
              "      <th>4</th>\n",
              "      <td>Home_and_Kitchen_5</td>\n",
              "      <td>5</td>\n",
              "      <td>CG</td>\n",
              "      <td>Very nice set. Good quality. We have had the s...</td>\n",
              "      <td>Fake</td>\n",
              "      <td>0</td>\n",
              "      <td>0</td>\n",
              "      <td>[Very, nice, set, Good, quality, We, have, had...</td>\n",
              "      <td>[Very, nice, set, Good, quality, We, set, two,...</td>\n",
              "      <td>[veri, nice, set, good, qualiti, we, set, two,...</td>\n",
              "      <td>veri nice set good qualiti we set two month</td>\n",
              "      <td>{'neg': 0.0, 'neu': 0.551, 'pos': 0.449, 'comp...</td>\n",
              "      <td>0.6908</td>\n",
              "      <td>positive</td>\n",
              "      <td>Very positive</td>\n",
              "      <td>2.0</td>\n",
              "      <td>1</td>\n",
              "    </tr>\n",
              "    <tr>\n",
              "      <th>...</th>\n",
              "      <td>...</td>\n",
              "      <td>...</td>\n",
              "      <td>...</td>\n",
              "      <td>...</td>\n",
              "      <td>...</td>\n",
              "      <td>...</td>\n",
              "      <td>...</td>\n",
              "      <td>...</td>\n",
              "      <td>...</td>\n",
              "      <td>...</td>\n",
              "      <td>...</td>\n",
              "      <td>...</td>\n",
              "      <td>...</td>\n",
              "      <td>...</td>\n",
              "      <td>...</td>\n",
              "      <td>...</td>\n",
              "      <td>...</td>\n",
              "    </tr>\n",
              "    <tr>\n",
              "      <th>4051</th>\n",
              "      <td>Home_and_Kitchen_5</td>\n",
              "      <td>5</td>\n",
              "      <td>OR</td>\n",
              "      <td>I bought this vacuum cleaner 3 months ago and ...</td>\n",
              "      <td>Genuine</td>\n",
              "      <td>1</td>\n",
              "      <td>1</td>\n",
              "      <td>[I, bought, this, vacuum, cleaner, months, ago...</td>\n",
              "      <td>[I, bought, vacuum, cleaner, months, ago, abso...</td>\n",
              "      <td>[i, bought, vacuum, cleaner, month, ago, absol...</td>\n",
              "      <td>i bought vacuum cleaner month ago absolut love...</td>\n",
              "      <td>{'neg': 0.09, 'neu': 0.696, 'pos': 0.215, 'com...</td>\n",
              "      <td>0.9744</td>\n",
              "      <td>positive</td>\n",
              "      <td>Very positive</td>\n",
              "      <td>2.0</td>\n",
              "      <td>1</td>\n",
              "    </tr>\n",
              "    <tr>\n",
              "      <th>4052</th>\n",
              "      <td>Home_and_Kitchen_5</td>\n",
              "      <td>5</td>\n",
              "      <td>CG</td>\n",
              "      <td>I have a whole set of containers and they look...</td>\n",
              "      <td>Genuine</td>\n",
              "      <td>0</td>\n",
              "      <td>1</td>\n",
              "      <td>[I, have, a, whole, set, of, containers, and, ...</td>\n",
              "      <td>[I, whole, set, containers, look, like, ones, ...</td>\n",
              "      <td>[i, whole, set, contain, look, like, one, i, u...</td>\n",
              "      <td>i whole set contain look like one i use i repl...</td>\n",
              "      <td>{'neg': 0.0, 'neu': 0.612, 'pos': 0.388, 'comp...</td>\n",
              "      <td>0.9958</td>\n",
              "      <td>positive</td>\n",
              "      <td>Very positive</td>\n",
              "      <td>2.0</td>\n",
              "      <td>1</td>\n",
              "    </tr>\n",
              "    <tr>\n",
              "      <th>4053</th>\n",
              "      <td>Home_and_Kitchen_5</td>\n",
              "      <td>5</td>\n",
              "      <td>OR</td>\n",
              "      <td>I purchased this after a friend recommended it...</td>\n",
              "      <td>Genuine</td>\n",
              "      <td>1</td>\n",
              "      <td>1</td>\n",
              "      <td>[I, purchased, this, after, a, friend, recomme...</td>\n",
              "      <td>[I, purchased, friend, recommended, I, power, ...</td>\n",
              "      <td>[i, purchas, friend, recommend, i, power, bake...</td>\n",
              "      <td>i purchas friend recommend i power baker i mer...</td>\n",
              "      <td>{'neg': 0.03, 'neu': 0.704, 'pos': 0.266, 'com...</td>\n",
              "      <td>0.9931</td>\n",
              "      <td>positive</td>\n",
              "      <td>Very positive</td>\n",
              "      <td>2.0</td>\n",
              "      <td>1</td>\n",
              "    </tr>\n",
              "    <tr>\n",
              "      <th>4054</th>\n",
              "      <td>Home_and_Kitchen_5</td>\n",
              "      <td>5</td>\n",
              "      <td>CG</td>\n",
              "      <td>Well, I've been curious about this set and am ...</td>\n",
              "      <td>Genuine</td>\n",
              "      <td>0</td>\n",
              "      <td>1</td>\n",
              "      <td>[Well, I, been, curious, about, this, set, and...</td>\n",
              "      <td>[Well, I, curious, set, pleased, The, dimensio...</td>\n",
              "      <td>[well, i, curiou, set, pleas, the, dimens, rig...</td>\n",
              "      <td>well i curiou set pleas the dimens right the b...</td>\n",
              "      <td>{'neg': 0.032, 'neu': 0.533, 'pos': 0.435, 'co...</td>\n",
              "      <td>0.9961</td>\n",
              "      <td>positive</td>\n",
              "      <td>Very positive</td>\n",
              "      <td>2.0</td>\n",
              "      <td>1</td>\n",
              "    </tr>\n",
              "    <tr>\n",
              "      <th>4055</th>\n",
              "      <td>Home_and_Kitchen_5</td>\n",
              "      <td>5</td>\n",
              "      <td>OR</td>\n",
              "      <td>I've had one of these for 3 years now, and wou...</td>\n",
              "      <td>Genuine</td>\n",
              "      <td>1</td>\n",
              "      <td>1</td>\n",
              "      <td>[I, had, one, of, these, for, years, now, and,...</td>\n",
              "      <td>[I, one, years, would, still, buy, Yeh, little...</td>\n",
              "      <td>[i, one, year, would, still, buy, yeh, littl, ...</td>\n",
              "      <td>i one year would still buy yeh littl heavi but...</td>\n",
              "      <td>{'neg': 0.047, 'neu': 0.756, 'pos': 0.197, 'co...</td>\n",
              "      <td>0.9839</td>\n",
              "      <td>positive</td>\n",
              "      <td>Very positive</td>\n",
              "      <td>2.0</td>\n",
              "      <td>1</td>\n",
              "    </tr>\n",
              "  </tbody>\n",
              "</table>\n",
              "<p>4056 rows × 17 columns</p>\n",
              "</div>\n",
              "      <button class=\"colab-df-convert\" onclick=\"convertToInteractive('df-ca7a3947-186b-4cba-b8d7-ca18f464a75d')\"\n",
              "              title=\"Convert this dataframe to an interactive table.\"\n",
              "              style=\"display:none;\">\n",
              "        \n",
              "  <svg xmlns=\"http://www.w3.org/2000/svg\" height=\"24px\"viewBox=\"0 0 24 24\"\n",
              "       width=\"24px\">\n",
              "    <path d=\"M0 0h24v24H0V0z\" fill=\"none\"/>\n",
              "    <path d=\"M18.56 5.44l.94 2.06.94-2.06 2.06-.94-2.06-.94-.94-2.06-.94 2.06-2.06.94zm-11 1L8.5 8.5l.94-2.06 2.06-.94-2.06-.94L8.5 2.5l-.94 2.06-2.06.94zm10 10l.94 2.06.94-2.06 2.06-.94-2.06-.94-.94-2.06-.94 2.06-2.06.94z\"/><path d=\"M17.41 7.96l-1.37-1.37c-.4-.4-.92-.59-1.43-.59-.52 0-1.04.2-1.43.59L10.3 9.45l-7.72 7.72c-.78.78-.78 2.05 0 2.83L4 21.41c.39.39.9.59 1.41.59.51 0 1.02-.2 1.41-.59l7.78-7.78 2.81-2.81c.8-.78.8-2.07 0-2.86zM5.41 20L4 18.59l7.72-7.72 1.47 1.35L5.41 20z\"/>\n",
              "  </svg>\n",
              "      </button>\n",
              "      \n",
              "  <style>\n",
              "    .colab-df-container {\n",
              "      display:flex;\n",
              "      flex-wrap:wrap;\n",
              "      gap: 12px;\n",
              "    }\n",
              "\n",
              "    .colab-df-convert {\n",
              "      background-color: #E8F0FE;\n",
              "      border: none;\n",
              "      border-radius: 50%;\n",
              "      cursor: pointer;\n",
              "      display: none;\n",
              "      fill: #1967D2;\n",
              "      height: 32px;\n",
              "      padding: 0 0 0 0;\n",
              "      width: 32px;\n",
              "    }\n",
              "\n",
              "    .colab-df-convert:hover {\n",
              "      background-color: #E2EBFA;\n",
              "      box-shadow: 0px 1px 2px rgba(60, 64, 67, 0.3), 0px 1px 3px 1px rgba(60, 64, 67, 0.15);\n",
              "      fill: #174EA6;\n",
              "    }\n",
              "\n",
              "    [theme=dark] .colab-df-convert {\n",
              "      background-color: #3B4455;\n",
              "      fill: #D2E3FC;\n",
              "    }\n",
              "\n",
              "    [theme=dark] .colab-df-convert:hover {\n",
              "      background-color: #434B5C;\n",
              "      box-shadow: 0px 1px 3px 1px rgba(0, 0, 0, 0.15);\n",
              "      filter: drop-shadow(0px 1px 2px rgba(0, 0, 0, 0.3));\n",
              "      fill: #FFFFFF;\n",
              "    }\n",
              "  </style>\n",
              "\n",
              "      <script>\n",
              "        const buttonEl =\n",
              "          document.querySelector('#df-ca7a3947-186b-4cba-b8d7-ca18f464a75d button.colab-df-convert');\n",
              "        buttonEl.style.display =\n",
              "          google.colab.kernel.accessAllowed ? 'block' : 'none';\n",
              "\n",
              "        async function convertToInteractive(key) {\n",
              "          const element = document.querySelector('#df-ca7a3947-186b-4cba-b8d7-ca18f464a75d');\n",
              "          const dataTable =\n",
              "            await google.colab.kernel.invokeFunction('convertToInteractive',\n",
              "                                                     [key], {});\n",
              "          if (!dataTable) return;\n",
              "\n",
              "          const docLinkHtml = 'Like what you see? Visit the ' +\n",
              "            '<a target=\"_blank\" href=https://colab.research.google.com/notebooks/data_table.ipynb>data table notebook</a>'\n",
              "            + ' to learn more about interactive tables.';\n",
              "          element.innerHTML = '';\n",
              "          dataTable['output_type'] = 'display_data';\n",
              "          await google.colab.output.renderOutput(dataTable, element);\n",
              "          const docLink = document.createElement('div');\n",
              "          docLink.innerHTML = docLinkHtml;\n",
              "          element.appendChild(docLink);\n",
              "        }\n",
              "      </script>\n",
              "    </div>\n",
              "  </div>\n",
              "  "
            ]
          },
          "metadata": {},
          "execution_count": 52
        }
      ]
    },
    {
      "cell_type": "code",
      "source": [
        "from sklearn.model_selection import train_test_split\n",
        "x_train, x_test, y_train, y_test = train_test_split(x, y, test_size=0.3, random_state=1, shuffle=True)\n",
        "\n",
        "print(x_train.shape)\n",
        "print(x_test.shape)\n",
        "print(y_train.shape)\n",
        "print(y_test.shape)"
      ],
      "metadata": {
        "colab": {
          "base_uri": "https://localhost:8080/"
        },
        "id": "LP0O-PUgANoZ",
        "outputId": "e4e806dd-4e85-4490-eaf1-131009683b0b"
      },
      "execution_count": 53,
      "outputs": [
        {
          "output_type": "stream",
          "name": "stdout",
          "text": [
            "(2839,)\n",
            "(1217,)\n",
            "(2839,)\n",
            "(1217,)\n"
          ]
        }
      ]
    },
    {
      "cell_type": "code",
      "source": [
        "# Split the dataset into training and testing sets\n",
        "train_size = int(len(data) * 0.8)\n",
        "train_data = data[:train_size]\n",
        "test_data = data[train_size:]\n",
        "\n",
        "# Import the required libraries\n",
        "from sklearn.feature_extraction.text import TfidfVectorizer\n",
        "\n",
        "# Create an instance of the TfidfVectorizer class\n",
        "vectorizer = TfidfVectorizer()\n",
        "\n",
        "train_bow_matrix = vectorizer.fit_transform(train_data['modified'])\n",
        "test_bow_matrix = vectorizer.transform(test_data['modified'])\n",
        "\n",
        "# Train logistic regression model\n",
        "lr_model = LogisticRegression()\n",
        "lr_model.fit(train_bow_matrix, train_data['target'])\n",
        "\n",
        "Y_pred_lr = lr_model.predict(test_bow_matrix)   \n",
        "\n",
        "\n",
        "print(classification_report(test_data['target'], Y_pred_lr))"
      ],
      "metadata": {
        "colab": {
          "base_uri": "https://localhost:8080/"
        },
        "id": "Ne_PGwrlesnV",
        "outputId": "3a96512f-6413-4231-ed79-8a207007bc89"
      },
      "execution_count": 54,
      "outputs": [
        {
          "output_type": "stream",
          "name": "stdout",
          "text": [
            "              precision    recall  f1-score   support\n",
            "\n",
            "           0       0.93      0.94      0.93       404\n",
            "           1       0.94      0.93      0.93       408\n",
            "\n",
            "    accuracy                           0.93       812\n",
            "   macro avg       0.93      0.93      0.93       812\n",
            "weighted avg       0.93      0.93      0.93       812\n",
            "\n"
          ]
        }
      ]
    },
    {
      "cell_type": "code",
      "source": [
        "print('Accuracy Score : ' + str(round(accuracy_score(test_data['target'],Y_pred_lr),2)))\n",
        "print('Precision Score : ' + str(round(precision_score(test_data['target'],Y_pred_lr),2)))\n",
        "print('Recall Score : ' + str(round(recall_score(test_data['target'],Y_pred_lr),2)))\n",
        "print('F-Score : ' + str(round(f1_score(test_data['target'],Y_pred_lr),2)))"
      ],
      "metadata": {
        "colab": {
          "base_uri": "https://localhost:8080/"
        },
        "id": "m6w-9uY88mER",
        "outputId": "39358d94-1d9f-493c-dc0d-3fa749cb9a64"
      },
      "execution_count": 55,
      "outputs": [
        {
          "output_type": "stream",
          "name": "stdout",
          "text": [
            "Accuracy Score : 0.93\n",
            "Precision Score : 0.94\n",
            "Recall Score : 0.93\n",
            "F-Score : 0.93\n"
          ]
        }
      ]
    },
    {
      "cell_type": "code",
      "source": [
        "cf_matrix_lr = confusion_matrix(test_data['target'], Y_pred_lr)\n",
        "print(cf_matrix_lr)\n",
        "\n",
        "ax = sns.heatmap(cf_matrix_lr/np.sum(cf_matrix_lr), annot=True, fmt='.2%', cmap='binary')\n",
        "\n",
        "ax.set_title('Logistic Regression Confusion Matrix\\n\\n');\n",
        "ax.set_xlabel('\\nPredicted Values')\n",
        "ax.set_ylabel('Actual Values ');\n",
        "\n",
        "## Ticket labels - List must be in alphabetical order\n",
        "ax.xaxis.set_ticklabels(['0','1'])\n",
        "ax.yaxis.set_ticklabels(['0','1'])\n",
        "\n",
        "## Display the visualization of the Confusion Matrix.\n",
        "plt.show()"
      ],
      "metadata": {
        "colab": {
          "base_uri": "https://localhost:8080/",
          "height": 565
        },
        "id": "VBObtS5dLVTg",
        "outputId": "54c49ba2-527d-4237-ab45-c1fe7cc29343"
      },
      "execution_count": 56,
      "outputs": [
        {
          "output_type": "stream",
          "name": "stdout",
          "text": [
            "[[379  25]\n",
            " [ 29 379]]\n"
          ]
        },
        {
          "output_type": "display_data",
          "data": {
            "text/plain": [
              "<Figure size 640x480 with 2 Axes>"
            ],
            "image/png": "[encoded data removed]"
          },
          "metadata": {}
        }
      ]
    },
    {
      "cell_type": "code",
      "source": [
        "from sklearn.svm import SVC\n",
        "\n",
        "svm = SVC(kernel='linear')\n",
        "svm.fit(train_bow_matrix, train_data['target'])\n",
        "# Evaluate model on test data\n",
        "Y_pred_svc = svm.predict(test_bow_matrix)   \n",
        "\n",
        "\n",
        "print(classification_report(test_data['target'], Y_pred_svc))\n"
      ],
      "metadata": {
        "colab": {
          "base_uri": "https://localhost:8080/"
        },
        "id": "11UL8bKvCm6o",
        "outputId": "05c72612-c5a0-4585-f6da-f0cfec668aad"
      },
      "execution_count": 57,
      "outputs": [
        {
          "output_type": "stream",
          "name": "stdout",
          "text": [
            "              precision    recall  f1-score   support\n",
            "\n",
            "           0       0.97      0.92      0.94       404\n",
            "           1       0.92      0.97      0.95       408\n",
            "\n",
            "    accuracy                           0.94       812\n",
            "   macro avg       0.94      0.94      0.94       812\n",
            "weighted avg       0.94      0.94      0.94       812\n",
            "\n"
          ]
        }
      ]
    },
    {
      "cell_type": "code",
      "source": [
        "print('Accuracy Score : ' + str(round(accuracy_score(test_data['target'],Y_pred_svc),2)))\n",
        "print('Precision Score : ' + str(round(precision_score(test_data['target'],Y_pred_svc),2)))\n",
        "print('Recall Score : ' + str(round(recall_score(test_data['target'],Y_pred_svc),2)))\n",
        "print('F-Score : ' + str(round(f1_score(test_data['target'],Y_pred_svc),2)))"
      ],
      "metadata": {
        "colab": {
          "base_uri": "https://localhost:8080/"
        },
        "id": "Or1K6yUL9oUo",
        "outputId": "ee234c25-fe41-459d-b596-f9aef780c2ac"
      },
      "execution_count": 58,
      "outputs": [
        {
          "output_type": "stream",
          "name": "stdout",
          "text": [
            "Accuracy Score : 0.94\n",
            "Precision Score : 0.92\n",
            "Recall Score : 0.97\n",
            "F-Score : 0.95\n"
          ]
        }
      ]
    },
    {
      "cell_type": "code",
      "source": [
        "cf_matrix_svm = confusion_matrix(test_data['target'], Y_pred_svc)\n",
        "print(cf_matrix_svm)\n",
        "\n",
        "ax = sns.heatmap(cf_matrix_svm/np.sum(cf_matrix_svm), annot=True, fmt='.2%', cmap='binary')\n",
        "\n",
        "ax.set_title('SVM Confusion Matrix\\n\\n');\n",
        "ax.set_xlabel('\\nPredicted Values')\n",
        "ax.set_ylabel('Actual Values ');\n",
        "\n",
        "## Ticket labels - List must be in alphabetical order\n",
        "ax.xaxis.set_ticklabels(['0','1'])\n",
        "ax.yaxis.set_ticklabels(['0','1'])\n",
        "\n",
        "## Display the visualization of the Confusion Matrix.\n",
        "plt.show()"
      ],
      "metadata": {
        "colab": {
          "base_uri": "https://localhost:8080/",
          "height": 565
        },
        "id": "hH_SBGYTTy0i",
        "outputId": "8c6e87aa-00d7-4f2b-fd0e-24a4691fdb55"
      },
      "execution_count": 59,
      "outputs": [
        {
          "output_type": "stream",
          "name": "stdout",
          "text": [
            "[[370  34]\n",
            " [ 12 396]]\n"
          ]
        },
        {
          "output_type": "display_data",
          "data": {
            "text/plain": [
              "<Figure size 640x480 with 2 Axes>"
            ],
            "image/png": "[encoded data removed]"
          },
          "metadata": {}
        }
      ]
    },
    {
      "cell_type": "code",
      "source": [
        "from sklearn.ensemble import RandomForestClassifier, VotingClassifier\n",
        "\n",
        "# instantiating the classifier \n",
        "randomforest_classifier = RandomForestClassifier(random_state=0)\n",
        "\n",
        "\n",
        "# fit the model\n",
        "randomforest_classifier.fit(train_bow_matrix, train_data['target'])\n",
        "Y_pred_rf = randomforest_classifier.predict(test_bow_matrix)   \n",
        "\n",
        "\n",
        "print(classification_report(test_data['target'], Y_pred_rf))"
      ],
      "metadata": {
        "colab": {
          "base_uri": "https://localhost:8080/"
        },
        "id": "x6JZOdksQOut",
        "outputId": "5b2b6bfa-6bd2-4bbb-ae4e-64fb3d1890bd"
      },
      "execution_count": 60,
      "outputs": [
        {
          "output_type": "stream",
          "name": "stdout",
          "text": [
            "              precision    recall  f1-score   support\n",
            "\n",
            "           0       0.99      0.69      0.82       404\n",
            "           1       0.77      0.99      0.86       408\n",
            "\n",
            "    accuracy                           0.84       812\n",
            "   macro avg       0.88      0.84      0.84       812\n",
            "weighted avg       0.88      0.84      0.84       812\n",
            "\n"
          ]
        }
      ]
    },
    {
      "cell_type": "code",
      "source": [
        "print('Accuracy Score : ' + str(round(accuracy_score(test_data['target'],Y_pred_rf),2)))\n",
        "print('Precision Score : ' + str(round(precision_score(test_data['target'],Y_pred_rf),2)))\n",
        "print('Recall Score : ' + str(round(recall_score(test_data['target'],Y_pred_rf),2)))\n",
        "print('F-Score : ' + str(round(f1_score(test_data['target'],Y_pred_rf),2)))"
      ],
      "metadata": {
        "colab": {
          "base_uri": "https://localhost:8080/"
        },
        "id": "feTs6q8W96Te",
        "outputId": "f20711f2-7b52-4d82-cb51-2c80f1b7ce20"
      },
      "execution_count": 61,
      "outputs": [
        {
          "output_type": "stream",
          "name": "stdout",
          "text": [
            "Accuracy Score : 0.84\n",
            "Precision Score : 0.77\n",
            "Recall Score : 0.99\n",
            "F-Score : 0.86\n"
          ]
        }
      ]
    },
    {
      "cell_type": "code",
      "source": [
        "cf_matrix_rf = confusion_matrix(test_data['target'], Y_pred_rf)\n",
        "print(cf_matrix_rf)\n",
        "\n",
        "ax = sns.heatmap(cf_matrix_rf/np.sum(cf_matrix_rf), annot=True, fmt='.2%', cmap='binary')\n",
        "\n",
        "ax.set_title('Random Forest Classifier Confusion Matrix\\n\\n');\n",
        "ax.set_xlabel('\\nPredicted Values')\n",
        "ax.set_ylabel('Actual Values ');\n",
        "\n",
        "## Ticket labels - List must be in alphabetical order\n",
        "ax.xaxis.set_ticklabels(['0','1'])\n",
        "ax.yaxis.set_ticklabels(['0','1'])\n",
        "\n",
        "## Display the visualization of the Confusion Matrix.\n",
        "plt.show()"
      ],
      "metadata": {
        "colab": {
          "base_uri": "https://localhost:8080/",
          "height": 565
        },
        "id": "YNMCuvuUTIyV",
        "outputId": "139527e2-3585-497b-a0a6-be34738d2d04"
      },
      "execution_count": 62,
      "outputs": [
        {
          "output_type": "stream",
          "name": "stdout",
          "text": [
            "[[280 124]\n",
            " [  3 405]]\n"
          ]
        },
        {
          "output_type": "display_data",
          "data": {
            "text/plain": [
              "<Figure size 640x480 with 2 Axes>"
            ],
            "image/png": "[encoded data removed]"
          },
          "metadata": {}
        }
      ]
    },
    {
      "cell_type": "code",
      "source": [
        "# Ensemble of Models \n",
        "estimator = [] \n",
        "estimator.append(('LR',LogisticRegression(solver ='lbfgs',multi_class ='multinomial',max_iter = 200))) \n",
        "estimator.append(('SVC', SVC(gamma ='auto', probability = True))) \n",
        "estimator.append(('RFC', RandomForestClassifier())) "
      ],
      "metadata": {
        "id": "SukJ8K13D8jF"
      },
      "execution_count": 63,
      "outputs": []
    },
    {
      "cell_type": "code",
      "source": [
        "# Voting Classifier with hard voting \n",
        "from sklearn.ensemble import VotingClassifier\n",
        "hard_voting = VotingClassifier(estimators = estimator, voting ='hard') \n",
        "hard_voting.fit(train_bow_matrix, train_data['target']) \n",
        "Y_pred_hv = hard_voting.predict(test_bow_matrix)   \n",
        "\n",
        "\n",
        "print(classification_report(test_data['target'], Y_pred_hv))"
      ],
      "metadata": {
        "colab": {
          "base_uri": "https://localhost:8080/"
        },
        "id": "3k7Y8NO0EIca",
        "outputId": "fefc2674-d87f-46e6-b458-fff5e98c4e58"
      },
      "execution_count": 64,
      "outputs": [
        {
          "output_type": "stream",
          "name": "stdout",
          "text": [
            "              precision    recall  f1-score   support\n",
            "\n",
            "           0       0.94      0.94      0.94       404\n",
            "           1       0.94      0.94      0.94       408\n",
            "\n",
            "    accuracy                           0.94       812\n",
            "   macro avg       0.94      0.94      0.94       812\n",
            "weighted avg       0.94      0.94      0.94       812\n",
            "\n"
          ]
        }
      ]
    },
    {
      "cell_type": "code",
      "source": [
        "print('Accuracy Score : ' + str(round(accuracy_score(test_data['target'],Y_pred_hv), 2)))\n",
        "print('Precision Score : ' + str(round(precision_score(test_data['target'],Y_pred_hv),2)))\n",
        "print('Recall Score : ' + str(round(recall_score(test_data['target'],Y_pred_hv),2)))\n",
        "print('F-Score : ' + str(round(f1_score(test_data['target'],Y_pred_hv),2)))"
      ],
      "metadata": {
        "colab": {
          "base_uri": "https://localhost:8080/"
        },
        "id": "qMzeTdrB-JP6",
        "outputId": "4ecd8899-68a2-494f-e5b7-bd5b78852594"
      },
      "execution_count": 65,
      "outputs": [
        {
          "output_type": "stream",
          "name": "stdout",
          "text": [
            "Accuracy Score : 0.94\n",
            "Precision Score : 0.94\n",
            "Recall Score : 0.94\n",
            "F-Score : 0.94\n"
          ]
        }
      ]
    },
    {
      "cell_type": "code",
      "source": [
        "cf_matrix_hv = confusion_matrix(test_data['target'], Y_pred_hv)\n",
        "print(cf_matrix_hv)\n",
        "\n",
        "ax = sns.heatmap(cf_matrix_hv/np.sum(cf_matrix_hv), annot=True, fmt='.2%', cmap='binary')\n",
        "\n",
        "ax.set_title('Voting Classifier with hard voting Confusion Matrix\\n\\n');\n",
        "ax.set_xlabel('\\nPredicted Values')\n",
        "ax.set_ylabel('Actual Values ');\n",
        "\n",
        "## Ticket labels - List must be in alphabetical order\n",
        "ax.xaxis.set_ticklabels(['0','1'])\n",
        "ax.yaxis.set_ticklabels(['0','1'])\n",
        "\n",
        "## Display the visualization of the Confusion Matrix.\n",
        "plt.show()"
      ],
      "metadata": {
        "colab": {
          "base_uri": "https://localhost:8080/",
          "height": 565
        },
        "id": "H6lsnW73Mqf9",
        "outputId": "b1cca4af-752c-4d95-f39e-4e0ac44fcd44"
      },
      "execution_count": 67,
      "outputs": [
        {
          "output_type": "stream",
          "name": "stdout",
          "text": [
            "[[380  24]\n",
            " [ 25 383]]\n"
          ]
        },
        {
          "output_type": "display_data",
          "data": {
            "text/plain": [
              "<Figure size 640x480 with 2 Axes>"
            ],
            "image/png": "[encoded data removed]"
          },
          "metadata": {}
        }
      ]
    },
    {
      "cell_type": "code",
      "source": [
        "# Voting Classifier with soft voting \n",
        "soft_voting = VotingClassifier(estimators = estimator, voting ='soft') \n",
        "soft_voting.fit(train_bow_matrix, train_data['target'])\n",
        "Y_pred_sv = soft_voting.predict(test_bow_matrix) \n",
        "\n",
        "print(classification_report(test_data['target'], Y_pred_sv))"
      ],
      "metadata": {
        "colab": {
          "base_uri": "https://localhost:8080/"
        },
        "id": "8bTBkAxtna5x",
        "outputId": "d156a88f-a8f7-4628-bd9f-1519a3f18b15"
      },
      "execution_count": 68,
      "outputs": [
        {
          "output_type": "stream",
          "name": "stdout",
          "text": [
            "              precision    recall  f1-score   support\n",
            "\n",
            "           0       0.99      0.88      0.93       404\n",
            "           1       0.89      0.99      0.94       408\n",
            "\n",
            "    accuracy                           0.93       812\n",
            "   macro avg       0.94      0.93      0.93       812\n",
            "weighted avg       0.94      0.93      0.93       812\n",
            "\n"
          ]
        }
      ]
    },
    {
      "cell_type": "code",
      "source": [
        "print('Accuracy Score : ' + str(round(accuracy_score(test_data['target'],Y_pred_sv),2)))\n",
        "print('Precision Score : ' + str(round(precision_score(test_data['target'],Y_pred_sv),2)))\n",
        "print('Recall Score : ' + str(round(recall_score(test_data['target'],Y_pred_sv),2)))\n",
        "print('F-Score : ' + str(round(f1_score(test_data['target'],Y_pred_sv),2)))"
      ],
      "metadata": {
        "colab": {
          "base_uri": "https://localhost:8080/"
        },
        "id": "vxdJwgIm-iKb",
        "outputId": "28a8bbe3-6375-496a-e67e-e1676790d169"
      },
      "execution_count": 69,
      "outputs": [
        {
          "output_type": "stream",
          "name": "stdout",
          "text": [
            "Accuracy Score : 0.93\n",
            "Precision Score : 0.89\n",
            "Recall Score : 0.99\n",
            "F-Score : 0.94\n"
          ]
        }
      ]
    },
    {
      "cell_type": "code",
      "source": [
        "cf_matrix_sv = confusion_matrix(test_data['target'], Y_pred_sv)\n",
        "print(cf_matrix_sv)\n",
        "\n",
        "ax = sns.heatmap(cf_matrix_sv/np.sum(cf_matrix_sv), annot=True, fmt='.2%', cmap='binary')\n",
        "\n",
        "ax.set_title('Voting Classifier with soft voting Confusion Matrix\\n\\n');\n",
        "ax.set_xlabel('\\nPredicted Values')\n",
        "ax.set_ylabel('Actual Values ');\n",
        "\n",
        "## Ticket labels - List must be in alphabetical order\n",
        "ax.xaxis.set_ticklabels(['0','1'])\n",
        "ax.yaxis.set_ticklabels(['0','1'])\n",
        "\n",
        "## Display the visualization of the Confusion Matrix.\n",
        "plt.show()"
      ],
      "metadata": {
        "colab": {
          "base_uri": "https://localhost:8080/",
          "height": 565
        },
        "id": "gZwGI7tBOyE2",
        "outputId": "5600a124-360f-4583-fba5-ea72392dd399"
      },
      "execution_count": 70,
      "outputs": [
        {
          "output_type": "stream",
          "name": "stdout",
          "text": [
            "[[354  50]\n",
            " [  4 404]]\n"
          ]
        },
        {
          "output_type": "display_data",
          "data": {
            "text/plain": [
              "<Figure size 640x480 with 2 Axes>"
            ],
            "image/png": "[encoded data removed]"
          },
          "metadata": {}
        }
      ]
    },
    {
      "cell_type": "code",
      "source": [
        "# Decision Tree\n",
        "\n",
        "decision_tree = DecisionTreeClassifier()\n",
        "decision_tree.fit(train_bow_matrix, train_data['target'])\n",
        "Y_pred_dt = decision_tree.predict(test_bow_matrix)\n",
        "\n",
        "print(classification_report(test_data['target'], Y_pred_dt))"
      ],
      "metadata": {
        "colab": {
          "base_uri": "https://localhost:8080/"
        },
        "id": "2O_b4J6SoNK3",
        "outputId": "00dbc1fb-1b06-4516-98d9-4d85cf3a8254"
      },
      "execution_count": 71,
      "outputs": [
        {
          "output_type": "stream",
          "name": "stdout",
          "text": [
            "              precision    recall  f1-score   support\n",
            "\n",
            "           0       0.84      0.65      0.74       404\n",
            "           1       0.72      0.88      0.79       408\n",
            "\n",
            "    accuracy                           0.77       812\n",
            "   macro avg       0.78      0.77      0.76       812\n",
            "weighted avg       0.78      0.77      0.76       812\n",
            "\n"
          ]
        }
      ]
    },
    {
      "cell_type": "code",
      "source": [
        "print('Accuracy Score : ' + str(round(accuracy_score(test_data['target'],Y_pred_dt),2)))\n",
        "print('Precision Score : ' + str(round(precision_score(test_data['target'],Y_pred_dt),2)))\n",
        "print('Recall Score : ' + str(round(recall_score(test_data['target'],Y_pred_dt),2)))\n",
        "print('F-Score : ' + str(round(f1_score(test_data['target'],Y_pred_dt),2)))"
      ],
      "metadata": {
        "colab": {
          "base_uri": "https://localhost:8080/"
        },
        "id": "Axe6cxkJ-olT",
        "outputId": "623d3162-4790-4a86-f9c5-af4442fdecc3"
      },
      "execution_count": 72,
      "outputs": [
        {
          "output_type": "stream",
          "name": "stdout",
          "text": [
            "Accuracy Score : 0.77\n",
            "Precision Score : 0.72\n",
            "Recall Score : 0.88\n",
            "F-Score : 0.79\n"
          ]
        }
      ]
    },
    {
      "cell_type": "code",
      "source": [
        "cf_matrix_dt = confusion_matrix(test_data['target'], Y_pred_dt)\n",
        "print(cf_matrix_dt)\n",
        "\n",
        "ax = sns.heatmap(cf_matrix_dt/np.sum(cf_matrix_dt), annot=True, fmt='.2%', cmap='binary')\n",
        "\n",
        "ax.set_title('Decision Tree Classifier Confusion Matrix\\n\\n');\n",
        "ax.set_xlabel('\\nPredicted Values')\n",
        "ax.set_ylabel('Actual Values ');\n",
        "\n",
        "## Ticket labels - List must be in alphabetical order\n",
        "ax.xaxis.set_ticklabels(['0','1'])\n",
        "ax.yaxis.set_ticklabels(['0','1'])\n",
        "\n",
        "## Display the visualization of the Confusion Matrix.\n",
        "plt.show()"
      ],
      "metadata": {
        "colab": {
          "base_uri": "https://localhost:8080/",
          "height": 565
        },
        "id": "vLqPzZqBPHRV",
        "outputId": "5330994a-9259-48fe-a9c5-44f158bf7202"
      },
      "execution_count": 73,
      "outputs": [
        {
          "output_type": "stream",
          "name": "stdout",
          "text": [
            "[[264 140]\n",
            " [ 50 358]]\n"
          ]
        },
        {
          "output_type": "display_data",
          "data": {
            "text/plain": [
              "<Figure size 640x480 with 2 Axes>"
            ],
            "image/png": "[encoded data removed]"
          },
          "metadata": {}
        }
      ]
    },
    {
      "cell_type": "code",
      "source": [
        "from sklearn.naive_bayes import MultinomialNB\n",
        "from sklearn.feature_extraction.text import CountVectorizer\n",
        "\n",
        "# train the classifier\n",
        "clf = MultinomialNB()\n",
        "\n",
        "\n",
        "clf.fit(train_bow_matrix, train_data['target'])\n",
        "\n",
        "# predict the classes of the test data\n",
        "Y_pred_nb = clf.predict(test_bow_matrix)\n",
        "\n",
        "print(classification_report(test_data['target'], Y_pred_nb))"
      ],
      "metadata": {
        "colab": {
          "base_uri": "https://localhost:8080/"
        },
        "id": "vPhG_qKWociP",
        "outputId": "2ce270a6-e40c-4a81-9e3d-da8b28162081"
      },
      "execution_count": 74,
      "outputs": [
        {
          "output_type": "stream",
          "name": "stdout",
          "text": [
            "              precision    recall  f1-score   support\n",
            "\n",
            "           0       0.95      0.95      0.95       404\n",
            "           1       0.95      0.95      0.95       408\n",
            "\n",
            "    accuracy                           0.95       812\n",
            "   macro avg       0.95      0.95      0.95       812\n",
            "weighted avg       0.95      0.95      0.95       812\n",
            "\n"
          ]
        }
      ]
    },
    {
      "cell_type": "code",
      "source": [
        "print('Accuracy Score : ' + str(round(accuracy_score(test_data['target'],Y_pred_nb),2)))\n",
        "print('Precision Score : ' + str(round(precision_score(test_data['target'],Y_pred_nb),2)))\n",
        "print('Recall Score : ' + str(round(recall_score(test_data['target'],Y_pred_nb),2)))\n",
        "print('F-Score : ' + str(round(f1_score(test_data['target'],Y_pred_nb),2)))"
      ],
      "metadata": {
        "colab": {
          "base_uri": "https://localhost:8080/"
        },
        "id": "ES3yP094-wlG",
        "outputId": "f99934df-a088-4f41-f75b-118a7ed1498f"
      },
      "execution_count": 75,
      "outputs": [
        {
          "output_type": "stream",
          "name": "stdout",
          "text": [
            "Accuracy Score : 0.95\n",
            "Precision Score : 0.95\n",
            "Recall Score : 0.95\n",
            "F-Score : 0.95\n"
          ]
        }
      ]
    },
    {
      "cell_type": "code",
      "source": [
        "cf_matrix_nb = confusion_matrix(test_data['target'], Y_pred_nb)\n",
        "print(cf_matrix_nb)\n",
        "\n",
        "ax = sns.heatmap(cf_matrix_nb/np.sum(cf_matrix_nb), annot=True, fmt='.2%', cmap='binary')\n",
        "\n",
        "ax.set_title('Multinomial Naive Bayes Confusion Matrix\\n\\n');\n",
        "ax.set_xlabel('\\nPredicted Values')\n",
        "ax.set_ylabel('Actual Values ');\n",
        "\n",
        "## Ticket labels - List must be in alphabetical order\n",
        "ax.xaxis.set_ticklabels(['0','1'])\n",
        "ax.yaxis.set_ticklabels(['0','1'])\n",
        "\n",
        "## Display the visualization of the Confusion Matrix.\n",
        "plt.show()"
      ],
      "metadata": {
        "colab": {
          "base_uri": "https://localhost:8080/",
          "height": 565
        },
        "id": "sRqRUsNzPTx0",
        "outputId": "ce577bf8-d93e-416b-c2e1-e49bea47dd32"
      },
      "execution_count": 76,
      "outputs": [
        {
          "output_type": "stream",
          "name": "stdout",
          "text": [
            "[[385  19]\n",
            " [ 19 389]]\n"
          ]
        },
        {
          "output_type": "display_data",
          "data": {
            "text/plain": [
              "<Figure size 640x480 with 2 Axes>"
            ],
            "image/png": "[encoded data removed]"
          },
          "metadata": {}
        }
      ]
    },
    {
      "cell_type": "code",
      "source": [
        "#dictionary with all metrics\n",
        "accuracies = {\"Logistic Regression\":accuracy_score(test_data['target'],Y_pred_lr), \"SVC\":accuracy_score(test_data['target'],Y_pred_svc), \"Random Forest\":accuracy_score(test_data['target'],Y_pred_rf), \"Voting Classifier by hard voting\":accuracy_score(test_data['target'],Y_pred_hv), \"Voting Classifier by soft voting\":accuracy_score(test_data['target'],Y_pred_sv), 'Decision Tree Classifier': accuracy_score(test_data['target'],Y_pred_dt), 'Multinomial Naive Bayes':accuracy_score(test_data['target'],Y_pred_nb) }\n",
        "print(\"The best accuracy  score has the model: \", max(accuracies, key=accuracies.get))\n",
        "\n",
        "precisions = {\"Logistic Regression\":precision_score(test_data['target'],Y_pred_lr), \"SVC\":precision_score(test_data['target'],Y_pred_svc), \"Random Forest\":precision_score(test_data['target'],Y_pred_rf), \"Voting Classifier by hard voting\":precision_score(test_data['target'],Y_pred_hv), \"Voting Classifier by soft voting\":precision_score(test_data['target'],Y_pred_sv), 'Decision Tree Classifier': precision_score(test_data['target'],Y_pred_dt), 'Multinomial Naive Bayes':accuracy_score(test_data['target'],Y_pred_nb) }\n",
        "print(\"The best precision score has the model: \", max(precisions, key=precisions.get))\n",
        "\n",
        "recalls = {\"Logistic Regression\":recall_score(test_data['target'],Y_pred_lr), \"SVC\":recall_score(test_data['target'],Y_pred_svc), \"Random Forest\":recall_score(test_data['target'],Y_pred_rf), \"Voting Classifier by hard voting\":recall_score(test_data['target'],Y_pred_hv), \"Voting Classifier by soft voting\":recall_score(test_data['target'],Y_pred_sv), 'Decision Tree Classifier': recall_score(test_data['target'],Y_pred_dt), 'Multinomial Naive Bayes':recall_score(test_data['target'],Y_pred_nb) }\n",
        "print(\"The best recall score has the model: \", max(recalls, key=recalls.get))\n",
        "\n",
        "f1_scores = {\"Logistic Regression\":f1_score(test_data['target'],Y_pred_lr), \"SVC\":f1_score(test_data['target'],Y_pred_svc), \"Random Forest\":f1_score(test_data['target'],Y_pred_rf), \"Voting Classifier by hard voting\":f1_score(test_data['target'],Y_pred_hv), \"Voting Classifier by soft voting\":f1_score(test_data['target'],Y_pred_sv), 'Decision Tree Classifier': f1_score(test_data['target'],Y_pred_dt), 'Multinomial Naive Bayes':f1_score(test_data['target'],Y_pred_nb) }\n",
        "print(\"The best F1 score has the model: \", max(f1_scores, key=f1_scores.get))\n",
        "\n",
        "\n"
      ],
      "metadata": {
        "colab": {
          "base_uri": "https://localhost:8080/"
        },
        "id": "SR1Fm5vN_aoX",
        "outputId": "b0c5a119-e87c-4b16-862b-c4392d133186"
      },
      "execution_count": 77,
      "outputs": [
        {
          "output_type": "stream",
          "name": "stdout",
          "text": [
            "The best accuracy  score has the model:  Multinomial Naive Bayes\n",
            "The best precision score has the model:  Multinomial Naive Bayes\n",
            "The best recall score has the model:  Random Forest\n",
            "The best F1 score has the model:  Multinomial Naive Bayes\n"
          ]
        }
      ]
    },
    {
      "cell_type": "code",
      "source": [
        "#pivot table with accuracy, precision and recall metrics results\n",
        "models_keys             = list(accuracies.keys())\n",
        "accuracy_models_values  = list(accuracies.values())\n",
        "#precision_models_keys   = list(precisions.keys())\n",
        "precision_models_values = list(precisions.values())\n",
        "recall_models_values    = list(recalls.values())\n",
        "f1_score_models_values  = list(recalls.values())\n",
        "\n",
        "df_models               = pd.DataFrame({\"Model\":models_keys,\n",
        "                                       \"Accuracy\":accuracy_models_values,\n",
        "                                       \"Precision\": precision_models_values,\n",
        "                                       \"Recall\": recall_models_values,\n",
        "                                       \"F1_Score\": f1_score_models_values})\n",
        "print(df_models)"
      ],
      "metadata": {
        "colab": {
          "base_uri": "https://localhost:8080/"
        },
        "id": "sBegHZd1Arkk",
        "outputId": "5d3033b6-027d-47e6-a060-7aedea037104"
      },
      "execution_count": 78,
      "outputs": [
        {
          "output_type": "stream",
          "name": "stdout",
          "text": [
            "                              Model  Accuracy  Precision    Recall  F1_Score\n",
            "0               Logistic Regression  0.933498   0.938119  0.928922  0.928922\n",
            "1                               SVC  0.943350   0.920930  0.970588  0.970588\n",
            "2                     Random Forest  0.843596   0.765595  0.992647  0.992647\n",
            "3  Voting Classifier by hard voting  0.939655   0.941032  0.938725  0.938725\n",
            "4  Voting Classifier by soft voting  0.933498   0.889868  0.990196  0.990196\n",
            "5          Decision Tree Classifier  0.766010   0.718876  0.877451  0.877451\n",
            "6           Multinomial Naive Bayes  0.953202   0.953202  0.953431  0.953431\n"
          ]
        }
      ]
    },
    {
      "cell_type": "code",
      "source": [
        "#preparation for plotting the metrics\n",
        "accuracy_models_keys    = list(accuracies.keys())\n",
        "accuracy_models_values  = list(accuracies.values())\n",
        "\n",
        "df_accuracy             = pd.DataFrame({\"Model\":accuracy_models_keys,\n",
        "                                        \"Accuracy\":accuracy_models_values})\n",
        "\n",
        "precision_models_keys   = list(precisions.keys())\n",
        "precision_models_values = list(precisions.values())\n",
        "df_precision            = pd.DataFrame({\"Model\": precision_models_keys,\n",
        "                                        \"Precision\": precision_models_values})\n",
        "\n",
        "recall_models_keys      = list(recalls.keys())\n",
        "recall_models_values    = list(recalls.values())\n",
        "df_recall               = pd.DataFrame({\"Model\": recall_models_keys,\n",
        "                                        \"Recall\": recall_models_values})\n",
        "\n",
        "f1_score_models_keys    = list(f1_scores.keys())\n",
        "f1_score_models_values  = list(f1_scores.values())\n",
        "df_f1_score             = pd.DataFrame({\"Model\": f1_score_models_keys,\n",
        "                                        \"Recall\": f1_score_models_values})"
      ],
      "metadata": {
        "id": "kcR9hhTAENkO"
      },
      "execution_count": 79,
      "outputs": []
    },
    {
      "cell_type": "code",
      "source": [
        "#model's accuracy evaluation in barplot\n",
        "\n",
        "plt.figure(figsize = (6,4))\n",
        "ax = sns.barplot(x = list(accuracies.keys()), y = list(accuracies.values()), order=df_accuracy.sort_values('Accuracy', ascending=False).Model)\n",
        "plt.title(label = \"Comparison of model's accuracies\", fontsize = 15, fontweight = 'bold', fontname = 'Helvetica', ha = 'center')\n",
        "ax.bar_label(ax.containers[0], label_type = 'edge', fontsize = 8)\n",
        "plt.xticks(rotation=90)\n",
        "\n",
        "\n",
        "plt.show()"
      ],
      "metadata": {
        "colab": {
          "base_uri": "https://localhost:8080/",
          "height": 683
        },
        "id": "Tj05VAOWEZWd",
        "outputId": "3eb505d6-78c5-45d8-b1f9-a56ced7dca35"
      },
      "execution_count": 80,
      "outputs": [
        {
          "output_type": "stream",
          "name": "stderr",
          "text": [
            "WARNING:matplotlib.font_manager:findfont: Font family 'Helvetica' not found.\n",
            "WARNING:matplotlib.font_manager:findfont: Font family 'Helvetica' not found.\n",
            "WARNING:matplotlib.font_manager:findfont: Font family 'Helvetica' not found.\n",
            "WARNING:matplotlib.font_manager:findfont: Font family 'Helvetica' not found.\n",
            "WARNING:matplotlib.font_manager:findfont: Font family 'Helvetica' not found.\n"
          ]
        },
        {
          "output_type": "display_data",
          "data": {
            "text/plain": [
              "<Figure size 600x400 with 1 Axes>"
            ],
            "image/png": "[encoded data removed]"
          },
          "metadata": {}
        }
      ]
    },
    {
      "cell_type": "code",
      "source": [
        "#model's recall evaluation in barplot\n",
        "\n",
        "plt.figure(figsize = (6,4))\n",
        "ax = sns.barplot(x = list(recalls.keys()), y = list(recalls.values()), order=df_recall.sort_values('Recall', ascending=False).Model)\n",
        "plt.title(label = \"Comparison of model's recalls\", fontsize = 15, fontweight = 'bold', fontname = 'Helvetica', ha = 'center')\n",
        "ax.bar_label(ax.containers[0], label_type = 'edge', fontsize = 8)\n",
        "plt.xticks(rotation=90)\n",
        "\n",
        "plt.show()"
      ],
      "metadata": {
        "colab": {
          "base_uri": "https://localhost:8080/",
          "height": 683
        },
        "id": "ag62t0_0KB8E",
        "outputId": "37c20d3d-0a27-4541-b551-6541f03f33fd"
      },
      "execution_count": 81,
      "outputs": [
        {
          "output_type": "stream",
          "name": "stderr",
          "text": [
            "WARNING:matplotlib.font_manager:findfont: Font family 'Helvetica' not found.\n",
            "WARNING:matplotlib.font_manager:findfont: Font family 'Helvetica' not found.\n",
            "WARNING:matplotlib.font_manager:findfont: Font family 'Helvetica' not found.\n",
            "WARNING:matplotlib.font_manager:findfont: Font family 'Helvetica' not found.\n",
            "WARNING:matplotlib.font_manager:findfont: Font family 'Helvetica' not found.\n"
          ]
        },
        {
          "output_type": "display_data",
          "data": {
            "text/plain": [
              "<Figure size 600x400 with 1 Axes>"
            ],
            "image/png": "[encoded data removed]"
          },
          "metadata": {}
        }
      ]
    },
    {
      "cell_type": "code",
      "source": [
        "#Plotting both accuracies and recalls\n",
        "labels = [\"LR acc_rec: \" + str(round(accuracy_score(test_data['target'],Y_pred_lr),2)) + \"&\" + str(round(precision_score(test_data['target'],Y_pred_lr),2)),\n",
        "          \"SVC acc&rec: \" + str(round(accuracy_score(test_data['target'],Y_pred_svc),2)) + \"&\" + str(round(precision_score(test_data['target'],Y_pred_svc),2)),\n",
        "          \"RF acc&rec: \" + str(round(accuracy_score(test_data['target'],Y_pred_rf),2))  + \"&\" + str(round(precision_score(test_data['target'],Y_pred_rf),2)),\n",
        "          \"HV acc&rec: \" + str(round(accuracy_score(test_data['target'],Y_pred_hv),2))  + \"&\" + str(round(precision_score(test_data['target'],Y_pred_hv),2)),\n",
        "          \"SV acc&rec: \" + str(round(accuracy_score(test_data['target'],Y_pred_sv),2))  + \"&\" + str(round(precision_score(test_data['target'],Y_pred_sv),2)),\n",
        "          'DT acc_rec: ' + str(round(accuracy_score(test_data['target'],Y_pred_dt),2))  + \"&\" + str(round(precision_score(test_data['target'],Y_pred_dt),2)),\n",
        "          \"MNB acc&rec: \" + str(round(accuracy_score(test_data['target'],Y_pred_nb),2))  + \"&\" + str(round(precision_score(test_data['target'],Y_pred_nb),2)),]\n",
        "x      = [accuracy_score(test_data['target'],Y_pred_lr), accuracy_score(test_data['target'],Y_pred_svc), accuracy_score(test_data['target'],Y_pred_rf), accuracy_score(test_data['target'],Y_pred_hv), accuracy_score(test_data['target'],Y_pred_sv), accuracy_score(test_data['target'],Y_pred_dt), accuracy_score(test_data['target'],Y_pred_nb)]\n",
        "y      = [precision_score(test_data['target'],Y_pred_lr), precision_score(test_data['target'],Y_pred_svc), precision_score(test_data['target'],Y_pred_rf), precision_score(test_data['target'],Y_pred_hv), precision_score(test_data['target'],Y_pred_sv), precision_score(test_data['target'],Y_pred_dt), precision_score(test_data['target'],Y_pred_nb)]\n",
        "\n",
        "figure = plt.figure(figsize = (15,10))\n",
        "ax     = figure.add_subplot(111)\n",
        "ax.yaxis.set_label_position(\"right\")\n",
        "ax.yaxis.tick_right()\n",
        "plt.xlim(0.5, 1)\n",
        "plt.ylim(0.5, 1)\n",
        "plt.title(label=\"Model's performance comparison\", fontsize = 15, fontweight = 'bold', fontname = 'Helvetica', ha = 'center')\n",
        "plt.xlabel('Accuracy')\n",
        "plt.ylabel('Recall')\n",
        "plt.scatter(x, y, alpha = 0.5, c='#409996', s=500)\n",
        "for i in range(len(labels)):\n",
        "    plt.annotate(labels[i] , (x[i] , y[i]))\n",
        "plt.show()"
      ],
      "metadata": {
        "colab": {
          "base_uri": "https://localhost:8080/",
          "height": 961
        },
        "id": "WdjXVjCJKvMz",
        "outputId": "c64d623d-21d8-48d2-c506-234e126c02da"
      },
      "execution_count": 82,
      "outputs": [
        {
          "output_type": "stream",
          "name": "stderr",
          "text": [
            "WARNING:matplotlib.font_manager:findfont: Font family 'Helvetica' not found.\n",
            "WARNING:matplotlib.font_manager:findfont: Font family 'Helvetica' not found.\n",
            "WARNING:matplotlib.font_manager:findfont: Font family 'Helvetica' not found.\n",
            "WARNING:matplotlib.font_manager:findfont: Font family 'Helvetica' not found.\n",
            "WARNING:matplotlib.font_manager:findfont: Font family 'Helvetica' not found.\n"
          ]
        },
        {
          "output_type": "display_data",
          "data": {
            "text/plain": [
              "<Figure size 1500x1000 with 1 Axes>"
            ],
            "image/png": "[encoded data removed]"
          },
          "metadata": {}
        }
      ]
    },
    {
      "cell_type": "code",
      "source": [
        "import pickle\n",
        "pickle.dump(lr_model, open('model.pkl', 'wb'))\n",
        "pickle.dump(vectorizer, open('tfidfvect.pkl', 'wb'))"
      ],
      "metadata": {
        "id": "R0lGr2GR8SNf"
      },
      "execution_count": 83,
      "outputs": []
    }
  ]
}